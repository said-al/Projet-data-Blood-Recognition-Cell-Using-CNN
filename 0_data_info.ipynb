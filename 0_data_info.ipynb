{
 "cells": [
  {
   "cell_type": "code",
   "execution_count": 1,
   "id": "25dc6695-1aee-4230-8cef-c25d6cced77a",
   "metadata": {
    "id": "25dc6695-1aee-4230-8cef-c25d6cced77a"
   },
   "outputs": [],
   "source": [
    "import glob\n",
    "import cv2 # import OpenCV\n",
    "import pandas as pd\n",
    "import numpy as np\n",
    "import os"
   ]
  },
  {
   "cell_type": "code",
   "execution_count": 2,
   "id": "99acb182",
   "metadata": {
    "id": "99acb182",
    "outputId": "1e6ac922-5c76-4170-ff5e-81e891dcc531"
   },
   "outputs": [
    {
     "name": "stdout",
     "output_type": "stream",
     "text": [
      "  Username: Caroline\n",
      "  Dataset directory: /home/caroline/caroline/FORMATION/Datascientest/Projet_Blood_Cell/datasets/PBC_dataset_normal_DIB/\n",
      "  Saved analysis: /home/caroline/caroline/FORMATION/Datascientest/Projet_Blood_Cell/analyses/\n",
      "  Data preprocessed directory: /home/caroline/caroline/FORMATION/Datascientest/Projet_Blood_Cell/data_prep/\n",
      "  Models directory: nan\n"
     ]
    }
   ],
   "source": [
    "try:\n",
    "    # identifiant Windows\n",
    "    import subprocess, re\n",
    "    ide = re.findall(r'[A-Z0-9-]+-[A-Z0-9-]+',str(subprocess.check_output('wmic csproduct get uuid').strip()))[0]\n",
    "except OSError:\n",
    "    try:\n",
    "        # identifiant Linux\n",
    "        import pwd\n",
    "        ide = pwd.getpwuid( os.getuid() ).pw_name\n",
    "    except OSError:\n",
    "        # identifiant Mac OS\n",
    "        import uuid\n",
    "        ide = hex(uuid.getnode())\n",
    "\n",
    "local_var = pd.read_csv('path.csv',index_col=0)\n",
    "\n",
    "if ide in local_var.index:\n",
    "    username = local_var.loc[ide,'name']\n",
    "    path_dataset = local_var.loc[ide,'path_dataset']\n",
    "    path_analysis = local_var.loc[ide,'path_analysis']\n",
    "    path_data_prep = local_var.loc[ide,'path_data_prep']\n",
    "    path_models = local_var.loc[ide,'path_models']\n",
    "    print(f'  Username: {username}\\n'\n",
    "         +f'  Dataset directory: {path_dataset}\\n'\n",
    "         +f'  Saved analysis: {path_analysis}\\n'\n",
    "         +f'  Data preprocessed directory: {path_data_prep}\\n'\n",
    "         +f'  Models directory: {path_models}')\n",
    "else:\n",
    "    print('Computer not recognized :\\n'\n",
    "         f'  Please enter your computer_id {ide} and the associated parameters in \\path.csv')\n",
    "    \n",
    "## Chemin pour aller récupérer les images stocker dans le dossier 'PBC_dataset_normal_DIB'\n",
    "path = path_dataset"
   ]
  },
  {
   "cell_type": "code",
   "execution_count": 3,
   "id": "5c2fdf9c-b1ca-4f2c-af89-9134b6504394",
   "metadata": {},
   "outputs": [
    {
     "name": "stdout",
     "output_type": "stream",
     "text": [
      "17202\n"
     ]
    }
   ],
   "source": [
    "# directory='data\\\\PBC_dataset_normal_DIB'\n",
    "files=glob.glob(path_dataset+'*/*.jpg')\n",
    "files = [filename.replace('\\\\','/') for filename in files]\n",
    "print(len(files))"
   ]
  },
  {
   "cell_type": "code",
   "execution_count": 4,
   "id": "835f2185-f982-44db-8a4e-d3d4c21fd1f0",
   "metadata": {
    "id": "835f2185-f982-44db-8a4e-d3d4c21fd1f0",
    "outputId": "45fa2a12-b0d6-419b-a54c-33fcf851dae4"
   },
   "outputs": [
    {
     "data": {
      "text/plain": [
       "'/home/caroline/caroline/FORMATION/Datascientest/Projet_Blood_Cell/datasets/PBC_dataset_normal_DIB/lymphocyte/LY_607133.jpg'"
      ]
     },
     "execution_count": 4,
     "metadata": {},
     "output_type": "execute_result"
    }
   ],
   "source": [
    "files[210]"
   ]
  },
  {
   "cell_type": "code",
   "execution_count": 5,
   "id": "d6321582-e85c-4a11-b5fe-da95e253c5a0",
   "metadata": {
    "id": "d6321582-e85c-4a11-b5fe-da95e253c5a0",
    "outputId": "a7924422-4f05-4ae0-c8a1-ee3e952462f8"
   },
   "outputs": [
    {
     "data": {
      "text/html": [
       "<div>\n",
       "<style scoped>\n",
       "    .dataframe tbody tr th:only-of-type {\n",
       "        vertical-align: middle;\n",
       "    }\n",
       "\n",
       "    .dataframe tbody tr th {\n",
       "        vertical-align: top;\n",
       "    }\n",
       "\n",
       "    .dataframe thead th {\n",
       "        text-align: right;\n",
       "    }\n",
       "</style>\n",
       "<table border=\"1\" class=\"dataframe\">\n",
       "  <thead>\n",
       "    <tr style=\"text-align: right;\">\n",
       "      <th></th>\n",
       "      <th>filename</th>\n",
       "      <th>cell_type</th>\n",
       "      <th>img_name</th>\n",
       "      <th>img_code</th>\n",
       "      <th>img_type</th>\n",
       "    </tr>\n",
       "  </thead>\n",
       "  <tbody>\n",
       "    <tr>\n",
       "      <th>0</th>\n",
       "      <td>lymphocyte/LY_595308.jpg</td>\n",
       "      <td>lymphocyte</td>\n",
       "      <td>LY_595308.jpg</td>\n",
       "      <td>LY</td>\n",
       "      <td>jpg</td>\n",
       "    </tr>\n",
       "    <tr>\n",
       "      <th>1</th>\n",
       "      <td>lymphocyte/LY_329937.jpg</td>\n",
       "      <td>lymphocyte</td>\n",
       "      <td>LY_329937.jpg</td>\n",
       "      <td>LY</td>\n",
       "      <td>jpg</td>\n",
       "    </tr>\n",
       "    <tr>\n",
       "      <th>2</th>\n",
       "      <td>lymphocyte/LY_500097.jpg</td>\n",
       "      <td>lymphocyte</td>\n",
       "      <td>LY_500097.jpg</td>\n",
       "      <td>LY</td>\n",
       "      <td>jpg</td>\n",
       "    </tr>\n",
       "    <tr>\n",
       "      <th>3</th>\n",
       "      <td>lymphocyte/LY_995949.jpg</td>\n",
       "      <td>lymphocyte</td>\n",
       "      <td>LY_995949.jpg</td>\n",
       "      <td>LY</td>\n",
       "      <td>jpg</td>\n",
       "    </tr>\n",
       "    <tr>\n",
       "      <th>4</th>\n",
       "      <td>lymphocyte/LY_6217.jpg</td>\n",
       "      <td>lymphocyte</td>\n",
       "      <td>LY_6217.jpg</td>\n",
       "      <td>LY</td>\n",
       "      <td>jpg</td>\n",
       "    </tr>\n",
       "  </tbody>\n",
       "</table>\n",
       "</div>"
      ],
      "text/plain": [
       "                   filename   cell_type       img_name img_code img_type\n",
       "0  lymphocyte/LY_595308.jpg  lymphocyte  LY_595308.jpg       LY      jpg\n",
       "1  lymphocyte/LY_329937.jpg  lymphocyte  LY_329937.jpg       LY      jpg\n",
       "2  lymphocyte/LY_500097.jpg  lymphocyte  LY_500097.jpg       LY      jpg\n",
       "3  lymphocyte/LY_995949.jpg  lymphocyte  LY_995949.jpg       LY      jpg\n",
       "4    lymphocyte/LY_6217.jpg  lymphocyte    LY_6217.jpg       LY      jpg"
      ]
     },
     "execution_count": 5,
     "metadata": {},
     "output_type": "execute_result"
    }
   ],
   "source": [
    "df=pd.DataFrame({'filename':files})\n",
    "df['cell_type']=df.filename.apply(lambda x: x.split('/')[-2])\n",
    "df['img_name']=df.filename.apply(lambda x: x.split('/')[-1])\n",
    "df['img_code']=df.filename.apply(lambda x: x.split('/')[-1].split('_')[0])\n",
    "df['img_type']=df.filename.apply(lambda x: x.split('/')[-1][-3:])\n",
    "df['filename']=df.filename.apply(lambda x: x.replace(path_dataset,''))\n",
    "df.head()"
   ]
  },
  {
   "cell_type": "code",
   "execution_count": 6,
   "id": "001e340a-6e81-40a5-9927-8ae4593acc62",
   "metadata": {
    "id": "001e340a-6e81-40a5-9927-8ae4593acc62"
   },
   "outputs": [],
   "source": [
    "# get information reading the file\n",
    "# !!!! N.B. Paul : J'ai supprimé le fichier neutrophil/DS_169665.jpg qui posait des problèmes - sûrement corrompu\n",
    "\n",
    "img_dim,img_height,img_width=[],[],[]\n",
    "\n",
    "for file in files:\n",
    "    # print(file)\n",
    "    img = cv2.imread(file,cv2.IMREAD_COLOR)\n",
    "    try:\n",
    "        height, width = img.shape[:2]\n",
    "    except AttributeError:\n",
    "        height, width = 0,0 # when Open CV return an error (NoneType object while reading the file)\n",
    "    \n",
    "    img_dim.append(str(height) + ' x ' + str(width))\n",
    "    img_height.append(height)\n",
    "    img_width.append(width)"
   ]
  },
  {
   "cell_type": "code",
   "execution_count": 7,
   "id": "4dfa2e34-d23b-408b-88d6-8c97bc18a86f",
   "metadata": {
    "id": "4dfa2e34-d23b-408b-88d6-8c97bc18a86f",
    "outputId": "7d707f85-f53b-4606-db0e-fc2fc7d69289"
   },
   "outputs": [
    {
     "data": {
      "text/html": [
       "<div>\n",
       "<style scoped>\n",
       "    .dataframe tbody tr th:only-of-type {\n",
       "        vertical-align: middle;\n",
       "    }\n",
       "\n",
       "    .dataframe tbody tr th {\n",
       "        vertical-align: top;\n",
       "    }\n",
       "\n",
       "    .dataframe thead th {\n",
       "        text-align: right;\n",
       "    }\n",
       "</style>\n",
       "<table border=\"1\" class=\"dataframe\">\n",
       "  <thead>\n",
       "    <tr style=\"text-align: right;\">\n",
       "      <th></th>\n",
       "      <th>filename</th>\n",
       "      <th>cell_type</th>\n",
       "      <th>img_name</th>\n",
       "      <th>img_code</th>\n",
       "      <th>img_type</th>\n",
       "      <th>img_dim</th>\n",
       "      <th>img_height</th>\n",
       "      <th>img_width</th>\n",
       "      <th>img_pixels</th>\n",
       "    </tr>\n",
       "  </thead>\n",
       "  <tbody>\n",
       "    <tr>\n",
       "      <th>0</th>\n",
       "      <td>lymphocyte/LY_595308.jpg</td>\n",
       "      <td>lymphocyte</td>\n",
       "      <td>LY_595308.jpg</td>\n",
       "      <td>LY</td>\n",
       "      <td>jpg</td>\n",
       "      <td>363 x 360</td>\n",
       "      <td>363</td>\n",
       "      <td>360</td>\n",
       "      <td>130680</td>\n",
       "    </tr>\n",
       "    <tr>\n",
       "      <th>1</th>\n",
       "      <td>lymphocyte/LY_329937.jpg</td>\n",
       "      <td>lymphocyte</td>\n",
       "      <td>LY_329937.jpg</td>\n",
       "      <td>LY</td>\n",
       "      <td>jpg</td>\n",
       "      <td>363 x 360</td>\n",
       "      <td>363</td>\n",
       "      <td>360</td>\n",
       "      <td>130680</td>\n",
       "    </tr>\n",
       "    <tr>\n",
       "      <th>2</th>\n",
       "      <td>lymphocyte/LY_500097.jpg</td>\n",
       "      <td>lymphocyte</td>\n",
       "      <td>LY_500097.jpg</td>\n",
       "      <td>LY</td>\n",
       "      <td>jpg</td>\n",
       "      <td>363 x 360</td>\n",
       "      <td>363</td>\n",
       "      <td>360</td>\n",
       "      <td>130680</td>\n",
       "    </tr>\n",
       "    <tr>\n",
       "      <th>3</th>\n",
       "      <td>lymphocyte/LY_995949.jpg</td>\n",
       "      <td>lymphocyte</td>\n",
       "      <td>LY_995949.jpg</td>\n",
       "      <td>LY</td>\n",
       "      <td>jpg</td>\n",
       "      <td>363 x 360</td>\n",
       "      <td>363</td>\n",
       "      <td>360</td>\n",
       "      <td>130680</td>\n",
       "    </tr>\n",
       "    <tr>\n",
       "      <th>4</th>\n",
       "      <td>lymphocyte/LY_6217.jpg</td>\n",
       "      <td>lymphocyte</td>\n",
       "      <td>LY_6217.jpg</td>\n",
       "      <td>LY</td>\n",
       "      <td>jpg</td>\n",
       "      <td>363 x 360</td>\n",
       "      <td>363</td>\n",
       "      <td>360</td>\n",
       "      <td>130680</td>\n",
       "    </tr>\n",
       "  </tbody>\n",
       "</table>\n",
       "</div>"
      ],
      "text/plain": [
       "                   filename   cell_type       img_name img_code img_type  \\\n",
       "0  lymphocyte/LY_595308.jpg  lymphocyte  LY_595308.jpg       LY      jpg   \n",
       "1  lymphocyte/LY_329937.jpg  lymphocyte  LY_329937.jpg       LY      jpg   \n",
       "2  lymphocyte/LY_500097.jpg  lymphocyte  LY_500097.jpg       LY      jpg   \n",
       "3  lymphocyte/LY_995949.jpg  lymphocyte  LY_995949.jpg       LY      jpg   \n",
       "4    lymphocyte/LY_6217.jpg  lymphocyte    LY_6217.jpg       LY      jpg   \n",
       "\n",
       "     img_dim  img_height  img_width  img_pixels  \n",
       "0  363 x 360         363        360      130680  \n",
       "1  363 x 360         363        360      130680  \n",
       "2  363 x 360         363        360      130680  \n",
       "3  363 x 360         363        360      130680  \n",
       "4  363 x 360         363        360      130680  "
      ]
     },
     "execution_count": 7,
     "metadata": {},
     "output_type": "execute_result"
    }
   ],
   "source": [
    "df=pd.concat([df,pd.DataFrame({\n",
    "                  'img_dim':img_dim\n",
    "                 ,'img_height':img_height\n",
    "                 ,'img_width':img_width\n",
    "                 ,'img_pixels':[h*w for h,w in zip(img_height,img_width)]\n",
    "                })],axis=1)\n",
    "df.head()"
   ]
  },
  {
   "cell_type": "code",
   "execution_count": 8,
   "id": "82496937-0f5e-49c7-882a-8482661e0d02",
   "metadata": {
    "id": "82496937-0f5e-49c7-882a-8482661e0d02",
    "outputId": "e11d27fa-3bc6-4cf3-926d-75b65b24afd1"
   },
   "outputs": [
    {
     "name": "stdout",
     "output_type": "stream",
     "text": [
      "<class 'pandas.core.frame.DataFrame'>\n",
      "RangeIndex: 17202 entries, 0 to 17201\n",
      "Data columns (total 9 columns):\n",
      " #   Column      Non-Null Count  Dtype \n",
      "---  ------      --------------  ----- \n",
      " 0   filename    17202 non-null  object\n",
      " 1   cell_type   17202 non-null  object\n",
      " 2   img_name    17202 non-null  object\n",
      " 3   img_code    17202 non-null  object\n",
      " 4   img_type    17202 non-null  object\n",
      " 5   img_dim     17202 non-null  object\n",
      " 6   img_height  17202 non-null  int64 \n",
      " 7   img_width   17202 non-null  int64 \n",
      " 8   img_pixels  17202 non-null  int64 \n",
      "dtypes: int64(3), object(6)\n",
      "memory usage: 1.2+ MB\n"
     ]
    },
    {
     "data": {
      "text/plain": [
       "filename      0\n",
       "cell_type     0\n",
       "img_name      0\n",
       "img_code      0\n",
       "img_type      0\n",
       "img_dim       0\n",
       "img_height    0\n",
       "img_width     0\n",
       "img_pixels    0\n",
       "dtype: int64"
      ]
     },
     "execution_count": 8,
     "metadata": {},
     "output_type": "execute_result"
    }
   ],
   "source": [
    "df.info()\n",
    "df.isna().sum()"
   ]
  },
  {
   "cell_type": "code",
   "execution_count": 9,
   "id": "73763b71",
   "metadata": {
    "id": "73763b71",
    "outputId": "74390842-1cd6-4466-a804-fefedbab2ef3"
   },
   "outputs": [
    {
     "data": {
      "text/plain": [
       "neutrophil      3439\n",
       "eosinophil      3117\n",
       "ig              2895\n",
       "platelet        2348\n",
       "erythroblast    1551\n",
       "monocyte        1420\n",
       "basophil        1218\n",
       "lymphocyte      1214\n",
       "Name: cell_type, dtype: int64"
      ]
     },
     "execution_count": 9,
     "metadata": {},
     "output_type": "execute_result"
    }
   ],
   "source": [
    "df.cell_type.value_counts()"
   ]
  },
  {
   "cell_type": "code",
   "execution_count": 10,
   "id": "0b2ae3e8",
   "metadata": {
    "id": "0b2ae3e8",
    "outputId": "f53cb3ac-c25e-4b70-9ce1-84aaf5f1730b"
   },
   "outputs": [
    {
     "data": {
      "text/plain": [
       "EO            3117\n",
       "PLATELET      2348\n",
       "SNE           1711\n",
       "BNE           1678\n",
       "ERB           1551\n",
       "MO            1420\n",
       "BA            1218\n",
       "LY            1214\n",
       "MY            1137\n",
       "MMY           1015\n",
       "PMY            592\n",
       "IG             151\n",
       "NEUTROPHIL      50\n",
       "Name: img_code, dtype: int64"
      ]
     },
     "execution_count": 10,
     "metadata": {},
     "output_type": "execute_result"
    }
   ],
   "source": [
    "df.img_code.value_counts()"
   ]
  },
  {
   "cell_type": "code",
   "execution_count": 11,
   "id": "dff501c2-db81-44a6-93fe-c826840e39f0",
   "metadata": {
    "id": "dff501c2-db81-44a6-93fe-c826840e39f0",
    "outputId": "dadfc4c8-2841-49f2-e435-239591b426f1"
   },
   "outputs": [
    {
     "data": {
      "text/plain": [
       "363 x 360    16749\n",
       "369 x 366      250\n",
       "360 x 360      198\n",
       "361 x 360        2\n",
       "360 x 361        1\n",
       "360 x 359        1\n",
       "360 x 362        1\n",
       "Name: img_dim, dtype: int64"
      ]
     },
     "execution_count": 11,
     "metadata": {},
     "output_type": "execute_result"
    }
   ],
   "source": [
    "df.img_dim.value_counts()"
   ]
  },
  {
   "cell_type": "code",
   "execution_count": 12,
   "id": "9d11f863",
   "metadata": {
    "id": "9d11f863",
    "outputId": "5e87a803-3d90-4b32-d2ec-7dbc43ac02f2"
   },
   "outputs": [
    {
     "data": {
      "text/html": [
       "<div>\n",
       "<style scoped>\n",
       "    .dataframe tbody tr th:only-of-type {\n",
       "        vertical-align: middle;\n",
       "    }\n",
       "\n",
       "    .dataframe tbody tr th {\n",
       "        vertical-align: top;\n",
       "    }\n",
       "\n",
       "    .dataframe thead th {\n",
       "        text-align: right;\n",
       "    }\n",
       "</style>\n",
       "<table border=\"1\" class=\"dataframe\">\n",
       "  <thead>\n",
       "    <tr style=\"text-align: right;\">\n",
       "      <th></th>\n",
       "      <th></th>\n",
       "      <th>count</th>\n",
       "    </tr>\n",
       "    <tr>\n",
       "      <th>cell_type</th>\n",
       "      <th>img_code</th>\n",
       "      <th></th>\n",
       "    </tr>\n",
       "  </thead>\n",
       "  <tbody>\n",
       "    <tr>\n",
       "      <th>basophil</th>\n",
       "      <th>BA</th>\n",
       "      <td>1218</td>\n",
       "    </tr>\n",
       "    <tr>\n",
       "      <th>eosinophil</th>\n",
       "      <th>EO</th>\n",
       "      <td>3117</td>\n",
       "    </tr>\n",
       "    <tr>\n",
       "      <th>erythroblast</th>\n",
       "      <th>ERB</th>\n",
       "      <td>1551</td>\n",
       "    </tr>\n",
       "    <tr>\n",
       "      <th rowspan=\"4\" valign=\"top\">ig</th>\n",
       "      <th>IG</th>\n",
       "      <td>151</td>\n",
       "    </tr>\n",
       "    <tr>\n",
       "      <th>MMY</th>\n",
       "      <td>1015</td>\n",
       "    </tr>\n",
       "    <tr>\n",
       "      <th>MY</th>\n",
       "      <td>1137</td>\n",
       "    </tr>\n",
       "    <tr>\n",
       "      <th>PMY</th>\n",
       "      <td>592</td>\n",
       "    </tr>\n",
       "    <tr>\n",
       "      <th>lymphocyte</th>\n",
       "      <th>LY</th>\n",
       "      <td>1214</td>\n",
       "    </tr>\n",
       "    <tr>\n",
       "      <th>monocyte</th>\n",
       "      <th>MO</th>\n",
       "      <td>1420</td>\n",
       "    </tr>\n",
       "    <tr>\n",
       "      <th rowspan=\"3\" valign=\"top\">neutrophil</th>\n",
       "      <th>BNE</th>\n",
       "      <td>1678</td>\n",
       "    </tr>\n",
       "    <tr>\n",
       "      <th>NEUTROPHIL</th>\n",
       "      <td>50</td>\n",
       "    </tr>\n",
       "    <tr>\n",
       "      <th>SNE</th>\n",
       "      <td>1711</td>\n",
       "    </tr>\n",
       "    <tr>\n",
       "      <th>platelet</th>\n",
       "      <th>PLATELET</th>\n",
       "      <td>2348</td>\n",
       "    </tr>\n",
       "  </tbody>\n",
       "</table>\n",
       "</div>"
      ],
      "text/plain": [
       "                         count\n",
       "cell_type    img_code         \n",
       "basophil     BA           1218\n",
       "eosinophil   EO           3117\n",
       "erythroblast ERB          1551\n",
       "ig           IG            151\n",
       "             MMY          1015\n",
       "             MY           1137\n",
       "             PMY           592\n",
       "lymphocyte   LY           1214\n",
       "monocyte     MO           1420\n",
       "neutrophil   BNE          1678\n",
       "             NEUTROPHIL     50\n",
       "             SNE          1711\n",
       "platelet     PLATELET     2348"
      ]
     },
     "execution_count": 12,
     "metadata": {},
     "output_type": "execute_result"
    }
   ],
   "source": [
    "gb=df.groupby(['cell_type','img_code']).agg({'filename':'count'}).rename(columns={'filename':'count'})\n",
    "gb"
   ]
  },
  {
   "cell_type": "code",
   "execution_count": 13,
   "id": "a5ebdb85-dd70-463c-b1a8-1d528fdcb9b3",
   "metadata": {
    "id": "a5ebdb85-dd70-463c-b1a8-1d528fdcb9b3",
    "outputId": "166ca85d-ec76-4b92-d6db-99d4fcf63ec7"
   },
   "outputs": [
    {
     "data": {
      "text/html": [
       "<div>\n",
       "<style scoped>\n",
       "    .dataframe tbody tr th:only-of-type {\n",
       "        vertical-align: middle;\n",
       "    }\n",
       "\n",
       "    .dataframe tbody tr th {\n",
       "        vertical-align: top;\n",
       "    }\n",
       "\n",
       "    .dataframe thead th {\n",
       "        text-align: right;\n",
       "    }\n",
       "</style>\n",
       "<table border=\"1\" class=\"dataframe\">\n",
       "  <thead>\n",
       "    <tr style=\"text-align: right;\">\n",
       "      <th></th>\n",
       "      <th>filename</th>\n",
       "      <th>cell_type</th>\n",
       "      <th>img_name</th>\n",
       "      <th>cell_subtype_key</th>\n",
       "      <th>img_type</th>\n",
       "      <th>img_dim</th>\n",
       "      <th>img_height</th>\n",
       "      <th>img_width</th>\n",
       "      <th>img_pixels</th>\n",
       "    </tr>\n",
       "  </thead>\n",
       "  <tbody>\n",
       "    <tr>\n",
       "      <th>0</th>\n",
       "      <td>lymphocyte/LY_595308.jpg</td>\n",
       "      <td>lymphocyte</td>\n",
       "      <td>LY_595308.jpg</td>\n",
       "      <td>LY</td>\n",
       "      <td>jpg</td>\n",
       "      <td>363 x 360</td>\n",
       "      <td>363</td>\n",
       "      <td>360</td>\n",
       "      <td>130680</td>\n",
       "    </tr>\n",
       "    <tr>\n",
       "      <th>1</th>\n",
       "      <td>lymphocyte/LY_329937.jpg</td>\n",
       "      <td>lymphocyte</td>\n",
       "      <td>LY_329937.jpg</td>\n",
       "      <td>LY</td>\n",
       "      <td>jpg</td>\n",
       "      <td>363 x 360</td>\n",
       "      <td>363</td>\n",
       "      <td>360</td>\n",
       "      <td>130680</td>\n",
       "    </tr>\n",
       "    <tr>\n",
       "      <th>2</th>\n",
       "      <td>lymphocyte/LY_500097.jpg</td>\n",
       "      <td>lymphocyte</td>\n",
       "      <td>LY_500097.jpg</td>\n",
       "      <td>LY</td>\n",
       "      <td>jpg</td>\n",
       "      <td>363 x 360</td>\n",
       "      <td>363</td>\n",
       "      <td>360</td>\n",
       "      <td>130680</td>\n",
       "    </tr>\n",
       "    <tr>\n",
       "      <th>3</th>\n",
       "      <td>lymphocyte/LY_995949.jpg</td>\n",
       "      <td>lymphocyte</td>\n",
       "      <td>LY_995949.jpg</td>\n",
       "      <td>LY</td>\n",
       "      <td>jpg</td>\n",
       "      <td>363 x 360</td>\n",
       "      <td>363</td>\n",
       "      <td>360</td>\n",
       "      <td>130680</td>\n",
       "    </tr>\n",
       "    <tr>\n",
       "      <th>4</th>\n",
       "      <td>lymphocyte/LY_6217.jpg</td>\n",
       "      <td>lymphocyte</td>\n",
       "      <td>LY_6217.jpg</td>\n",
       "      <td>LY</td>\n",
       "      <td>jpg</td>\n",
       "      <td>363 x 360</td>\n",
       "      <td>363</td>\n",
       "      <td>360</td>\n",
       "      <td>130680</td>\n",
       "    </tr>\n",
       "  </tbody>\n",
       "</table>\n",
       "</div>"
      ],
      "text/plain": [
       "                   filename   cell_type       img_name cell_subtype_key  \\\n",
       "0  lymphocyte/LY_595308.jpg  lymphocyte  LY_595308.jpg               LY   \n",
       "1  lymphocyte/LY_329937.jpg  lymphocyte  LY_329937.jpg               LY   \n",
       "2  lymphocyte/LY_500097.jpg  lymphocyte  LY_500097.jpg               LY   \n",
       "3  lymphocyte/LY_995949.jpg  lymphocyte  LY_995949.jpg               LY   \n",
       "4    lymphocyte/LY_6217.jpg  lymphocyte    LY_6217.jpg               LY   \n",
       "\n",
       "  img_type    img_dim  img_height  img_width  img_pixels  \n",
       "0      jpg  363 x 360         363        360      130680  \n",
       "1      jpg  363 x 360         363        360      130680  \n",
       "2      jpg  363 x 360         363        360      130680  \n",
       "3      jpg  363 x 360         363        360      130680  \n",
       "4      jpg  363 x 360         363        360      130680  "
      ]
     },
     "execution_count": 13,
     "metadata": {},
     "output_type": "execute_result"
    }
   ],
   "source": [
    "df.rename(columns={'img_code':'cell_subtype_key'}, inplace=True)\n",
    "df.head()"
   ]
  },
  {
   "cell_type": "code",
   "execution_count": 14,
   "id": "7a232426",
   "metadata": {
    "id": "7a232426"
   },
   "outputs": [],
   "source": [
    "# pour sauvegarder la table data.csv\n",
    "df.to_csv('img_info.csv',index=False)"
   ]
  },
  {
   "cell_type": "code",
   "execution_count": 15,
   "id": "b9b83190-0f7d-4bec-b0e0-161e5be34883",
   "metadata": {
    "id": "b9b83190-0f7d-4bec-b0e0-161e5be34883"
   },
   "outputs": [
    {
     "name": "stdout",
     "output_type": "stream",
     "text": [
      "** Path: /home/caroline/caroline/FORMATION/Datascientest/Projet_Blood_Cell/datasets/PBC_dataset_normal_DIB/platelet/PLATELET_350271.jpg  ******\r"
     ]
    }
   ],
   "source": [
    "# vérifier si les fichiers ont les bonnes extensions et ne sont pas corrompus :\n",
    "\n",
    "import os\n",
    "from PIL import Image\n",
    "\n",
    "folder_path = path_dataset\n",
    "extensions = []\n",
    "for fldr in os.listdir(folder_path):\n",
    "    sub_folder_path = os.path.join(folder_path, fldr)\n",
    "    for filee in os.listdir(sub_folder_path):\n",
    "        file_path = os.path.join(sub_folder_path, filee)\n",
    "        print('** Path: {}  **'.format(file_path), end=\"\\r\", flush=True)\n",
    "        im = Image.open(file_path)\n",
    "        rgb_im = im.convert('RGB')\n",
    "        if filee.split('.')[1] not in extensions:\n",
    "            extensions.append(filee.split('.')[1])"
   ]
  },
  {
   "cell_type": "code",
   "execution_count": null,
   "id": "5284220a-cd70-4981-bff9-216bcec4d9b3",
   "metadata": {},
   "outputs": [],
   "source": []
  }
 ],
 "metadata": {
  "colab": {
   "name": "01_transformation.ipynb",
   "provenance": []
  },
  "kernelspec": {
   "display_name": "Python 3 (ipykernel)",
   "language": "python",
   "name": "python3"
  },
  "language_info": {
   "codemirror_mode": {
    "name": "ipython",
    "version": 3
   },
   "file_extension": ".py",
   "mimetype": "text/x-python",
   "name": "python",
   "nbconvert_exporter": "python",
   "pygments_lexer": "ipython3",
   "version": "3.9.9"
  },
  "toc-autonumbering": true,
  "toc-showmarkdowntxt": false
 },
 "nbformat": 4,
 "nbformat_minor": 5
}
