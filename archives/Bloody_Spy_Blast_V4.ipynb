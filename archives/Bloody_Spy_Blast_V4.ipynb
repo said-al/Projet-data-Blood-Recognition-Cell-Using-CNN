{
 "cells": [
  {
   "cell_type": "markdown",
   "metadata": {
    "id": "7HXas2RZdJfv"
   },
   "source": [
    "## Data"
   ]
  },
  {
   "cell_type": "code",
   "execution_count": 1,
   "metadata": {
    "colab": {
     "base_uri": "https://localhost:8080/"
    },
    "executionInfo": {
     "elapsed": 40289,
     "status": "ok",
     "timestamp": 1639731845706,
     "user": {
      "displayName": "C LD",
      "photoUrl": "https://lh3.googleusercontent.com/a/default-user=s64",
      "userId": "17723937672986684074"
     },
     "user_tz": -60
    },
    "id": "K6CBLgijSs6E",
    "outputId": "595a70df-ddea-4394-85bf-9ecd1eda2109"
   },
   "outputs": [
    {
     "name": "stdout",
     "output_type": "stream",
     "text": [
      "Mounted at /content/drive\n"
     ]
    }
   ],
   "source": [
    "from google.colab import drive\n",
    "drive.mount('/content/drive')"
   ]
  },
  {
   "cell_type": "markdown",
   "metadata": {
    "id": "HFDCU2p1dJf2"
   },
   "source": [
    "Nous disposons d'un ensemble de données de 17092 images de cellules normales du sang périphérique, les images sont réparties sur 8 classes de types distincts à savoir : 'basophil','eosinophil', 'erythroblast', 'immature granulocytes', 'lymphocyte', 'monocyte', 'neutrophil' et 'platelet'.\n",
    "\n",
    "Dans ce notebook on va effectuer un audit général de nos images et quelques visualisations.  "
   ]
  },
  {
   "cell_type": "markdown",
   "metadata": {
    "id": "QMbdaSDPdJf3"
   },
   "source": [
    "## 1. Charger les données"
   ]
  },
  {
   "cell_type": "code",
   "execution_count": 2,
   "metadata": {
    "colab": {
     "base_uri": "https://localhost:8080/"
    },
    "executionInfo": {
     "elapsed": 3012,
     "status": "ok",
     "timestamp": 1639731848710,
     "user": {
      "displayName": "C LD",
      "photoUrl": "https://lh3.googleusercontent.com/a/default-user=s64",
      "userId": "17723937672986684074"
     },
     "user_tz": -60
    },
    "id": "IdMxEK2odPX-",
    "outputId": "e1697623-6b89-42f4-895d-b39d7312d427"
   },
   "outputs": [
    {
     "name": "stdout",
     "output_type": "stream",
     "text": [
      "Drive already mounted at /content/drive; to attempt to forcibly remount, call drive.mount(\"/content/drive\", force_remount=True).\n"
     ]
    }
   ],
   "source": [
    "# Pour connecter colab au Drive\n",
    "from google.colab import drive\n",
    "drive.mount('/content/drive')"
   ]
  },
  {
   "cell_type": "code",
   "execution_count": null,
   "metadata": {
    "id": "aA93hMXOdJf4"
   },
   "outputs": [],
   "source": [
    "import pandas as pd\n",
    "import numpy as np\n",
    "from termcolor import colored\n",
    "import random\n",
    "from datetime import datetime\n",
    "\n",
    "import glob\n",
    "import os\n",
    "\n",
    "import cv2 ## Package pour lire nos images\n",
    "from PIL import Image ## Importer ce package pour pouvoir voir le format de l'image\n",
    "import skimage.exposure\n",
    "\n",
    "import seaborn as sns\n",
    "import matplotlib.pyplot as plt\n",
    "%matplotlib inline\n",
    "\n",
    "from sklearn.ensemble import RandomForestClassifier\n",
    "from sklearn.cluster import KMeans\n",
    "from sklearn.cluster import MeanShift, estimate_bandwidth\n",
    "from sklearn.preprocessing import MinMaxScaler\n",
    "\n",
    "## Chemin pour aller récupérer les images stockées dans le dossier 'PBC_dataset_normal_DIB'\n",
    "path ='/content/drive/MyDrive/dataset/PBC_dataset_normal_DIB/'\n",
    "\n",
    "## Créer une liste où stocker les noms des images de nos 8 différentes classes\n",
    "Classes = []\n",
    "for element in os.listdir(path):\n",
    "    img = os.listdir(path + element)\n",
    "    Classes.append(img)\n",
    "\n",
    "\n",
    "# importer toutes les images des 8 différentes classes et les stocker dans un array images\n",
    "images = []\n",
    "for element in os.listdir(path) :\n",
    "    for img in glob.glob(path +  element + '/' + '*.jpg'): \n",
    "        imge = cv2.imread(img)\n",
    "        images.append(imge)\n"
   ]
  },
  {
   "cell_type": "markdown",
   "metadata": {
    "id": "aMePXQ6fdJf7"
   },
   "source": [
    "## 2. Audit"
   ]
  },
  {
   "cell_type": "markdown",
   "metadata": {
    "id": "C9dvay_zdJf7"
   },
   "source": [
    "### 2.1. Regarder la répartition de nos données sur les 8 classes "
   ]
  },
  {
   "cell_type": "code",
   "execution_count": null,
   "metadata": {
    "id": "sdeB9FXOdJf8"
   },
   "outputs": [],
   "source": [
    "# Afficher la taille de nos classes et le pourcentage de chacune d'entre elles dans un DataFrame\n",
    "type_cellule=['basophil','eosinophil', 'erythroblast','immature granulocytes','lymphocyte','monocyte','neutrophil',\n",
    "              'platelet']\n",
    "Total_Number = []\n",
    "Percentage = []\n",
    "for i, Classe in zip(range(len(Classes)),type_cellule):\n",
    "    Total_Number.append(len(Classes[i]))\n",
    "    Percentage.append(round(len(Classes[i])/17092 *100,2))\n",
    "\n",
    "dictionnaire = {'Type de Cellule': [i for i in type_cellule],\n",
    "                'Total_images' : [j for j in Total_Number],\n",
    "                '%' : [perc for perc in Percentage]\n",
    "                 }\n",
    "\n",
    "DF = pd.DataFrame(data = dictionnaire, columns=dictionnaire.keys())"
   ]
  },
  {
   "cell_type": "code",
   "execution_count": null,
   "metadata": {
    "id": "yu9zziLhdJf-"
   },
   "outputs": [],
   "source": [
    "import seaborn as sns\n",
    "sns.set_theme(style=\"whitegrid\")\n",
    "\n",
    "g = sns.catplot(y='Type de Cellule',x='Total_images',hue='Type de Cellule' ,data=DF,kind='bar',dodge=False,height=8)\n",
    "g.fig.set_figwidth(12)\n",
    "g.fig.set_figheight(6)\n",
    "g.set_yticklabels([\"BA\", \"EO\", \"ER\",\"IG\",\"LY\",\"MO\",\"NEU\",\"PLT\"])\n",
    "#plt.legend(labels = [name for name in type_cellule],loc='center right',bbox_to_anchor=(1.25, 0.5), ncol=1)\n",
    "plt.xlabel(\"Nombre d'images\",size=14)\n",
    "plt.ylabel(\"Type de Cellule\",size=14);"
   ]
  },
  {
   "cell_type": "markdown",
   "metadata": {
    "id": "z4GOwXWMdJf_"
   },
   "source": [
    "##### Taille des images"
   ]
  },
  {
   "cell_type": "code",
   "execution_count": null,
   "metadata": {
    "id": "K5d7Qfx1dJgB",
    "scrolled": true
   },
   "outputs": [],
   "source": [
    "# Taille de nos images\n",
    "for img in images :\n",
    "    h, w, c = img.shape # on peut utiliser également size qui nous renvoit (h*w*c)\n",
    "print(\"height  :\", h)\n",
    "print(\"width   :\", w)\n",
    "print(\"channel :\", c)\n",
    "\n",
    "# Si jamais dans nos données on a des images avec des tailles différentes des autres, récupérer le nom des images et le \n",
    "# stocker dans une liste !\n",
    "img_other_size = []    \n",
    "for element, Classe in zip(os.listdir(path),Classes) :\n",
    "    for img, imge in zip(glob.glob(path+element+'/'+'*.jpg'), Classe) : \n",
    "        if cv2.imread(img).shape != (h,w,c) :\n",
    "            img_other_size.append(imge)\n",
    "\n",
    "print(\"\\n\")\n",
    "\n",
    "if not img_other_size :\n",
    "    print(colored(\"Toutes nos images ont la même taille\",attrs=['bold']))\n",
    "else :\n",
    "    print(colored(len(img_other_size),attrs=['bold']),\n",
    "          \"images possèdent une taille différente de la taille des autres images !\")"
   ]
  },
  {
   "cell_type": "markdown",
   "metadata": {
    "id": "5l3X2dsb-SEa"
   },
   "source": [
    "**Il faut changer la taille des images de la liste img_other_size afin d'uniformiser le dataset**"
   ]
  },
  {
   "cell_type": "markdown",
   "metadata": {
    "id": "lBM3EDQLdJgC"
   },
   "source": [
    "##### Format des images"
   ]
  },
  {
   "cell_type": "code",
   "execution_count": null,
   "metadata": {
    "id": "2KCB6POmhWEY"
   },
   "outputs": [],
   "source": [
    "path ='/content/drive/MyDrive/dataset/PBC_dataset_normal_DIB/'"
   ]
  },
  {
   "cell_type": "code",
   "execution_count": null,
   "metadata": {
    "id": "fmf_ZmLZdJgC",
    "scrolled": true
   },
   "outputs": [],
   "source": [
    "## format de nos images\n",
    "for element in os.listdir(path) :\n",
    "    for img in glob.glob(path+element+'/'+'*.jpg'): \n",
    "        format_image = Image.open(img).format\n",
    "\n",
    "print(\"le format de nos images est :\", format_image)\n",
    "\n",
    "# Si il y'a des images avec un format différent des autres images, on va les récupérer et ensuite les stocker dans la liste\n",
    "# img_other_format        \n",
    "img_other_format = []\n",
    "\n",
    "for element, Classe in zip(os.listdir(path),Classes) :\n",
    "    for img, imge in zip(glob.glob(path+element+'/'+'*.jpg'), Classe) : \n",
    "        if Image.open(img).format != 'JPEG' :\n",
    "            img_other_format.append(imge)\n",
    "\n",
    "print(\"\\n\")\n",
    "\n",
    "if not(img_other_format) :\n",
    "    print(colored(\"toutes nos images ont le même format !\",attrs=['bold']))\n",
    "else :\n",
    "    img_other_format"
   ]
  },
  {
   "cell_type": "markdown",
   "metadata": {
    "id": "P3x2xfK_dJgD"
   },
   "source": [
    "### 2.2. Visalisation des différents classes de cellules"
   ]
  },
  {
   "cell_type": "code",
   "execution_count": null,
   "metadata": {
    "id": "m-9hVmX3dJgD"
   },
   "outputs": [],
   "source": [
    "#------- Afficher pour chaque type de cellules une image, qu'on récupére du manière aléatoire ---------#\n",
    "# selectionner une cellule de chaque type de classe et les visualiser avec plt.imshow\n",
    "img_random = []\n",
    "for i in range(len(Classes)) :\n",
    "    for j in range(1):\n",
    "        img = random.choice(Classes[i])\n",
    "        img_random.append(img)\n",
    "\n",
    "\n",
    "noms_classe = ['basophil','eosinophil','erythroblast','immature granulocytes','lymphocyte','monocyte','neutrophil',\n",
    "               'platelet']\n",
    "\n",
    "sns.set_theme(style=\"white\")\n",
    "fig= plt.figure(figsize=(18,20))   \n",
    "for i in range(len(img_random)):        \n",
    "    # subplots\n",
    "    plt.subplot(4, 4, i+1)   \n",
    "    # Afficher l'image en couleur\n",
    "    plt.imshow(cv2.cvtColor(cv2.imread(path+os.listdir(path)[i]+'/'+img_random[i],cv2.IMREAD_COLOR),cv2.COLOR_BGR2RGB));\n",
    "    \n",
    "    # set the title to subplots\n",
    "    plt.gca().set_title(noms_classe[i],size=20) ;\n",
    "    "
   ]
  },
  {
   "cell_type": "markdown",
   "metadata": {
    "id": "WOFkQW4-dJgE"
   },
   "source": [
    "## 3. Preprocessing"
   ]
  },
  {
   "cell_type": "markdown",
   "metadata": {
    "id": "fa3G7gD1joUP"
   },
   "source": []
  },
  {
   "cell_type": "markdown",
   "metadata": {
    "id": "fwu9fKEXdJgE"
   },
   "source": [
    "### 3.1. Distributions des coleurs et la balance des blancs "
   ]
  },
  {
   "cell_type": "code",
   "execution_count": null,
   "metadata": {
    "id": "IYRakjmndJgF"
   },
   "outputs": [],
   "source": [
    "def histogramOpenCV(img_co, img_gr, white_hi):\n",
    "    _, axis = plt.subplots(nrows=2, ncols=2, figsize=(18, 10))\n",
    "    axis[0][0].imshow(img_co)\n",
    "    axis[0][1].set_title('Histogram')\n",
    "    axis[0][0].set_title('Image')\n",
    "    rgbcolors = ['red', 'green', 'blue']\n",
    "    for i,col in enumerate(rgbcolors):\n",
    "        histr = cv2.calcHist([img_co],[i],None,[256],[0,256])\n",
    "        axis[0][1].plot(histr,color = col)\n",
    "    \n",
    "    axis[1][0].imshow(img_gr,'gray')\n",
    "    axis[1][0].set_title(\"Image en noir et blanc\")\n",
    "    axis[1][1].plot(white_hi)\n",
    "    axis[1][1].set_title(\"white\")\n",
    "    \n",
    "#Lecture des images en mode noir et blanc ou couleurs\n",
    "#transformation de l'image couleur en noir et blanc\n",
    "\n",
    "# Créer des listes vides pour stocker les différentes lectures de nos images noir et blanc, couleur \n",
    "Img_gray = [] \n",
    "Img_color = [] \n",
    "White_hist = []\n",
    "\n",
    "for i in range(len(img_random)) :\n",
    "    \n",
    "    img = path+os.listdir(path)[i]+'/'+img_random[i] # Chemin où se trouve l'image\n",
    "    \n",
    "    img_gray = cv2.imread(img, cv2.IMREAD_GRAYSCALE)  # str(img)\n",
    "    Img_gray.append(img_gray)\n",
    "    \n",
    "    img_color = cv2.imread(img, cv2.IMREAD_COLOR)  # # str(img)\n",
    "    Img_color.append(img_color)\n",
    "    \n",
    "    img_gray2 = cv2.cvtColor(img_color, cv2.COLOR_BGR2GRAY)\n",
    "    \n",
    "    #histogramme en noir et blanc\n",
    "    white_hist = cv2.calcHist([img_gray2],[0],None,[256],[0,256])\n",
    "    White_hist.append(white_hist)\n",
    "\n",
    "## Affichage des images\n",
    "for i in range (len(img_random)):\n",
    "    histogramOpenCV(Img_color[i], Img_gray[i], White_hist[i])"
   ]
  },
  {
   "cell_type": "markdown",
   "metadata": {
    "id": "smVJtQDMdJgF"
   },
   "source": [
    "### 3.2. Transformation de l'image de RGB -> HSV"
   ]
  },
  {
   "cell_type": "code",
   "execution_count": null,
   "metadata": {
    "id": "F3v8chIAdJgG"
   },
   "outputs": [],
   "source": [
    "Hsv = [] \n",
    "\n",
    "#Déclaration des couleurs des courbes\n",
    "color = ('r','g','b')\n",
    "#Déclaration des noms des courbes.\n",
    "labels = ('h','s','v')\n",
    "\n",
    "for j in range(len(img_random)) :   \n",
    "    img = path+os.listdir(path)[j]+'/'+img_random[j]\n",
    "    hsv = cv2.cvtColor(cv2.imread(img), cv2.COLOR_BGR2HSV)\n",
    "    Hsv.append(hsv)\n",
    "    \n",
    "for j in range(len(img_random)) :\n",
    "    _, axis = plt.subplots(ncols=3, figsize=(18, 5))\n",
    "    for i,col in enumerate(color):\n",
    "        #Hist prend la valeur de l'histogramme de hsv sur la canal i.\n",
    "        hist_hsv = cv2.calcHist([Hsv[j]],[i],None,[256],[0,256])\n",
    "\n",
    "        # Plot de hist.\n",
    "        #plt.subplot(223),\n",
    "        axis[2].plot(hist_hsv,color = col,label=labels[i])\n",
    "        axis[2].set_title('HSV')\n",
    "        axis[2].legend()\n",
    "        #axis[2].xlim([0,256])\n",
    "\n",
    "    axis[0].imshow(Img_color[j], 'gray')\n",
    "    axis[0].set_title(\"image en coleur\")\n",
    "    axis[1].imshow(Hsv[j], 'gray')\n",
    "    axis[1].set_title('hsv');\n"
   ]
  },
  {
   "cell_type": "markdown",
   "metadata": {
    "id": "6bpj4dYldJgG"
   },
   "source": [
    "### 3.2. Transformation de l'image de RGB -> LAB\n"
   ]
  },
  {
   "cell_type": "code",
   "execution_count": null,
   "metadata": {
    "id": "Mn4-tNV8dJgH",
    "scrolled": true
   },
   "outputs": [],
   "source": [
    "Lab = []\n",
    "\n",
    "#Déclaration des couleurs des courbes\n",
    "color = ('r','g','b')\n",
    "#Déclaration des noms des courbes.\n",
    "labels = ('l','a','b')\n",
    "for j in range(len(img_random)) :   \n",
    "    img = path+os.listdir(path)[j]+'/'+img_random[j]\n",
    "    lab = cv2.cvtColor(cv2.imread(img), cv2.COLOR_BGR2LAB)\n",
    "    Lab.append(lab)\n",
    "    \n",
    "for j in range(len(img_random)) :\n",
    "    _, axis = plt.subplots(ncols=3, figsize=(18, 5))\n",
    "    for i,col in enumerate(color):\n",
    "        #Hist prend la valeur de l'histogramme de hsv sur la canal i.\n",
    "        hist_lab = cv2.calcHist([Lab[j]],[i],None,[256],[0,256])\n",
    "\n",
    "        axis[2].plot(hist_lab,color = col,label=labels[i])\n",
    "        axis[2].set_title('LAB')\n",
    "        axis[2].legend()\n",
    "\n",
    "    axis[0].imshow(Img_color[j], 'gray')\n",
    "    axis[0].set_title(\"image en coleur\")\n",
    "    axis[1].imshow(Lab[j], 'gray')\n",
    "    axis[1].set_title('lab');\n"
   ]
  },
  {
   "cell_type": "markdown",
   "metadata": {
    "id": "i63XM82vdJgH"
   },
   "source": [
    "### 3.3. Etude des contours "
   ]
  },
  {
   "cell_type": "markdown",
   "metadata": {
    "id": "FqgAbFQwdJgI"
   },
   "source": [
    "####  Méthode Canny"
   ]
  },
  {
   "cell_type": "code",
   "execution_count": null,
   "metadata": {
    "id": "SMW1Kmq5dJgI"
   },
   "outputs": [],
   "source": [
    "from skimage import feature\n",
    "\n",
    "# Lire les images affichées ci-dessus \n",
    "imge_array = []\n",
    "M = []\n",
    "for i in range(len(img_random)) :\n",
    "    imge = cv2.imread(path+os.listdir(path)[i]+'/'+img_random[i],cv2.IMREAD_COLOR)#,cv2.IMREAD_COLOR, cv2.COLOR_BGR2HSV, cv2.COLOR_BGR2LAB )\n",
    "    m = np.zeros((imge.shape[0],imge.shape[1]))\n",
    "    m[:,:] = imge[:,:,0]\n",
    "    imge_array.append(imge)\n",
    "    M.append(m)\n",
    "\n",
    "#---------- Appliquer le filtre Canny  ----------#\n",
    "\n",
    "edges = []\n",
    "for i in range(len(imge_array)):\n",
    "    edges.append(feature.canny(M[i], sigma=8)) # On peut jouer sur les valeurs de sigma  \n",
    "\n",
    "fig = plt.figure(figsize=(18,20))   \n",
    "for i in range(len(imge_array)) :        \n",
    "    # subplots\n",
    "    plt.subplot(4, 4, i+1)   \n",
    "    # Afficher l'image\n",
    "    plt.imshow(edges[i], cmap=plt.cm.gray, interpolation='nearest');  \n",
    "    # set the title to subplots\n",
    "    plt.gca().set_title(noms_classe[i],size=20) ;"
   ]
  },
  {
   "cell_type": "markdown",
   "metadata": {
    "id": "OXzcyGgYdJgJ"
   },
   "source": [
    "### 2.3. Histogramme des pixels"
   ]
  },
  {
   "cell_type": "code",
   "execution_count": null,
   "metadata": {
    "id": "MjFF4ytUdJgJ"
   },
   "outputs": [],
   "source": [
    "fig = plt.figure(figsize=(18,20))   \n",
    "for i in range(len(imge_array)) :        \n",
    "    # subplots\n",
    "    plt.subplot(4, 4, i+1)   \n",
    "    # Afficher l'image\n",
    "    plt.hist(imge_array[i].flatten(), bins = 20, density = True , alpha = .5 , edgecolor = 'black', color = 'red');  \n",
    "    # set the title to subplots\n",
    "    plt.gca().set_title(noms_classe[i],size=20) ;"
   ]
  },
  {
   "cell_type": "markdown",
   "metadata": {
    "id": "UcTHMHHIdJgK"
   },
   "source": [
    "## 4. Nettoyage du Background"
   ]
  },
  {
   "cell_type": "code",
   "execution_count": null,
   "metadata": {
    "id": "yoqYNRxxdJgK",
    "scrolled": true
   },
   "outputs": [],
   "source": [
    "import sys\n",
    "Img_cleaned = []\n",
    "#Masks = []\n",
    "#Originals = []\n",
    "for i in range(len(img_random)):\n",
    "    img = cv2.imread(path+os.listdir(path)[i]+'/'+img_random[i])\n",
    "    original = img\n",
    "\n",
    "    l = int(max(5, 6))  #(5, 6)\n",
    "    u = int(min(6, 6))  #(6, 6)\n",
    "\n",
    "    ed = cv2.cvtColor(img, cv2.COLOR_BGR2RGB)\n",
    "    edges = cv2.GaussianBlur(img, (21, 51), 3) # (21, 51), 3\n",
    "    edges = cv2.cvtColor(edges, cv2.COLOR_BGR2GRAY)\n",
    "    edges = cv2.Canny(edges, l, u)\n",
    "\n",
    "    _, thresh = cv2.threshold(edges, 0, 255, cv2.THRESH_BINARY  + cv2.THRESH_OTSU)\n",
    "    kernel = cv2.getStructuringElement(cv2.MORPH_ELLIPSE, (5, 5)) #(5, 5)\n",
    "    mask = cv2.morphologyEx(thresh, cv2.MORPH_CLOSE, kernel, iterations=4)\n",
    "\n",
    "    data = mask.tolist()\n",
    "    sys.setrecursionlimit(10**8) #(10**8)\n",
    "    for i in  range(len(data)):\n",
    "        for j in  range(len(data[i])):\n",
    "            if data[i][j] !=  255:\n",
    "                data[i][j] =  -1\n",
    "            else:\n",
    "                break\n",
    "        for j in  range(len(data[i])-1, -1, -1):\n",
    "            if data[i][j] !=  255:\n",
    "                data[i][j] =  -1\n",
    "            else:\n",
    "                break\n",
    "    image = np.array(data)\n",
    "    image[image !=  -1] =  255\n",
    "    image[image ==  -1] =  0\n",
    "\n",
    "    mask = np.array(image, np.uint8)\n",
    "\n",
    "    result = cv2.bitwise_and(original, original, mask=mask)\n",
    "    result[mask ==  0] =  255\n",
    "    Img_cleaned.append(result)\n",
    "    \n",
    "noms_classe = ['basophil','eosinophil','erythroblast','immature granulocytes','lymphocyte','monocyte','neutrophil',\n",
    "               'platelet']\n",
    "\n",
    "fig= plt.figure(figsize=(18,20))   \n",
    "for i in range(len(img_random)):        \n",
    "    # subplots\n",
    "    plt.subplot(4, 4, i+1)   \n",
    "    # Afficher l'image\n",
    "    plt.imshow(Img_cleaned[i])\n",
    "    # set the title to subplots\n",
    "    plt.gca().set_title(noms_classe[i],size=20) ; \n"
   ]
  },
  {
   "cell_type": "markdown",
   "metadata": {
    "id": "m_asVH1M5Q_6"
   },
   "source": [
    "### Filtrage du background par couleur\n",
    "\n",
    "> Indented block\n",
    "\n"
   ]
  },
  {
   "cell_type": "code",
   "execution_count": null,
   "metadata": {
    "id": "dT1xCwHX5L3m"
   },
   "outputs": [],
   "source": [
    "# Filtrage du background par couleur\n",
    "figure = plt.figure(figsize=(18,18)) \n",
    "\n",
    "filtered_image = []\n",
    "for i in range(len(img_random)):\n",
    "    img = cv2.imread(path+os.listdir(path)[i]+'/'+img_random[i])\n",
    "    img = cv2.cvtColor(img, cv2.COLOR_BGR2HSV)\n",
    "    lower_color = np.array([30, 0, 0])\n",
    "    upper_color = np.array([165,255,255])\n",
    "    mask_color = cv2.inRange(img, lower_color, upper_color)\n",
    "    res_red = cv2.bitwise_and(img,img, mask= mask_color)\n",
    "    plt.subplot(4,4,i+1)\n",
    "    plt.imshow(res_red);\n",
    "    plt.gca().set_title(noms_classe[i],size=20)\n",
    "    filtered_image.append(res_red)"
   ]
  },
  {
   "cell_type": "markdown",
   "metadata": {
    "id": "c1e1yOlLdJgL"
   },
   "source": [
    "## 5. Seuillage d'OTSU"
   ]
  },
  {
   "cell_type": "markdown",
   "metadata": {
    "id": "oAjyhXcYdJgL"
   },
   "source": [
    "### 5.1 Seuillage d'OTSU sur les images HSV"
   ]
  },
  {
   "cell_type": "code",
   "execution_count": null,
   "metadata": {
    "id": "-P7wvz2jdJgM"
   },
   "outputs": [],
   "source": [
    "TH_h = []\n",
    "TH_s = []\n",
    "TH_v = []\n",
    "\n",
    "for i in range(len(img_random)) :\n",
    "    h,s,v= cv2.split(Hsv[i])\n",
    "    ret_h, th_h = cv2.threshold(h,0,255,cv2.THRESH_BINARY+cv2.THRESH_OTSU)\n",
    "    ret_s, th_s = cv2.threshold(s,0,255,cv2.THRESH_BINARY+cv2.THRESH_OTSU)\n",
    "    ret_v, th_v = cv2.threshold(v,0,255,cv2.THRESH_BINARY+cv2.THRESH_OTSU)\n",
    "    TH_h.append(th_h)\n",
    "    TH_s.append(th_s)\n",
    "    TH_v.append(th_v)\n",
    "\n",
    "for j in range(len(img_random)) :\n",
    "    _, axis = plt.subplots(ncols=3, figsize=(18, 5))\n",
    "    axis[0].imshow(TH_h[j], 'gray')\n",
    "    axis[0].set_title(\"Teinte Seuillée\")\n",
    "    axis[1].imshow(TH_s[j], 'gray')\n",
    "    axis[1].set_title('Saturation Seuillée')\n",
    "    axis[2].imshow(TH_v[j], 'gray')\n",
    "    axis[2].set_title('Luminosité Seuillée');\n",
    "\n",
    "# On constate que la saturation nous permet de segmenter les cellules"
   ]
  },
  {
   "cell_type": "markdown",
   "metadata": {
    "id": "Xf4dIP3EdJgM"
   },
   "source": [
    "### 5.2. Seuillage d'OTSU sur les images LAB"
   ]
  },
  {
   "cell_type": "code",
   "execution_count": null,
   "metadata": {
    "id": "10LYnVJcdJgN"
   },
   "outputs": [],
   "source": [
    "# créer des arrays vides, ensuite les remplire avec les images seuillées\n",
    "TH_l = []\n",
    "TH_a = []\n",
    "TH_b = []\n",
    "\n",
    "for i in range(len(img_random)) :\n",
    "    l,a,b= cv2.split(Lab[i])\n",
    "    ret_l, th_l = cv2.threshold(l,0,255,cv2.THRESH_BINARY+cv2.THRESH_OTSU)\n",
    "    ret_a, th_a = cv2.threshold(a,0,255,cv2.THRESH_BINARY+cv2.THRESH_OTSU)\n",
    "    ret_b, th_b = cv2.threshold(b,0,255,cv2.THRESH_BINARY+cv2.THRESH_OTSU)\n",
    "    TH_l.append(th_l)\n",
    "    TH_a.append(th_a)\n",
    "    TH_b.append(th_b)\n",
    "\n",
    "for j in range(len(img_random)) :\n",
    "    _, axis = plt.subplots(ncols=3, figsize=(18, 5))\n",
    "    axis[0].imshow(TH_l[j], 'gray')\n",
    "    axis[0].set_title(\"Teinte Seuillée\")\n",
    "    axis[1].imshow(TH_a[j], 'gray')\n",
    "    axis[1].set_title('Saturation Seuillée')\n",
    "    axis[2].imshow(TH_b[j], 'gray')\n",
    "    axis[2].set_title('Luminosité Seuillée');\n",
    "    \n",
    "# On constate que L et B segmentent bien les cellules"
   ]
  },
  {
   "cell_type": "markdown",
   "metadata": {
    "id": "6WoXFJrgdJgN"
   },
   "source": [
    "## 6. Segmentation en utilisant K-means et Mean Shift"
   ]
  },
  {
   "cell_type": "markdown",
   "metadata": {
    "id": "mEmxyulSSmWl"
   },
   "source": []
  },
  {
   "cell_type": "markdown",
   "metadata": {
    "id": "i8fyOWcrdJgN"
   },
   "source": [
    "### 6.1. K-Means clutering avec OpenCV"
   ]
  },
  {
   "cell_type": "code",
   "execution_count": null,
   "metadata": {
    "id": "fW6zuRLNdJgO"
   },
   "outputs": [],
   "source": [
    "#############----------------- K-MEANS sur les images à qui on a nettoyé le background -----------------############# \n",
    "\n",
    "Z = [] ## Créer une liste où stocker nos images redimentionnées\n",
    "Res2 = [] \n",
    "\n",
    "for i in range(len(img_random)) :\n",
    "    img =Img_cleaned[i] #cv2.imread(path+os.listdir(path)[i]+'/'+img_random[i])\n",
    "    \n",
    "    # redimentionner l'image en un array de deux dimension (hauteur*largeur,couleur)\n",
    "    z = img.reshape((-1,3))   \n",
    "    \n",
    "    # convertir le type de l'array en 'float32' afin que les Kmeans de OpenCV le prennent en compte\n",
    "    z = np.float32(z) \n",
    "    Z.append(z)\n",
    "    # définir les critéres, nombre de clusters (K) et ensuite appliquer les K-Means\n",
    "    criteria = (cv2.TermCriteria_EPS + cv2.TermCriteria_MAX_ITER, 10, 1.0)\n",
    "    K = 2 # on met le nombre de clusters = 2 pour juste sortir les cellules\n",
    "    \n",
    "    # mettre les sorties de cv2.kmeans dans rets, labels, centroids\n",
    "    rets , labels , centroids = cv2.kmeans(z, K, None, criteria, 10, cv2.KMEANS_PP_CENTERS)\n",
    " \n",
    "    # revenir à la dimensions originale pour pouvoir afficher l'image\n",
    "    centroids = np.uint8(centroids)\n",
    "    res = centroids[labels.flatten()]\n",
    "    res2 = res.reshape((img.shape))\n",
    "    Res2.append(res2)\n",
    "\n",
    "\n",
    "noms_classe = ['basophil','eosinophil','erythroblast','immature granulocytes','lymphocyte','monocyte','neutrophil',\n",
    "               'platelet']\n",
    "\n",
    "fig= plt.figure(figsize=(18,20))   \n",
    "for i in range(8):        \n",
    "    # subplots\n",
    "    plt.subplot(4, 4, i+1)   \n",
    "    # Afficher l'image  \n",
    "    plt.imshow(Res2[i])\n",
    "    # Donner des titres aux subplots\n",
    "    plt.gca().set_title(noms_classe[i],size=20) ; \n"
   ]
  },
  {
   "cell_type": "code",
   "execution_count": null,
   "metadata": {
    "id": "33xg7nNcdJgO"
   },
   "outputs": [],
   "source": [
    "# faire un lissage gaussien à nos images\n",
    "Img_blurred = []\n",
    "TH_l_blurred = []\n",
    "TH_s_blurred = []\n",
    "for j in range(len(img_random)) :\n",
    "    img= cv2.GaussianBlur(Img_gray[j], (3, 3), 0)\n",
    "    Img_blurred.append(img)\n",
    "    \n",
    "    th_l_blurred = cv2.GaussianBlur(TH_l[j], (3,3),0)\n",
    "    TH_l_blurred.append(th_l_blurred)\n",
    "    \n",
    "    th_s_blurred = cv2.GaussianBlur(TH_s[j], (3,3),0)\n",
    "    TH_s_blurred.append(th_s_blurred)\n",
    "    \n",
    "for j in range(len(img_random)) :\n",
    "    _, axis = plt.subplots(ncols=3, figsize=(18, 5))\n",
    "    axis[0].imshow(Img_blurred[j], 'gray')\n",
    "    axis[0].set_title(\"Original Seuillée & Floutée\")\n",
    "    axis[1].imshow(TH_l_blurred[j], 'gray')\n",
    "    axis[1].set_title('L Seuillée & Floutée')\n",
    "    axis[2].imshow(TH_s_blurred[j], 'gray')\n",
    "    axis[2].set_title('S Seuillée & Floutée');\n"
   ]
  },
  {
   "cell_type": "code",
   "execution_count": null,
   "metadata": {
    "id": "dPrX0de2dJgP"
   },
   "outputs": [],
   "source": [
    "#############----------------- K-MEANS sur les images HSV et LAB-----------------############# \n",
    "# redimensionner les images\n",
    "Img_blurred_rshpd = []\n",
    "TH_s_blurred_rshpd = []\n",
    "TH_l_blurred_rshpd = []\n",
    "\n",
    "for j in range(len(img_random)) :\n",
    "    Img_blurred_rshpd.append(Img_blurred[j].reshape(-1))\n",
    "    TH_s_blurred_rshpd.append(TH_s_blurred[j].reshape(-1))\n",
    "    TH_l_blurred_rshpd.append(TH_l_blurred[j].reshape(-1))\n",
    "\n",
    "#Conversion des images de nparray en float\n",
    "for j in range(len(img_random)) :\n",
    "    Img_blurred_rshpd[j] = np.float32(Img_blurred_rshpd[j])\n",
    "    TH_s_blurred_rshpd[j] = np.float32(TH_s_blurred_rshpd[j])\n",
    "    TH_l_blurred_rshpd[j] = np.float32(TH_l_blurred_rshpd[j])\n",
    "\n",
    "######-------------- Définition des paramètres --------------######\n",
    "criteria = (cv2.TERM_CRITERIA_EPS + cv2.TERM_CRITERIA_MAX_ITER, 100, 1.0)\n",
    "K = 2\n",
    "attempts=10\n",
    "\n",
    "Result_image = []\n",
    "Result_image_lab = []\n",
    "Result_image_hsv = []\n",
    "\n",
    "## Application des K-Means\n",
    "for i in range(len(img_random)) :\n",
    "    ret,label,center=cv2.kmeans(Img_blurred_rshpd[i],K,None,criteria,attempts,cv2.KMEANS_PP_CENTERS)\n",
    "    center = np.uint8(center)\n",
    "    res = center[label.flatten()]\n",
    "    result_image = res.reshape((Img_blurred[j].shape))\n",
    "    Result_image.append(result_image)\n",
    "    \n",
    "    ret_l,label_l,center_l=cv2.kmeans(TH_l_blurred_rshpd[i],K,None,criteria,attempts,cv2.KMEANS_PP_CENTERS)\n",
    "    center_l = np.uint8(center_l)\n",
    "    res_l = center[label_l.flatten()]\n",
    "    result_image_lab = res_l.reshape((TH_l_blurred[i].shape))\n",
    "    Result_image_lab.append(result_image_lab)\n",
    "    \n",
    "    ret_s,label_s,center_s=cv2.kmeans(TH_s_blurred_rshpd[i],K,None,criteria,attempts,cv2.KMEANS_PP_CENTERS)\n",
    "    center_s = np.uint8(center_s)\n",
    "    res_s = center[label_s.flatten()]\n",
    "    result_image_hsv = res_s.reshape((TH_s_blurred[i].shape))\n",
    "    Result_image_hsv.append(result_image_hsv)\n",
    "\n",
    "# for j in range(len(img_random)) :\n",
    "#     _, axis = plt.subplots(ncols=3, figsize=(18, 5))\n",
    "#     axis[0].imshow(Result_image[j], 'gray')\n",
    "#     axis[0].set_title(\"Original\")\n",
    "#     axis[1].imshow(Result_image_lab[j], 'gray')\n",
    "#     axis[1].set_title('LAB')\n",
    "#     axis[2].imshow(Result_image_hsv[j], 'gray')\n",
    "#     axis[2].set_title('HSV');\n",
    "\n",
    "# Graphique des centroïdes\n",
    "#plt.scatter(center[:, 0],center[:, 1], marker = \"o\", color = \"red\",s=30, linewidths = 1, zorder = 10)\n",
    "#plt.show()\n"
   ]
  },
  {
   "cell_type": "markdown",
   "metadata": {
    "id": "v_7HvF7xdJgP"
   },
   "source": [
    "### 6.2. Segmentation par Mean Shift"
   ]
  },
  {
   "cell_type": "code",
   "execution_count": null,
   "metadata": {
    "id": "Q_gzMnjC482z"
   },
   "outputs": [],
   "source": [
    "figure = plt.figure(figsize=(18,18)) \n",
    "index_tmp = 1\n",
    "#index_filtered_img= 0\n",
    "for i in range(len(img_random)) :     # pour chaque index dans la liste\n",
    "    img = cv2.resize(filtered_image[i],(360,360))\n",
    "    img = cv2.cvtColor(img, cv2.COLOR_BGR2RGB)\n",
    "    plt.subplot(4,4,index_tmp)\n",
    "    plt.gca().set_title(noms_classe[i]+'- Base',size=20)\n",
    "    plt.imshow(img, 'gray');\n",
    "    index_tmp+=1\n",
    "    \n",
    "    # filtre de réduction du bruit\n",
    "    img = cv2.medianBlur(img, 3)\n",
    "\n",
    "    # aplatir l'image\n",
    "    flat_image = img.reshape(img.shape[0]*img.shape[1], img.shape[2])\n",
    "\n",
    "    # meanshift\n",
    "    bandwidth = estimate_bandwidth(flat_image, quantile=0.5, n_samples=100)\n",
    "    ms = MeanShift(bandwidth, max_iter=2000, bin_seeding=True)\n",
    "    ms.fit(flat_image)\n",
    "    labels=ms.labels_\n",
    "    centroids = ms.cluster_centers_\n",
    "\n",
    "    # obtenir le nombre de centroids\n",
    "    print('Centroids: ', centroids.shape[0])\n",
    "\n",
    "    # Obtenir la couleur moyenne de chaque centroid\n",
    "    total = np.zeros((centroids.shape[0], 3), dtype=float)\n",
    "    count = np.zeros(total.shape, dtype=float)\n",
    "\n",
    "    # Pour chaque label dans le tableau des labels\n",
    "    for j, label in enumerate(labels):\n",
    "        #On ajoute les valeurs RGB de chaque pixel de l'image applatit\n",
    "        total[label] = total[label] + flat_image[j]\n",
    "        count[label] += 1\n",
    "\n",
    "    # On calcule la moyenne du RGB\n",
    "    avg = total/count\n",
    "    # On arrondi à l'entier\n",
    "    avg = np.uint8(avg)\n",
    "\n",
    "    # transposition de l'image étiquetée dans la couleur moyenne correspondante\n",
    "    result = avg[labels]\n",
    "    result = result.reshape((img.shape))\n",
    "\n",
    "    #Affichage du resultat\n",
    "    plt.subplot(4,4,index_tmp)\n",
    "    plt.gca().set_title(noms_classe[i] + ' - MS - k' + str(centroids.shape[0]))\n",
    "    plt.imshow(result, 'gray');\n",
    "    index_tmp+=1"
   ]
  },
  {
   "cell_type": "code",
   "execution_count": null,
   "metadata": {
    "id": "nezg-XKhdJgQ"
   },
   "outputs": [],
   "source": []
  },
  {
   "cell_type": "code",
   "execution_count": null,
   "metadata": {
    "id": "JtegvHazeUUM"
   },
   "outputs": [],
   "source": []
  },
  {
   "cell_type": "code",
   "execution_count": null,
   "metadata": {
    "id": "d4XqXuQZeU8F"
   },
   "outputs": [],
   "source": []
  },
  {
   "cell_type": "markdown",
   "metadata": {
    "id": "zz4BDRysdJgQ"
   },
   "source": [
    "## 7. Classification "
   ]
  },
  {
   "cell_type": "markdown",
   "metadata": {
    "id": "UrXQVT9FdJgQ"
   },
   "source": [
    "### 7.1. Création des données"
   ]
  },
  {
   "cell_type": "code",
   "execution_count": 1,
   "metadata": {
    "id": "_eDO8RIodJgQ"
   },
   "outputs": [],
   "source": [
    "\n",
    "import time\n",
    "import pandas as pd\n",
    "import numpy as np\n",
    "import cv2 # import OpenCV\n",
    "import matplotlib.pyplot as plt\n",
    "from tqdm import tqdm #pour barre de temps dans une boucle for\n",
    "from functions.Filtering import OTSU_threshold\n",
    "from functions.Filtering import filter_color_threshold \n",
    "from functions.Filtering import filter_Kmeans1,filter_Kmeans2\n",
    "from functions.Filtering import filter_MeanShift\n"
   ]
  },
  {
   "cell_type": "markdown",
   "metadata": {
    "id": "hE527HpEngxp"
   },
   "source": [
    "#### Visualisation du filtre choisi\n",
    "\n",
    "Test de ce filtre sur une image, puis application d'une nuance de gris.\n",
    "\n",
    "Par la suite, on ramènera l'image (363x360) sur un vecteur (1, 130680)"
   ]
  },
  {
   "cell_type": "code",
   "execution_count": 8,
   "metadata": {
    "id": "GNlqHyqadJgQ"
   },
   "outputs": [
    {
     "name": "stdout",
     "output_type": "stream",
     "text": [
      "(363, 360, 3)\n"
     ]
    },
    {
     "data": {
      "image/png": "[encoded data removed]",
      "text/plain": [
       "<Figure size 1440x720 with 3 Axes>"
      ]
     },
     "metadata": {},
     "output_type": "display_data"
    }
   ],
   "source": [
    "# On choisit K means K=6 pour avoir suffisamment de nuance de gris sur la cellule sélectionnée\n",
    "# file = df[df.cell_type_code=='MO'].filename.values[100]\n",
    "# print(file)\n",
    "# file='data\\PBC_dataset_normal_DIB\\ig\\IG_761306.jpg'\n",
    "file='dataset\\PBC_dataset_normal_DIB\\monocyte\\MO_155861.jpg'\n",
    "img = cv2.imread(file,cv2.IMREAD_COLOR)\n",
    "imgRGB = cv2.cvtColor(img, cv2.COLOR_BGR2RGB)\n",
    "\n",
    "# convert with Kmeans filters\n",
    "# img1, elapsed = OTSU_threshold(img,composant='B')\n",
    "# img1, elapsed = filter_MeanShift(img)\n",
    "img1, elapsed = filter_Kmeans2(img,n_clusters=4)\n",
    "print(img1.shape)\n",
    "\n",
    "# convert in grayscale\n",
    "# rgb_weights = [1/3, 1/3, 1/3]\n",
    "rgb_weights = [0.2989, 0.5870, 0.1140]\n",
    "img_gray = np.dot(img1[...,:3], rgb_weights)\n",
    "# img2= img1.mean(axis=0)\n",
    "\n",
    "plt.figure(figsize = (20, 10))\n",
    "\n",
    "plt.subplot(1,3,1)\n",
    "plt.imshow(imgRGB,cmap = 'gray')\n",
    "plt.xticks([]), plt.yticks([]), plt.title('Original')\n",
    "\n",
    "plt.subplot(1,3,2)\n",
    "plt.imshow(img1,cmap = 'gray')\n",
    "plt.xticks([]), plt.yticks([]), plt.title('With filter')\n",
    "\n",
    "plt.subplot(1,3,3)\n",
    "plt.imshow(img_gray,cmap = 'gray')\n",
    "plt.xticks([]), plt.yticks([]), plt.title('With filter + grayscale')\n",
    "\n",
    "plt.show()"
   ]
  },
  {
   "cell_type": "markdown",
   "metadata": {
    "id": "lhFSCRTFngxq"
   },
   "source": [
    "#### Formation du dataset pour l'entrainement\n",
    "\n",
    "Récupération des informations sur la base de données"
   ]
  },
  {
   "cell_type": "code",
   "execution_count": 7,
   "metadata": {
    "id": "YC44Pb4wdJgQ"
   },
   "outputs": [
    {
     "name": "stdout",
     "output_type": "stream",
     "text": [
      "nb d'images: 17094 \n",
      "\n",
      "NE - neutrophils              19.48\n",
      "EO - eosinophils              18.23\n",
      "IG - immature granulocytes    16.94\n",
      "PL - thrombocytes             13.74\n",
      "ER - erythroblasts             9.07\n",
      "MO - monocytes                 8.31\n",
      "BA - basophils                 7.13\n",
      "LY - lymphocytes               7.10\n",
      "Name: cell_type3, dtype: float64\n",
      "\n",
      "nb de noms d'images uniques: 17094\n"
     ]
    }
   ],
   "source": [
    "# path='dataset/PBC_dataset_normal_DIB/'\n",
    "path='variables/'\n",
    "img_info = pd.read_csv(path + 'img_info.csv')\n",
    "cell_types = pd.read_csv(path + 'cell_types.csv')\n",
    "cell_types['cell_type3']=cell_types.cell_type_code + ' - ' + cell_types.cell_type2\n",
    "# cell_types = cell_types[cell_types.Source=='article'].drop(columns=['Source'])\n",
    "df = pd.merge(img_info,cell_types,how='outer') # merge on column cell_subtype\n",
    "# display(df.head())\n",
    "\n",
    "# # nombre d'images:\n",
    "print('nb d\\'images:',len(df),'\\n')\n",
    "# distribution des types de cellules:\n",
    "print(df.cell_type3.value_counts(normalize=True).round(4)*100)\n",
    "\n",
    "print('\\nnb de noms d\\'images uniques:',len(df.img_name.unique())) # les noms d'image sont bien uniques et peuvent être utilisés comme clé"
   ]
  },
  {
   "cell_type": "markdown",
   "metadata": {
    "id": "KeI-Xg5kngxq"
   },
   "source": [
    "**Boucle sur un échantillon de la base de données**\n",
    "\n",
    "On commence par définir une liste d'indices des lignes que nous allons traiter. On définit un nombre de cellules à traiter par catégorie, et on les sélectionne au hasard parmi la catégorie, puis une boucle traite chaque image et lui applique le filtre ci-dessus et stock la sortie dans une matrice data."
   ]
  },
  {
   "cell_type": "code",
   "execution_count": 9,
   "metadata": {
    "id": "GqMvRiPwngxq"
   },
   "outputs": [
    {
     "name": "stderr",
     "output_type": "stream",
     "text": [
      "100%|██████████| 1600/1600 [25:36<00:00,  1.04it/s]"
     ]
    },
    {
     "name": "stdout",
     "output_type": "stream",
     "text": [
      "Time elapsed : 25.0min 37.0sec\n"
     ]
    },
    {
     "name": "stderr",
     "output_type": "stream",
     "text": [
      "\n"
     ]
    }
   ],
   "source": [
    "# pour ignorer les warnings\n",
    "import warnings\n",
    "warnings.filterwarnings(\"ignore\")\n",
    "\n",
    "npc=200 # nombre d'images par catégorie de cellule à scanner et filtrer\n",
    "filter='Kmeans2' #filter Options : 'Kmeans1','Kmeans2','OTSU','MeanShift'\n",
    "\n",
    "# On récupère les dimensions du format d'image le plus fréquent:\n",
    "h=int(df.img_dim.mode()[0].split(' x ')[0])\n",
    "w=int(df.img_dim.mode()[0].split(' x ')[1])\n",
    "\n",
    "# Création d'une liste d'index à scanner dans le dataframe\n",
    "cell_types = df.cell_type_code.value_counts().index # cell types sorted by number of apparitions in the dataset\n",
    "\n",
    "# index selection:\n",
    "selected_index=[]\n",
    "for ct in cell_types: \n",
    "    all_index_ct=df[df.cell_type_code==ct].index\n",
    "    new_selected_index=np.random.choice(all_index_ct, size=npc) # on en choisit npc par cell_type (npc= nombre de cellules)\n",
    "    selected_index=np.concatenate([selected_index,new_selected_index]).astype(int)\n",
    "    \n",
    "\n",
    "# On process pour chacun de ces indexes:\n",
    "\n",
    "data =[]\n",
    "\n",
    "start = time.time()\n",
    "\n",
    "# tqdm pour la barre d'avancement\n",
    "for i in tqdm(selected_index):\n",
    "\n",
    "    p_start = time.time()\n",
    "    \n",
    "    filename =df.loc[i,'filename'].replace('data\\\\','dataset\\\\') # Le nom du dossier a changé de data à dataset\n",
    "    img_height =df.loc[i,'img_height'] # hauteur de l'image\n",
    "    img_width =df.loc[i,'img_width']\n",
    "    \n",
    "    # img = cv2.imread(filename,cv2.IMREAD_GRAYSCALE)\n",
    "    img = cv2.imread(filename,cv2.IMREAD_COLOR)\n",
    "    # img = cv2.cvtColor(img, cv2.COLOR_BGR2RGB)\n",
    "    \n",
    "    # on redimensionne l'image si elle n'est pas à la taille classique calculée ci-dessus\n",
    "    if (img_height,img_width) != (h, w):\n",
    "        # certaines images ne peuvent pas être redimensionnées d'où l'utilisation de try:\n",
    "        try:\n",
    "            img = cv2.resize(img, dsize = (h,w), interpolation = cv2.INTER_LINEAR)\n",
    "        except Exception as e:\n",
    "            print('impossible to reshape',filename,'for the following reason:\\n',str(e))\n",
    "            # on supprime ce fichier de notre base de données car nous ne pourrons pas l'intégrer à notre modèle:\n",
    "            df=df[df.filename != filename]\n",
    "            print('The image was deleted from database.')\n",
    "    \n",
    "    if filter == 'Kmeans1':\n",
    "        \n",
    "        # convert with Kmeans filter\n",
    "        img1, _ = filter_Kmeans1(img,n_clusters=6,bckgrd=False)\n",
    "\n",
    "        # convert in grayscale\n",
    "        rgb_weights = [1/3, 1/3, 1/3]  # [0.2989, 0.5870, 0.1140] => to play with gray shades\n",
    "        img_gray = np.dot(img1[...,:3], rgb_weights)\n",
    "\n",
    "    elif filter == 'Kmeans2':\n",
    "        \n",
    "        # convert with Kmeans filter\n",
    "        img1, _ = filter_Kmeans2(img,n_clusters=4)\n",
    "\n",
    "        # convert in grayscale\n",
    "        rgb_weights = [1/3, 1/3, 1/3]  # [0.2989, 0.5870, 0.1140] => to play with gray shades\n",
    "        img_gray = np.dot(img1[...,:3], rgb_weights)\n",
    "    \n",
    "    elif filter == 'OTSU':\n",
    "        \n",
    "        img_gray, _ = OTSU_threshold(img,composant='S',blur=False)\n",
    "        \n",
    "    elif filter == 'MeanShift':\n",
    "        \n",
    "        # convert with Kmeans filter\n",
    "        img1, _ = filter_MeanShift(img)\n",
    "\n",
    "        # convert in grayscale\n",
    "        rgb_weights = [1/3, 1/3, 1/3]  # [0.2989, 0.5870, 0.1140] => to play with gray shades\n",
    "        img_gray = np.dot(img1[...,:3], rgb_weights)\n",
    "\n",
    "    # convert in an array\n",
    "    h,w=img_gray.shape\n",
    "    X=img_gray.reshape(1,h*w)[0]\n",
    "    \n",
    "    # process time\n",
    "    p_end = time.time()\n",
    "    p_elapsed = p_end - p_start\n",
    "    \n",
    "    # label:\n",
    "    img_name = [df.loc[i,'img_name']]\n",
    "    # process_time=[round(p_elapsed,6)]\n",
    "    label = [df.loc[i,'cell_type3']]\n",
    "    \n",
    "    # store in data\n",
    "    # data.append(np.concatenate((img_name,process_time,label,X),axis=0))\n",
    "    data.append(np.concatenate((img_name,label,X),axis=0))\n",
    "    \n",
    "    # print information on advancement\n",
    "    # print(f'file processed : {filename}. Process time : {round(p_elapsed,2):0} s.')\n",
    "    \n",
    "\n",
    "end = time.time()\n",
    "elapsed = end - start\n",
    "print(f'Time elapsed : {elapsed//60 :0}min {round(elapsed % 60,0):0}sec')"
   ]
  },
  {
   "cell_type": "markdown",
   "metadata": {
    "id": "WGXekhRAngxq"
   },
   "source": [
    "**Transformation de data en dataframe**"
   ]
  },
  {
   "cell_type": "code",
   "execution_count": 13,
   "metadata": {},
   "outputs": [
    {
     "data": {
      "text/plain": [
       "array([['SNE_800425.jpg', 'SNE_181877.jpg', 'BNE_39101.jpg', ...,\n",
       "        'LY_44395.jpg', 'LY_508185.jpg', 'LY_874360.jpg'],\n",
       "       ['NE - neutrophils', 'NE - neutrophils', 'NE - neutrophils', ...,\n",
       "        'LY - lymphocytes', 'LY - lymphocytes', 'LY - lymphocytes'],\n",
       "       ['0.0', '0.0', '0.0', ..., '0.0', '134.33333333333331', '0.0'],\n",
       "       ...,\n",
       "       ['0.0', '0.0', '0.0', ..., '0.0', '130.0', '0.0'],\n",
       "       ['0.0', '0.0', '0.0', ..., '0.0', '130.0', '0.0'],\n",
       "       ['0.0', '0.0', '0.0', ..., '0.0', '130.0', '0.0']], dtype='<U32')"
      ]
     },
     "execution_count": 13,
     "metadata": {},
     "output_type": "execute_result"
    }
   ],
   "source": [
    "# np.transpose(data)"
   ]
  },
  {
   "cell_type": "code",
   "execution_count": 14,
   "metadata": {
    "id": "mn1TNgTCngxr"
   },
   "outputs": [],
   "source": [
    "col_names= np.concatenate( (['img_name','process_time','label'],['p'+str(i) for i in range(1,h*w+1)]),axis=0)\n",
    "# data_df=pd.DataFrame(data,columns = col_names)\n",
    "# data_df.label.value_counts()\n",
    "data_df=pd.DataFrame(data,columns = col_names).T #on transpose directement"
   ]
  },
  {
   "cell_type": "markdown",
   "metadata": {
    "id": "t7L_5xu3ngxr"
   },
   "source": [
    "**Sauvegarde sous un fichier csv (transposé)**"
   ]
  },
  {
   "cell_type": "code",
   "execution_count": null,
   "metadata": {
    "id": "YTwncd8fngxr"
   },
   "outputs": [],
   "source": [
    "save_var_name = 'variables/data_'+filter+'_sample'+str(npc)\n",
    "# (data_df.T).to_csv(save_var_name+'.csv')\n",
    "data_df.to_csv(save_var_name+'.csv') # si on a déjà transposé"
   ]
  },
  {
   "cell_type": "markdown",
   "metadata": {
    "id": "q3bkIDLhngxr"
   },
   "source": [
    "### 7.2. Récupération des données et entrainement"
   ]
  },
  {
   "cell_type": "markdown",
   "metadata": {
    "id": "lmyDfkZ2ngxr"
   },
   "source": [
    "#### Récupération des données"
   ]
  },
  {
   "cell_type": "code",
   "execution_count": null,
   "metadata": {
    "id": "EcfBeGy-ngxr"
   },
   "outputs": [],
   "source": [
    "import time\n",
    "import pandas as pd\n",
    "import numpy as np\n",
    "import glob\n",
    "\n",
    "from sklearn.metrics import classification_report\n",
    "from sklearn.ensemble import RandomForestClassifier\n",
    "from sklearn import svm\n",
    "\n",
    "from sklearn import model_selection\n",
    "from sklearn.decomposition import PCA\n",
    "\n",
    "import matplotlib.pyplot as plt\n",
    "%matplotlib inline\n",
    "\n",
    "from sklearn.model_selection import train_test_split"
   ]
  },
  {
   "cell_type": "code",
   "execution_count": null,
   "metadata": {
    "id": "Uf2vWB6_ngxr"
   },
   "outputs": [],
   "source": [
    "# savename = 'variables/data_otsu_sample200' # database save name\n",
    "savename = 'variables/data_'+filter+'_sample'+str(npc) # database save name\n",
    "\n",
    "start = time.time()\n",
    "    \n",
    "# pour ignorer le problème de mémoire souvent rencontré\n",
    "import warnings\n",
    "warnings.filterwarnings(\"ignore\")\n",
    "\n",
    "# on lit le csv et le transpose directement\n",
    "data=pd.read_csv(savename+'.csv',index_col=0).T\n",
    "\n",
    "end = time.time()\n",
    "elapsed = end - start\n",
    "print(f'Time elapsed : {elapsed//60}min {round(elapsed % 60,0)}sec for {len(data):0} images (= {round(len(data)/17092*100,2):0}% of the total dataset).')"
   ]
  },
  {
   "cell_type": "code",
   "execution_count": null,
   "metadata": {
    "id": "2sttJiaWngxs"
   },
   "outputs": [],
   "source": [
    "data.head()"
   ]
  },
  {
   "cell_type": "code",
   "execution_count": null,
   "metadata": {
    "id": "ChPUOnXEngxs"
   },
   "outputs": [],
   "source": [
    "data.info()"
   ]
  },
  {
   "cell_type": "markdown",
   "metadata": {
    "id": "EoGVcXdJngxs"
   },
   "source": [
    "#### Séparation des features des variables cibles"
   ]
  },
  {
   "cell_type": "code",
   "execution_count": null,
   "metadata": {
    "id": "n6Z3_llMngxs"
   },
   "outputs": [],
   "source": [
    "target = data['label'].apply(lambda x: x.split(' - ')[0])\n",
    "feats = data.iloc[:,3:]"
   ]
  },
  {
   "cell_type": "markdown",
   "metadata": {
    "id": "WQuJbgWpngxs"
   },
   "source": [
    "#### PCA"
   ]
  },
  {
   "cell_type": "code",
   "execution_count": null,
   "metadata": {
    "id": "bUlZdiMRngxs"
   },
   "outputs": [],
   "source": [
    "pca=PCA(n_components =0.9).fit(feats)\n",
    "print('number of pixels kept:',pca.n_components_)\n",
    "feats_pca=pca.transform(feats)"
   ]
  },
  {
   "cell_type": "markdown",
   "metadata": {
    "id": "_fdsNH-bngxt"
   },
   "source": [
    "#### Définition d'une fonction de rapport cible"
   ]
  },
  {
   "cell_type": "code",
   "execution_count": null,
   "metadata": {
    "id": "Vc7Ts9B4ngxt"
   },
   "outputs": [],
   "source": [
    "def modeling(features,target,model,display_results_list):\n",
    "\n",
    "    start = time.time()\n",
    "    \n",
    "    X_train, X_test, y_train, y_test= train_test_split(features, target, test_size=0.2,shuffle=True,random_state=123)\n",
    "\n",
    "    model.fit(X_train, y_train)\n",
    "    y_pred_train=model.predict(X_train)\n",
    "    y_pred_test=model.predict(X_test)\n",
    "    \n",
    "    if 'confusion_matrix' in display_results_list:\n",
    "        cm_train = pd.crosstab (y_train, y_pred_train, rownames=['Reality'], colnames=['Prediction'])\n",
    "        display(cm_train)\n",
    "        \n",
    "    if 'classification_report' in display_results_list:\n",
    "        print('CLASSIF ON TRAIN:\\n\\n',\n",
    "              classification_report(y_train, y_pred_train))\n",
    "    \n",
    "    if 'confusion_matrix' in display_results_list:\n",
    "        cm_test = pd.crosstab (y_test, y_pred_test, rownames=['Reality'], colnames=['Prediction'])\n",
    "        display(cm_test)\n",
    "        \n",
    "    if 'classification_report' in display_results_list:\n",
    "        print('CLASSIF ON TEST:\\n\\n',\n",
    "              classification_report(y_test, y_pred_test))\n",
    "\n",
    "    if 'scores' in display_results_list:\n",
    "        acc_train=model.score(X_train, y_train) # retourne l'accuracy du dataset d'entrainement\n",
    "        acc_test=model.score(X_test, y_test) # retourne l'accuracy du dataset d'entrainement\n",
    "        print('ACCURACIES:\\n',\n",
    "              '\\n train dataset :', round(acc_train*100,2),'%',\n",
    "              '\\n test dataset :', round(acc_test*100,2),'%')"
   ]
  },
  {
   "cell_type": "markdown",
   "metadata": {
    "id": "kiYAidwungxt"
   },
   "source": [
    "### 7.3. Machine Learning on filter OTSU threshold"
   ]
  },
  {
   "cell_type": "markdown",
   "metadata": {
    "id": "3bQd4CgQngxt"
   },
   "source": [
    "#### 7.3.1. SVM"
   ]
  },
  {
   "cell_type": "code",
   "execution_count": null,
   "metadata": {
    "id": "9rXz5lJGngxt"
   },
   "outputs": [],
   "source": [
    "# SVM with PCA:\n",
    "modeling(feats_pca,target,svm.SVC(),('classification_report','scores'))"
   ]
  },
  {
   "cell_type": "markdown",
   "metadata": {
    "id": "4BPJSICxngxt"
   },
   "source": [
    "Nous sommes face à un surapprentissage."
   ]
  },
  {
   "cell_type": "markdown",
   "metadata": {
    "id": "E3Z8bgXJngxt"
   },
   "source": [
    "#### 7.3.2. Random Forest"
   ]
  },
  {
   "cell_type": "code",
   "execution_count": null,
   "metadata": {
    "id": "f18bnW9wngxt"
   },
   "outputs": [],
   "source": [
    "# Random Forest with PCA:\n",
    "modeling(feats_pca,target,RandomForestClassifier(),('classification_report','scores'))"
   ]
  },
  {
   "cell_type": "code",
   "execution_count": null,
   "metadata": {
    "id": "2dLpNUVGngxu"
   },
   "outputs": [],
   "source": [
    "# Random Forest without PCA:\n",
    "# modeling(feats,target,RandomForestClassifier(),('classification_report','scores'))"
   ]
  },
  {
   "cell_type": "markdown",
   "metadata": {
    "id": "rxSxFpOlngxu"
   },
   "source": [
    "Nous sommes face à un TOTAL surapprentissage."
   ]
  },
  {
   "cell_type": "markdown",
   "metadata": {
    "id": "-2cjzBbAngxu"
   },
   "source": [
    "### 7.4. Machine Learning on filter Kmeans"
   ]
  },
  {
   "cell_type": "markdown",
   "metadata": {
    "id": "xVNKUf5Ingxu"
   },
   "source": [
    "#### 7.4.1. Import données / PCA"
   ]
  },
  {
   "cell_type": "code",
   "execution_count": null,
   "metadata": {
    "id": "cfMUruJnngxu"
   },
   "outputs": [],
   "source": [
    "savename = 'variables/data_kmeans1_sample200' # database save name\n",
    "\n",
    "start = time.time()\n",
    "\n",
    "# on lit le csv et le transpose directement\n",
    "data=pd.read_csv(savename+'.csv',index_col=0).T\n",
    "\n",
    "end = time.time()\n",
    "elapsed = end - start\n",
    "print(f'Time elapsed : {elapsed//60}min {round(elapsed % 60,0)}sec for {len(data):0} images (= {round(len(data)/17092*100,2):0}% of the total dataset).')"
   ]
  },
  {
   "cell_type": "code",
   "execution_count": null,
   "metadata": {
    "id": "VXqkxGosngxu"
   },
   "outputs": [],
   "source": [
    "data['label'].value_counts()"
   ]
  },
  {
   "cell_type": "code",
   "execution_count": null,
   "metadata": {
    "id": "yS2MyZq2ngxu"
   },
   "outputs": [],
   "source": [
    "data.info()"
   ]
  },
  {
   "cell_type": "code",
   "execution_count": null,
   "metadata": {
    "id": "u3j6vpbcngxv"
   },
   "outputs": [],
   "source": [
    "target = data['label'].apply(lambda x: x.split(' - ')[0])\n",
    "feats = data.iloc[:,3:]\n",
    "pca=PCA(n_components =0.9).fit(feats)\n",
    "print('number of pixels kept:',pca.n_components_)\n",
    "feats_pca=pca.transform(feats)"
   ]
  },
  {
   "cell_type": "markdown",
   "metadata": {
    "id": "S9ZJlotfngxv"
   },
   "source": [
    "#### 7.4.2. SVM"
   ]
  },
  {
   "cell_type": "code",
   "execution_count": null,
   "metadata": {
    "id": "2HjfLsa0ngxv"
   },
   "outputs": [],
   "source": [
    "# SVM with PCA:\n",
    "modeling(feats_pca,target,svm.SVC(),('classification_report','scores'))"
   ]
  },
  {
   "cell_type": "code",
   "execution_count": null,
   "metadata": {
    "id": "tWjd3LOfngxv"
   },
   "outputs": [],
   "source": [
    "# SVM without PCA:\n",
    "# modeling(feats,target,svm.SVC(),('classification_report','scores'))"
   ]
  },
  {
   "cell_type": "markdown",
   "metadata": {
    "id": "luM1q_Ttngxv"
   },
   "source": [
    "#### 7.4.3. Random Forest"
   ]
  },
  {
   "cell_type": "code",
   "execution_count": null,
   "metadata": {
    "id": "97EO7jjsngxv"
   },
   "outputs": [],
   "source": [
    "# Random Forest with PCA:\n",
    "modeling(feats_pca,target,RandomForestClassifier(),('classification_report','scores'))"
   ]
  },
  {
   "cell_type": "code",
   "execution_count": null,
   "metadata": {
    "id": "xPI5Y0iFngxv"
   },
   "outputs": [],
   "source": [
    "# Random Forest without PCA:\n",
    "# modeling(feats,target,RandomForestClassifier(),('classification_report','scores'))"
   ]
  },
  {
   "cell_type": "markdown",
   "metadata": {
    "id": "zXEqNbz3ngxw"
   },
   "source": [
    "### 7.5. Machine Learning on filter MeanShift"
   ]
  },
  {
   "cell_type": "markdown",
   "metadata": {
    "id": "VuAhP2bVngxw"
   },
   "source": [
    "#### 7.5.1. Import données & PCA"
   ]
  },
  {
   "cell_type": "code",
   "execution_count": null,
   "metadata": {
    "id": "S9STjCOsngxw"
   },
   "outputs": [],
   "source": [
    "savename = 'variables/data_MeanShift_sample10' # database save name\n",
    "\n",
    "start = time.time()\n",
    "\n",
    "# on lit le csv et le transpose directement\n",
    "data_ms=pd.read_csv(savename+'.csv',index_col=0).T\n",
    "\n",
    "end = time.time()\n",
    "elapsed = end - start\n",
    "print(f'Time elapsed : {elapsed//60}min {round(elapsed % 60,0)}sec for {len(data):0} images (= {round(len(data)/17092*100,2):0}% of the total dataset).')"
   ]
  },
  {
   "cell_type": "code",
   "execution_count": null,
   "metadata": {
    "id": "3Ew0utEGngxw"
   },
   "outputs": [],
   "source": [
    "data_ms['label'].value_counts()"
   ]
  },
  {
   "cell_type": "code",
   "execution_count": null,
   "metadata": {
    "id": "H6PV4CnOngxw"
   },
   "outputs": [],
   "source": [
    "data_ms.info()"
   ]
  },
  {
   "cell_type": "code",
   "execution_count": null,
   "metadata": {
    "id": "xvQe8yW-ngxw"
   },
   "outputs": [],
   "source": [
    "target = data_ms['label'].apply(lambda x: x.split(' - ')[0])\n",
    "feats = data_ms.iloc[:,3:]\n",
    "pca=PCA(n_components =0.9).fit(feats)\n",
    "print('number of pixels kept:',pca.n_components_)\n",
    "feats_pca=pca.transform(feats)"
   ]
  },
  {
   "cell_type": "markdown",
   "metadata": {
    "id": "5e_uVlzengxw"
   },
   "source": [
    "#### 7.5.2. SVM"
   ]
  },
  {
   "cell_type": "code",
   "execution_count": null,
   "metadata": {
    "id": "aBpb_Rbsngxw"
   },
   "outputs": [],
   "source": [
    "# SVM with PCA:\n",
    "modeling(feats_pca,target,svm.SVC(),('classification_report','scores'))"
   ]
  },
  {
   "cell_type": "markdown",
   "metadata": {
    "id": "Xlxoy4Qkngxx"
   },
   "source": [
    "#### 7.5.3. Random Forest"
   ]
  },
  {
   "cell_type": "code",
   "execution_count": null,
   "metadata": {
    "id": "xvOkci4wngxx"
   },
   "outputs": [],
   "source": [
    "# Random Forest with PCA:\n",
    "modeling(feats_pca,target,RandomForestClassifier(),('classification_report','scores'))"
   ]
  },
  {
   "cell_type": "markdown",
   "metadata": {
    "id": "Vcaq_Dogngxx"
   },
   "source": [
    "### 7.6. Machine Learning sur images en noir et blanc sans filtre"
   ]
  },
  {
   "cell_type": "markdown",
   "metadata": {
    "id": "LBJWO9ACngxx"
   },
   "source": [
    "#### 7.6.1. Import données"
   ]
  },
  {
   "cell_type": "code",
   "execution_count": null,
   "metadata": {
    "id": "Z2FZAVSbngxx"
   },
   "outputs": [],
   "source": [
    "savename = 'variables/data_nofilter_sample200' # database save name\n",
    "\n",
    "start = time.time()\n",
    "\n",
    "# on lit le csv et le transpose directement\n",
    "data_gray=pd.read_csv(savename+'.csv',index_col=0).T\n",
    "\n",
    "end = time.time()\n",
    "elapsed = end - start\n",
    "print(f'Time elapsed : {elapsed//60}min {round(elapsed % 60,0)}sec for {len(data):0} images (= {round(len(data)/17092*100,2):0}% of the total dataset).')"
   ]
  },
  {
   "cell_type": "code",
   "execution_count": null,
   "metadata": {
    "id": "46dtrzQ2ngxx"
   },
   "outputs": [],
   "source": [
    "data_gray['label'].value_counts()"
   ]
  },
  {
   "cell_type": "code",
   "execution_count": null,
   "metadata": {
    "id": "wK9MFyfOngxx"
   },
   "outputs": [],
   "source": [
    "data_gray.info()"
   ]
  },
  {
   "cell_type": "code",
   "execution_count": null,
   "metadata": {
    "id": "cYfAUv0xngxy"
   },
   "outputs": [],
   "source": [
    "target = data_gray['label'].apply(lambda x: x.split(' - ')[0])\n",
    "feats = data_gray.iloc[:,3:]\n",
    "pca=PCA(n_components =0.9).fit(feats)\n",
    "print('number of pixels kept:',pca.n_components_)\n",
    "feats_pca=pca.transform(feats)"
   ]
  },
  {
   "cell_type": "markdown",
   "metadata": {
    "id": "wign_GzBngxy"
   },
   "source": [
    "#### 7.6.2. SVM"
   ]
  },
  {
   "cell_type": "code",
   "execution_count": null,
   "metadata": {
    "id": "cw095N9wngxy"
   },
   "outputs": [],
   "source": [
    "# SVM with PCA:\n",
    "modeling(feats_pca,target,svm.SVC(),('classification_report','scores'))"
   ]
  },
  {
   "cell_type": "markdown",
   "metadata": {
    "id": "GtlNTMuOngxy"
   },
   "source": [
    "#### 7.6.3. Random Forest"
   ]
  },
  {
   "cell_type": "code",
   "execution_count": null,
   "metadata": {
    "id": "aFuY0tVWngxy"
   },
   "outputs": [],
   "source": [
    "# Random Forest with PCA:\n",
    "modeling(feats_pca,target,RandomForestClassifier(),('classification_report','scores'))"
   ]
  },
  {
   "cell_type": "markdown",
   "metadata": {
    "id": "bLNW5bRVngxy"
   },
   "source": []
  }
 ],
 "metadata": {
  "colab": {
   "collapsed_sections": [],
   "name": "Bloody_Spy_Blast_V3.ipynb",
   "provenance": [
    {
     "file_id": "11ybTjvpymIMzSN1TXuGvvTdzQ2UkRqA5",
     "timestamp": 1639591840667
    }
   ],
   "toc_visible": true
  },
  "kernelspec": {
   "display_name": "Python 3 (ipykernel)",
   "language": "python",
   "name": "python3"
  },
  "language_info": {
   "codemirror_mode": {
    "name": "ipython",
    "version": 3
   },
   "file_extension": ".py",
   "mimetype": "text/x-python",
   "name": "python",
   "nbconvert_exporter": "python",
   "pygments_lexer": "ipython3",
   "version": "3.9.7"
  }
 },
 "nbformat": 4,
 "nbformat_minor": 4
}
