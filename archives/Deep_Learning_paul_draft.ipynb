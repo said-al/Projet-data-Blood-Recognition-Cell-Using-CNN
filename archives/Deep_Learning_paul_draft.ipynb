{
 "cells": [
  {
   "cell_type": "markdown",
   "id": "52bed9f8-f256-409b-a90f-3a77aab6cc8c",
   "metadata": {},
   "source": [
    "# DEEP LEARNING"
   ]
  },
  {
   "cell_type": "code",
   "execution_count": 1,
   "id": "444e9211-c92d-4ba6-8ba6-c5d9a5fdd712",
   "metadata": {},
   "outputs": [],
   "source": [
    "import tensorflow as tf\n",
    "import subprocess, re\n",
    "import pandas as pd\n",
    "import numpy as np\n",
    "import matplotlib.pyplot as plt\n",
    "%matplotlib inline\n",
    "from sklearn import metrics\n",
    "\n",
    "from tensorflow.keras.preprocessing.image import ImageDataGenerator"
   ]
  },
  {
   "cell_type": "code",
   "execution_count": 2,
   "id": "bdf19c5d-70be-4b49-af29-b5d38ff21346",
   "metadata": {},
   "outputs": [
    {
     "data": {
      "text/plain": [
       "'0xacd28657d946'"
      ]
     },
     "execution_count": 2,
     "metadata": {},
     "output_type": "execute_result"
    }
   ],
   "source": [
    "import uuid\n",
    "ide = hex(uuid.getnode())\n",
    "ide"
   ]
  },
  {
   "cell_type": "code",
   "execution_count": 7,
   "id": "bda9b95f-d80c-4c56-9672-33e843b8e294",
   "metadata": {},
   "outputs": [
    {
     "name": "stdout",
     "output_type": "stream",
     "text": [
      "  Username: Paul\n",
      "  Dataset directory: C:/Users/luap_/OneDrive/Data_Science/Projects/bloody_spy_blast/dataset/PBC_dataset_normal_DIB/\n",
      "  Saved analysis: C:/Users/luap_/OneDrive/Data_Science/Projects/bloody_spy_blast/analysis/\n",
      "  Data preprocessed directory: C:/Users/luap_/OneDrive/Data_Science/Projects/bloody_spy_blast/data_prep/\n",
      "  Models directory: C:/Users/luap_/OneDrive/Data_Science/Projects/bloody_spy_blast/models/\n"
     ]
    }
   ],
   "source": [
    "ide = re.findall(r'[A-Z0-9-]+-[A-Z0-9-]+',str(subprocess.check_output('wmic csproduct get uuid').strip()))[0]\n",
    "\n",
    "local_var = pd.read_csv('path.csv',index_col=0)\n",
    "\n",
    "if ide in local_var.index:\n",
    "    username = local_var.loc[ide,'name']\n",
    "    path_dataset = local_var.loc[ide,'path_dataset']\n",
    "    path_analysis = local_var.loc[ide,'path_analysis']\n",
    "    path_data_prep = local_var.loc[ide,'path_data_prep']\n",
    "    path_models = local_var.loc[ide,'path_models']\n",
    "    print(f'  Username: {username}\\n'\n",
    "         +f'  Dataset directory: {path_dataset}\\n'\n",
    "         +f'  Saved analysis: {path_analysis}\\n'\n",
    "         +f'  Data preprocessed directory: {path_data_prep}\\n'\n",
    "         +f'  Models directory: {path_models}')\n",
    "else:\n",
    "    print('Computer not recognized :\\n'\n",
    "         f'  Please enter your computer_id {ide} and the associated parameters in \\path.csv')"
   ]
  },
  {
   "cell_type": "code",
   "execution_count": 4,
   "id": "343e82f7-eb5f-4a28-98ff-611280961d54",
   "metadata": {},
   "outputs": [
    {
     "name": "stdout",
     "output_type": "stream",
     "text": [
      "32\n"
     ]
    }
   ],
   "source": [
    "# directory = r'C:\\Users\\luap_\\OneDrive\\Data_Science\\Projects\\bloody_spy_blast\\dataset\\PBC_dataset_normal_DIB'\n",
    "# directory = path_dataset\n",
    "\n",
    "img_size = 60\n",
    "img_height = img_size\n",
    "img_width = img_size\n",
    "batch_size = 32\n",
    "\n",
    "batch_size = 2**5\n",
    "filter_conv2d = 32\n",
    "\n",
    "# Entrainement\n",
    "n_epochs=5\n",
    "\n",
    "print(batch_size)"
   ]
  },
  {
   "cell_type": "code",
   "execution_count": 5,
   "id": "9528bc05-b225-4ea4-b2b9-8eb2311ff82a",
   "metadata": {},
   "outputs": [
    {
     "ename": "TypeError",
     "evalue": "__init__() got an unexpected keyword argument 'test_split'",
     "output_type": "error",
     "traceback": [
      "\u001b[1;31m---------------------------------------------------------------------------\u001b[0m",
      "\u001b[1;31mTypeError\u001b[0m                                 Traceback (most recent call last)",
      "\u001b[1;32m~\\AppData\\Local\\Temp/ipykernel_13936/1435956033.py\u001b[0m in \u001b[0;36m<module>\u001b[1;34m\u001b[0m\n\u001b[0;32m      1\u001b[0m \u001b[1;32mfrom\u001b[0m \u001b[0mtensorflow\u001b[0m\u001b[1;33m.\u001b[0m\u001b[0mkeras\u001b[0m\u001b[1;33m.\u001b[0m\u001b[0mpreprocessing\u001b[0m\u001b[1;33m.\u001b[0m\u001b[0mimage\u001b[0m \u001b[1;32mimport\u001b[0m \u001b[0mImageDataGenerator\u001b[0m\u001b[1;33m\u001b[0m\u001b[1;33m\u001b[0m\u001b[0m\n\u001b[0;32m      2\u001b[0m \u001b[1;33m\u001b[0m\u001b[0m\n\u001b[1;32m----> 3\u001b[1;33m train_datagen = ImageDataGenerator(rescale=1./255,\n\u001b[0m\u001b[0;32m      4\u001b[0m                                     \u001b[1;31m# shear_range = 0.2, # Shear means that the image will be distorted along an axis\u001b[0m\u001b[1;33m\u001b[0m\u001b[1;33m\u001b[0m\u001b[0m\n\u001b[0;32m      5\u001b[0m                                     \u001b[0mzoom_range\u001b[0m \u001b[1;33m=\u001b[0m \u001b[1;36m0.2\u001b[0m\u001b[1;33m,\u001b[0m\u001b[1;33m\u001b[0m\u001b[1;33m\u001b[0m\u001b[0m\n",
      "\u001b[1;31mTypeError\u001b[0m: __init__() got an unexpected keyword argument 'test_split'"
     ]
    }
   ],
   "source": [
    "from tensorflow.keras.preprocessing.image import ImageDataGenerator\n",
    "\n",
    "train_datagen = ImageDataGenerator(rescale=1./255,\n",
    "                                    # shear_range = 0.2, # Shear means that the image will be distorted along an axis\n",
    "                                    zoom_range = 0.2,\n",
    "                                    rotation_range=40,\n",
    "                                    width_shift_range=0.2,\n",
    "                                    height_shift_range=0.2,\n",
    "                                    # horizontal_flip=True,\n",
    "                                    # vertical_flip=True,\n",
    "                                    fill_mode='nearest',\n",
    "                                    validation_split=0.2,\n",
    "                                    test_split = 0.1) # set validation split\n",
    "\n",
    "test_datagen = ImageDataGenerator(rescale = 1./255)\n",
    "\n",
    "training_set = train_datagen.flow_from_directory(\n",
    "                        # train_data_dir,\n",
    "                        path_dataset,\n",
    "                        target_size=(img_height, img_width),\n",
    "                        batch_size=batch_size,\n",
    "                        # class_mode='binary',\n",
    "                        class_mode = 'categorical',\n",
    "                        seed=1234, # pour récupérer la consistence de la séparation des données\n",
    "                        subset='training') # set as training data\n",
    "\n",
    "validation_set = train_datagen.flow_from_directory(\n",
    "                        # train_data_dir, # same directory as training data\n",
    "                        path_dataset, # same directory as training data\n",
    "                        target_size=(img_height, img_width),\n",
    "                        batch_size=batch_size,\n",
    "                        # class_mode='binary',\n",
    "                        class_mode = 'categorical',\n",
    "                        seed=1234, # pour récupérer la consistence de la séparation des données\n",
    "                        subset='validation') # set as validation data\n",
    "\n",
    "test_set = train_datagen.flow_from_directory(\n",
    "                        # train_data_dir, # same directory as training data\n",
    "                        path_dataset, # same directory as training data\n",
    "                        target_size=(img_height, img_width),\n",
    "                        batch_size=batch_size,\n",
    "                        # class_mode='binary',\n",
    "                        class_mode = 'categorical',\n",
    "                        seed=1234, # pour récupérer la consistence de la séparation des données\n",
    "                        subset='test') # set as validation data\n"
   ]
  },
  {
   "cell_type": "markdown",
   "id": "f76120ba-3ce7-428c-9d2b-d8dc296fe72d",
   "metadata": {},
   "source": [
    "# Affichage de la donnée \"Augmentée\"\n",
    "\n",
    "> On observe le résultat de la donnée augmentée"
   ]
  },
  {
   "cell_type": "code",
   "execution_count": null,
   "id": "cef24713-c153-465c-8ed2-2c9771da061d",
   "metadata": {},
   "outputs": [],
   "source": [
    "\n",
    "\n",
    "batches_real = ImageDataGenerator(rescale = 1./255).flow_from_directory(path_dataset, target_size = (360, 360), batch_size = 16, class_mode = 'categorical', seed=1234)\n",
    "batches_augmented = train_datagen.flow_from_directory(path_dataset, target_size = (360, 360), batch_size = 16, class_mode = 'categorical', seed=1234)\n",
    "\n",
    "x_batch_augmented, y_batch_augmented = next(batches_augmented)\n",
    "x_batch_real, y_batch_real = next(batches_real)\n",
    "\n",
    "def getClass(batches,i):\n",
    "    class_indices = batches.class_indices\n",
    "    for c in class_indices:\n",
    "        if class_indices[c] == i:\n",
    "            return c\n",
    "\n",
    "for i in np.random.choice(batches_real.batch_size, size=6):\n",
    "    \n",
    "    image_augmented = x_batch_augmented[i]\n",
    "    image_real = x_batch_real[i]\n",
    "    \n",
    "    \n",
    "    title_add_on = getClass(batches_real,np.argmax(y_batch_augmented[i]))\n",
    "\n",
    "    plt.subplot(221)\n",
    "    plt.imshow(image_real)\n",
    "    plt.title(\"original img of\\n\" + title_add_on)\n",
    "    plt.axis('off')\n",
    "\n",
    "    plt.subplot(222)\n",
    "    plt.imshow(image_augmented)\n",
    "    plt.title(\"augmented img of\\n\" + title_add_on)\n",
    "    plt.axis('off')\n",
    "\n",
    "    plt.show()"
   ]
  },
  {
   "cell_type": "code",
   "execution_count": null,
   "id": "a09807a4-c575-4d82-9499-8d7d1af8352b",
   "metadata": {},
   "outputs": [],
   "source": [
    "# batches_augmented.filenames\n",
    "# y_batch_augmented\n",
    "# np.argmax(y_batch_augmented[i],axis=1)\n",
    "dir(batches_real)\n",
    "# batches_real.classes\n",
    "# batches_real.class_mode\n",
    "# batches_real.directory\n",
    "# batches_real.num_classes\n",
    "# batches_real.allowed_class_modes\n",
    "batches_real.class_indices"
   ]
  },
  {
   "cell_type": "code",
   "execution_count": null,
   "id": "cd4be11f-a81c-465a-abec-5b7c92256fef",
   "metadata": {},
   "outputs": [],
   "source": [
    "batches_real.num_classes"
   ]
  },
  {
   "cell_type": "code",
   "execution_count": null,
   "id": "75ea2182-f0fe-4b04-a6aa-92fa305f0026",
   "metadata": {},
   "outputs": [],
   "source": [
    "y_batch_augmented"
   ]
  },
  {
   "cell_type": "code",
   "execution_count": null,
   "id": "71ea21c9-b9a3-4ead-a872-2447c0fee06d",
   "metadata": {},
   "outputs": [],
   "source": [
    "# directory_test = directory\n",
    "# training_set = train_datagen.flow_from_directory(directory,target_size = (62, 62), batch_size = batch_size, class_mode = 'categorical')\n",
    "# test_set = test_datagen.flow_from_directory(directory_test, target_size = (62, 62),batch_size = batch_size,class_mode = 'categorical')\n",
    "\n",
    "# X_train, y_train = next(training_set)\n",
    "# X_test, y_test = next(test_set)\n",
    "\n",
    "# print(X_train.shape, y_train.shape)\n",
    "# print(X_test.shape, y_test.shape)\n",
    "# print(batch_size)\n",
    "\n",
    "# dir(training_set)\n",
    "# print(training_set.batch_size\n",
    "#     ,training_set.target_size\n",
    "#       ,len(training_set.filenames)\n",
    "#       ,training_set.n\n",
    "#      )"
   ]
  },
  {
   "cell_type": "code",
   "execution_count": null,
   "id": "5fc22a1b-099d-4384-a149-81d7eb019c86",
   "metadata": {},
   "outputs": [],
   "source": [
    "img_size = 60\n",
    "batch_size = 2**5\n",
    "filter_conv2d = 32\n",
    "\n",
    "# Entrainement\n",
    "n_epochs=5\n",
    "\n",
    "print(batch_size)"
   ]
  },
  {
   "cell_type": "code",
   "execution_count": null,
   "id": "48a548d1-9f95-47e3-9c10-0349c11ce2ac",
   "metadata": {},
   "outputs": [],
   "source": [
    "# Lecture des images\n",
    "# il faudrait idéalement créer un répertoire test\n",
    "# directory_test = directory\n",
    "# training_set = train_datagen.flow_from_directory(directory,target_size = (img_size, img_size), batch_size = batch_size, class_mode = 'categorical')\n",
    "# test_set = test_datagen.flow_from_directory(directory_test, target_size = (img_size, img_size),batch_size = batch_size,class_mode = 'categorical')"
   ]
  },
  {
   "cell_type": "code",
   "execution_count": 6,
   "id": "8dd4dc21-c930-4315-83a6-d9e7d22b9f0d",
   "metadata": {},
   "outputs": [
    {
     "name": "stdout",
     "output_type": "stream",
     "text": [
      "Model: \"sequential\"\n",
      "_________________________________________________________________\n",
      " Layer (type)                Output Shape              Param #   \n",
      "=================================================================\n",
      " conv2d (Conv2D)             (None, 60, 60, 32)        128       \n",
      "                                                                 \n",
      " max_pooling2d (MaxPooling2D  (None, 30, 30, 32)       0         \n",
      " )                                                               \n",
      "                                                                 \n",
      " conv2d_1 (Conv2D)           (None, 27, 27, 32)        16416     \n",
      "                                                                 \n",
      " max_pooling2d_1 (MaxPooling  (None, 13, 13, 32)       0         \n",
      " 2D)                                                             \n",
      "                                                                 \n",
      " flatten (Flatten)           (None, 5408)              0         \n",
      "                                                                 \n",
      " dense (Dense)               (None, 128)               692352    \n",
      "                                                                 \n",
      " dense_1 (Dense)             (None, 8)                 1032      \n",
      "                                                                 \n",
      "=================================================================\n",
      "Total params: 709,928\n",
      "Trainable params: 709,928\n",
      "Non-trainable params: 0\n",
      "_________________________________________________________________\n"
     ]
    }
   ],
   "source": [
    "from tensorflow.keras.layers import Dense, Flatten, Conv2D, MaxPooling2D, Dropout\n",
    "from tensorflow.keras import Sequential\n",
    "\n",
    "classifier = Sequential()\n",
    "\n",
    "conv_1 = Conv2D(filters = filter_conv2d\n",
    "                 , kernel_size = (1, 1)\n",
    "                 , padding = 'same'  # padding = 'valid'\n",
    "                 , input_shape = (img_height, img_width, 3) # entrée en taille d'image après application du generateur\n",
    "                 , activation = 'relu')\n",
    "\n",
    "pool_1 = MaxPooling2D(pool_size = (2, 2))\n",
    "dropout_1 = Dropout(rate=0.2)\n",
    "\n",
    "conv_2 = Conv2D(filters = filter_conv2d\n",
    "                 , kernel_size = (4, 4)\n",
    "                 , padding = 'valid'\n",
    "                 , input_shape = (32, 32, 3)\n",
    "                 , activation = 'relu')\n",
    "\n",
    "pool_2 = MaxPooling2D(pool_size = (2, 2))\n",
    "dropout_2 = Dropout(rate=0.2)\n",
    "\n",
    "flatten_1 = Flatten()\n",
    "dense_1 = Dense(units = 128, activation = 'relu')\n",
    "outlayer = Dense(units = 8, activation='softmax')   # output layer à 8 unités pour les 8 classes\n",
    "\n",
    "classifier.add(conv_1)\n",
    "classifier.add(pool_1)\n",
    "# classifier.add(dropout_1)\n",
    "\n",
    "classifier.add(conv_2)\n",
    "classifier.add(pool_2)\n",
    "# classifier.add(dropout_2)\n",
    "\n",
    "classifier.add(flatten_1)\n",
    "classifier.add(dense_1)\n",
    "classifier.add(outlayer)\n",
    "\n",
    "classifier.summary()"
   ]
  },
  {
   "cell_type": "code",
   "execution_count": null,
   "id": "f1bf5040-91c6-4ee5-8a83-74fb1475df0b",
   "metadata": {},
   "outputs": [
    {
     "name": "stdout",
     "output_type": "stream",
     "text": [
      "Epoch 1/5\n",
      "428/428 [==============================] - 156s 360ms/step - loss: 1.3598 - accuracy: 0.4848\n",
      "Epoch 2/5\n",
      "428/428 [==============================] - 144s 336ms/step - loss: 0.9613 - accuracy: 0.6368\n",
      "Epoch 3/5\n",
      "421/428 [============================>.] - ETA: 2s - loss: 0.7718 - accuracy: 0.7213"
     ]
    }
   ],
   "source": [
    "# Compilation\n",
    "classifier.compile(loss = 'categorical_crossentropy'\n",
    "                   # , optimizer = 'adam'\n",
    "                   , optimizer='rmsprop'\n",
    "                   , metrics = ['accuracy'])\n",
    "\n",
    "# Entrainement\n",
    "# history = classifier.fit_generator(generator=training_set, \n",
    "#                                 epochs = n_epochs,  # nombre d'itérations\n",
    "#                                 steps_per_epoch = training_set.n//training_set.batch_size,\n",
    "#                                    # steps_per_epoch = 100,\n",
    "#                                 validation_data=test_set,\n",
    "#                                 validation_steps=test_set.n//test_set.batch_size,\n",
    "#                                    # validation_steps = 100,\n",
    "#                                 workers = -1 # utiliser tous les coeurs de la machine\n",
    "#                                 )\n",
    "\n",
    "history = classifier.fit(x=training_set, \n",
    "                                epochs = n_epochs,  # nombre d'itérations\n",
    "                         batch_size=64,validation_data=validation_set\n",
    "                                )"
   ]
  },
  {
   "cell_type": "code",
   "execution_count": null,
   "id": "42bc3e63-a473-4d3c-9316-91b190692c8b",
   "metadata": {},
   "outputs": [],
   "source": [
    "# dir(classifier.fit)"
   ]
  },
  {
   "cell_type": "code",
   "execution_count": null,
   "id": "600943c0-4c2e-4b5e-8561-ee0e024772ac",
   "metadata": {},
   "outputs": [],
   "source": [
    "# plt.plot(np.arange(1 , n_epochs, 1),history.history['acc'],label = 'Train', color = 'blue')\n",
    "# plt.plot(np.arange(1 , n_epochs, 1),history.history['val_acc'],label = 'Validation',color = 'green')\n",
    "\n",
    "# plt.plot(np.arange(1 , n_epochs, 1),history.history['accuracy'],label = 'Train', color = 'blue')\n",
    "# plt.plot(np.arange(1 , n_epochs, 1),history.history['val_accuracy'],label = 'Validation',color = 'green')\n",
    "\n",
    "# plt.xlabel('Epochs')\n",
    "# plt.ylabel('Accuracy')\n",
    "# plt.legend()\n",
    "# plt.show()"
   ]
  },
  {
   "cell_type": "code",
   "execution_count": null,
   "id": "e7e683f4-0215-4ef3-a05f-7f402cf309d6",
   "metadata": {},
   "outputs": [],
   "source": [
    "plt.figure(figsize=(12,4))\n",
    "\n",
    "plt.subplot(121)\n",
    "plt.plot(history.history['loss'])\n",
    "# plt.plot(history.history['val_loss'])\n",
    "plt.title('classifier loss by epoch')\n",
    "plt.ylabel('loss')\n",
    "plt.xlabel('epoch')\n",
    "plt.legend(['train', 'test'], loc='right')\n",
    "\n",
    "plt.subplot(122)\n",
    "# plt.plot(history.history['acc'])\n",
    "# plt.plot(history.history['val_acc'])\n",
    "plt.plot(history.history['accuracy'])\n",
    "# plt.plot(history.history['val_accuracy'])\n",
    "plt.title('classifier acc by epoch')\n",
    "plt.ylabel('acc')\n",
    "plt.xlabel('epoch')\n",
    "plt.legend(['train', 'test'], loc='right')\n",
    "plt.show()"
   ]
  },
  {
   "cell_type": "code",
   "execution_count": 24,
   "id": "cb4a8a36-c71f-4627-a087-f8f10e531e7f",
   "metadata": {},
   "outputs": [
    {
     "data": {
      "text/plain": [
       "[1.4906830787658691,\n",
       " 1.100001335144043,\n",
       " 0.9280266165733337,\n",
       " 0.8062633872032166,\n",
       " 0.7048628330230713]"
      ]
     },
     "execution_count": 24,
     "metadata": {},
     "output_type": "execute_result"
    }
   ],
   "source": [
    "history.history['loss']"
   ]
  },
  {
   "cell_type": "code",
   "execution_count": 142,
   "id": "76ab8804-beb7-49b4-b60d-f701097303af",
   "metadata": {},
   "outputs": [],
   "source": [
    "# dir(history)"
   ]
  },
  {
   "cell_type": "code",
   "execution_count": 29,
   "id": "4f5a3366-e75e-43ae-9978-6ba1ddaedf2d",
   "metadata": {},
   "outputs": [
    {
     "name": "stdout",
     "output_type": "stream",
     "text": [
      "Model: \"sequential\"\n",
      "_________________________________________________________________\n",
      " Layer (type)                Output Shape              Param #   \n",
      "=================================================================\n",
      " conv2d (Conv2D)             (None, 60, 60, 32)        128       \n",
      "                                                                 \n",
      " max_pooling2d (MaxPooling2D  (None, 30, 30, 32)       0         \n",
      " )                                                               \n",
      "                                                                 \n",
      " conv2d_1 (Conv2D)           (None, 27, 27, 32)        16416     \n",
      "                                                                 \n",
      " max_pooling2d_1 (MaxPooling  (None, 13, 13, 32)       0         \n",
      " 2D)                                                             \n",
      "                                                                 \n",
      " flatten (Flatten)           (None, 5408)              0         \n",
      "                                                                 \n",
      " dense (Dense)               (None, 128)               692352    \n",
      "                                                                 \n",
      " dense_1 (Dense)             (None, 8)                 1032      \n",
      "                                                                 \n",
      "=================================================================\n",
      "Total params: 709,928\n",
      "Trainable params: 709,928\n",
      "Non-trainable params: 0\n",
      "_________________________________________________________________\n"
     ]
    }
   ],
   "source": [
    "history.model.summary()"
   ]
  },
  {
   "cell_type": "code",
   "execution_count": 30,
   "id": "bc5dea79-3cdd-44d6-be24-dfd059554909",
   "metadata": {},
   "outputs": [
    {
     "data": {
      "text/plain": [
       "{'verbose': 1, 'epochs': 5, 'steps': 427}"
      ]
     },
     "execution_count": 30,
     "metadata": {},
     "output_type": "execute_result"
    }
   ],
   "source": [
    "history.params"
   ]
  },
  {
   "cell_type": "code",
   "execution_count": 143,
   "id": "5aeb7673-4fe1-4ac8-840f-45a0f918a4ae",
   "metadata": {},
   "outputs": [],
   "source": [
    "# dir(history.history)"
   ]
  },
  {
   "cell_type": "code",
   "execution_count": 53,
   "id": "f932a1da-edda-4d81-998b-6b3976fc4096",
   "metadata": {},
   "outputs": [
    {
     "data": {
      "text/plain": [
       "{'loss': [1.4906830787658691,\n",
       "  1.100001335144043,\n",
       "  0.9280266165733337,\n",
       "  0.8062633872032166,\n",
       "  0.7048628330230713],\n",
       " 'accuracy': [0.4128985106945038,\n",
       "  0.5684133172035217,\n",
       "  0.6404543519020081,\n",
       "  0.6882374286651611,\n",
       "  0.734847903251648],\n",
       " 'epochs': [0, 1, 2, 3, 4],\n",
       " 'epoch': [0, 1, 2, 3, 4]}"
      ]
     },
     "execution_count": 53,
     "metadata": {},
     "output_type": "execute_result"
    }
   ],
   "source": [
    "hist = history.history\n",
    "hist['epoch'] = history.epoch\n",
    "hist"
   ]
  },
  {
   "cell_type": "code",
   "execution_count": 54,
   "id": "f3131568-de50-4e5e-a928-70d0cbff75b0",
   "metadata": {},
   "outputs": [
    {
     "data": {
      "text/html": [
       "<div>\n",
       "<style scoped>\n",
       "    .dataframe tbody tr th:only-of-type {\n",
       "        vertical-align: middle;\n",
       "    }\n",
       "\n",
       "    .dataframe tbody tr th {\n",
       "        vertical-align: top;\n",
       "    }\n",
       "\n",
       "    .dataframe thead th {\n",
       "        text-align: right;\n",
       "    }\n",
       "</style>\n",
       "<table border=\"1\" class=\"dataframe\">\n",
       "  <thead>\n",
       "    <tr style=\"text-align: right;\">\n",
       "      <th></th>\n",
       "      <th>loss</th>\n",
       "      <th>accuracy</th>\n",
       "      <th>epochs</th>\n",
       "      <th>epoch</th>\n",
       "    </tr>\n",
       "  </thead>\n",
       "  <tbody>\n",
       "    <tr>\n",
       "      <th>0</th>\n",
       "      <td>1.490683</td>\n",
       "      <td>0.412899</td>\n",
       "      <td>0</td>\n",
       "      <td>0</td>\n",
       "    </tr>\n",
       "    <tr>\n",
       "      <th>1</th>\n",
       "      <td>1.100001</td>\n",
       "      <td>0.568413</td>\n",
       "      <td>1</td>\n",
       "      <td>1</td>\n",
       "    </tr>\n",
       "    <tr>\n",
       "      <th>2</th>\n",
       "      <td>0.928027</td>\n",
       "      <td>0.640454</td>\n",
       "      <td>2</td>\n",
       "      <td>2</td>\n",
       "    </tr>\n",
       "    <tr>\n",
       "      <th>3</th>\n",
       "      <td>0.806263</td>\n",
       "      <td>0.688237</td>\n",
       "      <td>3</td>\n",
       "      <td>3</td>\n",
       "    </tr>\n",
       "    <tr>\n",
       "      <th>4</th>\n",
       "      <td>0.704863</td>\n",
       "      <td>0.734848</td>\n",
       "      <td>4</td>\n",
       "      <td>4</td>\n",
       "    </tr>\n",
       "  </tbody>\n",
       "</table>\n",
       "</div>"
      ],
      "text/plain": [
       "       loss  accuracy  epochs  epoch\n",
       "0  1.490683  0.412899       0      0\n",
       "1  1.100001  0.568413       1      1\n",
       "2  0.928027  0.640454       2      2\n",
       "3  0.806263  0.688237       3      3\n",
       "4  0.704863  0.734848       4      4"
      ]
     },
     "execution_count": 54,
     "metadata": {},
     "output_type": "execute_result"
    }
   ],
   "source": [
    "pd.DataFrame(hist)"
   ]
  },
  {
   "cell_type": "code",
   "execution_count": 48,
   "id": "2f071dac-6018-41ad-ba7a-48a82b913a66",
   "metadata": {},
   "outputs": [
    {
     "data": {
      "text/plain": [
       "[0, 1, 2, 3, 4]"
      ]
     },
     "execution_count": 48,
     "metadata": {},
     "output_type": "execute_result"
    }
   ],
   "source": [
    "history.epoch"
   ]
  },
  {
   "cell_type": "code",
   "execution_count": 144,
   "id": "b8487e8d-a38d-4e01-80b3-75802ae7bc2a",
   "metadata": {},
   "outputs": [],
   "source": [
    "# dir(history.on_batch_begin)"
   ]
  },
  {
   "cell_type": "code",
   "execution_count": 62,
   "id": "c9cb0b9c-36a7-46a8-9597-a2b962dbef6a",
   "metadata": {},
   "outputs": [],
   "source": [
    "# import pickle\n",
    "# from joblib import dump, load\n",
    "# dump(classifier, path_models + 'CNN_1.joblib') #Sauvegarde du modèle\n",
    "# loaded_model = load(path_models + 'CNN_1.joblib') #Chargement du modèle\n",
    "# y_pred=loaded_model.predict(X_test)\n",
    "# cm=pd.crosstab(y_test,y_pred)\n",
    "# cm"
   ]
  },
  {
   "cell_type": "code",
   "execution_count": 70,
   "id": "dc70889a-087c-44dc-be07-3e57b7ac31ac",
   "metadata": {},
   "outputs": [],
   "source": [
    "classifier.save(path_models + 'CNN_1.h5') #Sauvegarde du modèle\n"
   ]
  },
  {
   "cell_type": "markdown",
   "id": "b0230d3d-5b23-48d3-b2de-f30996b49a60",
   "metadata": {},
   "source": [
    "# CHARGEMENT MODEL"
   ]
  },
  {
   "cell_type": "code",
   "execution_count": 5,
   "id": "fb5524e2-9473-4b37-8d07-9062d3261fa2",
   "metadata": {},
   "outputs": [],
   "source": [
    "loaded_model = tf.keras.models.load_model(path_models + 'CNN_1.h5') #Chargement du modèle"
   ]
  },
  {
   "cell_type": "code",
   "execution_count": 138,
   "id": "9d9521b9-bc90-46b9-8917-54ff4da2d284",
   "metadata": {},
   "outputs": [],
   "source": [
    "from tensorflow.keras.preprocessing import image\n",
    "import matplotlib.image as mpimg\n",
    "import numpy as np\n",
    "\n",
    "def plotImgAndProb(classifier, classes, img):\n",
    "\n",
    "    test_image = image.load_img(img, target_size = (img_height, img_width))\n",
    "    test_image = image.img_to_array(test_image)/255\n",
    "    test_image = np.expand_dims(test_image, axis = 0)\n",
    "    \n",
    "    pred_probas = 100*classifier.predict(test_image).round(4)[0]\n",
    "    \n",
    "    # print(pred_proba, np.argmax(pred_probas))\n",
    "    classidx = np.argmax(pred_probas)\n",
    "    for c in classes:\n",
    "        if classes[c] == classidx:\n",
    "            pred_class = c\n",
    "    pred_proba = pred_probas[classidx]\n",
    "    \n",
    "    img = mpimg.imread(img)\n",
    "    plt.axis('off')\n",
    "    plt.text(-10, -15, pred_class + ' ('+str(pred_proba)+'%)'\n",
    "             , color = (1, 0, 0)\n",
    "             , fontsize = 15\n",
    "             , fontweight = 'extra bold')\n",
    "    # plt.title(pred_class + ' ('+str(pred_proba)+'%)')\n",
    "    imgplot = plt.imshow(img)"
   ]
  },
  {
   "cell_type": "code",
   "execution_count": 131,
   "id": "1ba260f4-ed30-4d38-8631-18b719aeb1f3",
   "metadata": {},
   "outputs": [
    {
     "name": "stdout",
     "output_type": "stream",
     "text": [
      "Found 17092 images belonging to 8 classes.\n",
      "{'basophil': 0, 'eosinophil': 1, 'erythroblast': 2, 'ig': 3, 'lymphocyte': 4, 'monocyte': 5, 'neutrophil': 6, 'platelet': 7}\n"
     ]
    }
   ],
   "source": [
    "batch = ImageDataGenerator(rescale = 1./255).flow_from_directory(path_dataset,batch_size = 1, class_mode = 'categorical')\n",
    "classes = batch.class_indices\n",
    "print(classes)"
   ]
  },
  {
   "cell_type": "code",
   "execution_count": 141,
   "id": "e5cf33f1-01e1-478b-9aba-b994a345b853",
   "metadata": {},
   "outputs": [
    {
     "data": {
      "image/png": "[encoded data removed]",
      "text/plain": [
       "<Figure size 432x288 with 1 Axes>"
      ]
     },
     "metadata": {
      "needs_background": "light"
     },
     "output_type": "display_data"
    }
   ],
   "source": [
    "# plotImgAndProb(loaded_model,classes,path_dataset+ df.filename[0])\n",
    "plotImgAndProb(loaded_model,classes,path_dataset+ df.filename[254])\n",
    "# dir(loaded_model)\n",
    "# dir(loaded_model.loss)\n",
    "# loaded_model.summary() # summary of the model\n",
    "# loaded_model.loss # loss function\n",
    "# pd.DataFrame(classes)"
   ]
  },
  {
   "cell_type": "code",
   "execution_count": 75,
   "id": "62a10d7f-88ce-4d6f-91a5-293ad6e99b3b",
   "metadata": {},
   "outputs": [
    {
     "name": "stdout",
     "output_type": "stream",
     "text": [
      "nb d'images: 17094 \n",
      "\n",
      "NE - neutrophils              19.48\n",
      "EO - eosinophils              18.23\n",
      "IG - immature granulocytes    16.94\n",
      "PL - thrombocytes             13.74\n",
      "ER - erythroblasts             9.07\n",
      "MO - monocytes                 8.31\n",
      "BA - basophils                 7.13\n",
      "LY - lymphocytes               7.10\n",
      "Name: cell_type3, dtype: float64\n"
     ]
    }
   ],
   "source": [
    "img_info = pd.read_csv('img_info.csv')\n",
    "cell_types = pd.read_csv('cell_types.csv')\n",
    "cell_types['cell_type3']=cell_types.cell_type_code + ' - ' + cell_types.cell_type2\n",
    "# cell_types = cell_types[cell_types.Source=='article'].drop(columns=['Source'])\n",
    "df = pd.merge(img_info,cell_types,how='outer') # merge on column cell_subtype\n",
    "# display(df.head())\n",
    "\n",
    "# nombre d'images:\n",
    "print('nb d\\'images:',len(df),'\\n')\n",
    "# distribution des types de cellules:\n",
    "print(df.cell_type3.value_counts(normalize=True).round(4)*100)"
   ]
  },
  {
   "cell_type": "code",
   "execution_count": 80,
   "id": "0314508b-6d62-4453-b594-b703e37d5d22",
   "metadata": {},
   "outputs": [
    {
     "data": {
      "text/plain": [
       "'C:/Users/luap_/OneDrive/Data_Science/Projects/bloody_spy_blast/dataset/PBC_dataset_normal_DIB/basophil/BA_100102.jpg'"
      ]
     },
     "execution_count": 80,
     "metadata": {},
     "output_type": "execute_result"
    }
   ],
   "source": [
    "path_dataset +df.filename[0]"
   ]
  },
  {
   "cell_type": "code",
   "execution_count": null,
   "id": "0a721212-3a0a-4710-bd62-85ed040ea5b0",
   "metadata": {},
   "outputs": [],
   "source": [
    "test_pred_lenet = lenet.predict(X_test)\n",
    "\n",
    "test_pred_lenet_class = test_pred_lenet.argmax(axis = 1)\n",
    "y_test_class = y_test.argmax(axis = 1)\n",
    "\n",
    "error_indexes = []\n",
    "for i in range(len(test_pred_cnn)):\n",
    "    if (test_pred_lenet_class[i] != y_test_class[i]):\n",
    "        if(test_pred_dense_class[i] != y_test_class[i]):\n",
    "            if(test_pred_cnn_class[i] != y_test_class[i]):\n",
    "                error_indexes += [i]\n",
    "\n",
    "j = 1\n",
    "for i in np.random.choice(error_indexes, size = 3):\n",
    "    img = X_test[i] \n",
    "    img = img.reshape(28, 28)\n",
    "    \n",
    "    plt.subplot(1, 3, j)\n",
    "    j = j + 1\n",
    "    plt.axis('off')\n",
    "    plt.imshow(img,cmap = cm.binary, interpolation='None')\n",
    "    plt.title('True Label: ' + str(y_test_class[i]) \\\n",
    "              + '\\n' + 'Prediction: '+ str(test_pred_lenet_class[i]) \\\n",
    "              + '\\n' + 'Confidence: '+ str(round(test_pred_lenet[i][test_pred_lenet_class[i]], 2)))\n",
    "    \n"
   ]
  },
  {
   "cell_type": "code",
   "execution_count": 147,
   "id": "edabc1a5-2066-41f9-bdcd-7f08c3cdb418",
   "metadata": {},
   "outputs": [
    {
     "name": "stdout",
     "output_type": "stream",
     "text": [
      "Help on method predict_generator in module keras.engine.training:\n",
      "\n",
      "predict_generator(generator, steps=None, callbacks=None, max_queue_size=10, workers=1, use_multiprocessing=False, verbose=0) method of keras.engine.sequential.Sequential instance\n",
      "    Generates predictions for the input samples from a data generator.\n",
      "    \n",
      "    DEPRECATED:\n",
      "      `Model.predict` now supports generators, so there is no longer any need\n",
      "      to use this endpoint.\n",
      "\n"
     ]
    }
   ],
   "source": [
    "help(loaded_model.predict_generator)"
   ]
  },
  {
   "cell_type": "code",
   "execution_count": 22,
   "id": "00e299cd-a92e-497d-87ad-06ff820c48a3",
   "metadata": {},
   "outputs": [
    {
     "name": "stdout",
     "output_type": "stream",
     "text": [
      "60 60\n"
     ]
    }
   ],
   "source": [
    "# dir(loaded_model)\n",
    "# loaded_model.summary()\n",
    "\n",
    "img_height = loaded_model.input.shape[1]\n",
    "img_width = loaded_model.input.shape[2]\n",
    "\n",
    "print(img_height,img_width)"
   ]
  },
  {
   "cell_type": "code",
   "execution_count": 42,
   "id": "70f628d5-ca94-4e66-a240-141227252580",
   "metadata": {},
   "outputs": [
    {
     "name": "stdout",
     "output_type": "stream",
     "text": [
      "Found 17092 images belonging to 8 classes.\n"
     ]
    },
    {
     "name": "stderr",
     "output_type": "stream",
     "text": [
      "C:\\Users\\luap_\\AppData\\Local\\Temp/ipykernel_20460/225863713.py:14: UserWarning: `Model.predict_generator` is deprecated and will be removed in a future version. Please use `Model.predict`, which supports generators.\n",
      "  Y_pred = loaded_model.predict_generator(generator = validation_generator\n"
     ]
    }
   ],
   "source": [
    "from tensorflow.keras.preprocessing.image import ImageDataGenerator\n",
    "import numpy as np\n",
    "\n",
    "img_height = loaded_model.input.shape[1]\n",
    "img_width = loaded_model.input.shape[2]\n",
    "\n",
    "validation_generator = ImageDataGenerator(rescale = 1./255).flow_from_directory(\n",
    "                        path_dataset, # same directory as training data\n",
    "                        target_size=(img_height, img_width),\n",
    "                        batch_size=32,\n",
    "                        seed = 123,\n",
    "                        class_mode = 'categorical')\n",
    "\n",
    "Y_pred = loaded_model.predict_generator(generator = validation_generator\n",
    "                  , steps = validation_generator.n//validation_generator.batch_size+1\n",
    "                  # , callbacks=None\n",
    "                  # , max_queue_size=10\n",
    "                  # , workers=1\n",
    "                  # , use_multiprocessing=False\n",
    "                  # , verbose=0\n",
    "                 )\n",
    "\n",
    "y_pred = np.argmax(Y_pred, axis=1)"
   ]
  },
  {
   "cell_type": "code",
   "execution_count": 43,
   "id": "609a0b7c-1528-42ac-b840-178ef80eab3d",
   "metadata": {},
   "outputs": [
    {
     "name": "stdout",
     "output_type": "stream",
     "text": [
      "17092 17092 17092\n"
     ]
    }
   ],
   "source": [
    "print(len(Y_pred) ,len(y_pred),len(validation_generator.classes))"
   ]
  },
  {
   "cell_type": "code",
   "execution_count": null,
   "id": "06ebc2e0-35ce-45da-a8df-938806afb9e6",
   "metadata": {},
   "outputs": [],
   "source": [
    "print(validation_generator.class_indices)\n",
    "print(validation_generator.class_indices.keys())"
   ]
  },
  {
   "cell_type": "code",
   "execution_count": 48,
   "id": "28a3bf1d-1fdb-48b0-8fda-b4df297f9e54",
   "metadata": {},
   "outputs": [
    {
     "name": "stdout",
     "output_type": "stream",
     "text": [
      "Confusion Matrix\n",
      "\n",
      "Predictions   0    1    2    3    4    5    6    7\n",
      "Actual                                            \n",
      "0            23  328   56  274   37   61  265  174\n",
      "1            46  905  162  648   97  155  660  444\n",
      "2            32  437   83  337   59   55  314  234\n",
      "3            58  838  150  577  116  135  607  414\n",
      "4            13  325   65  261   41   64  258  187\n",
      "5            35  373   69  325   61   60  283  214\n",
      "6            68  908  178  653  113  170  716  523\n",
      "7            36  690  104  510   85  115  471  337\n",
      "\n",
      "Classification Report\n",
      "\n",
      "              precision    recall  f1-score   support\n",
      "\n",
      "    basophil       0.07      0.02      0.03      1218\n",
      "  eosinophil       0.19      0.29      0.23      3117\n",
      "erythroblast       0.10      0.05      0.07      1551\n",
      "          ig       0.16      0.20      0.18      2895\n",
      "  lymphocyte       0.07      0.03      0.04      1214\n",
      "    monocyte       0.07      0.04      0.05      1420\n",
      "  neutrophil       0.20      0.22      0.21      3329\n",
      "    platelet       0.13      0.14      0.14      2348\n",
      "\n",
      "    accuracy                           0.16     17092\n",
      "   macro avg       0.12      0.12      0.12     17092\n",
      "weighted avg       0.14      0.16      0.15     17092\n",
      "\n"
     ]
    }
   ],
   "source": [
    "from sklearn import metrics\n",
    "\n",
    "print('Confusion Matrix\\n')\n",
    "print(pd.crosstab(validation_generator.classes, y_pred , rownames = ['Actual'], colnames = ['Predictions']))\n",
    "\n",
    "print('\\nClassification Report\\n')\n",
    "# target_names = ['Cats', 'Dogs', 'Horse']\n",
    "print(metrics.classification_report(validation_generator.classes, y_pred, target_names=validation_generator.class_indices.keys()))"
   ]
  },
  {
   "cell_type": "code",
   "execution_count": null,
   "id": "278508eb-0577-40a0-a219-1a423202e3eb",
   "metadata": {},
   "outputs": [],
   "source": [
    "for i, j in itertools.product(range(cnf_matrix.shape[0]), range(cnf_matrix.shape[1])):\n",
    "    if(cnf_matrix[i,j] >15 and i!=j):\n",
    "        print(\"Le chiffre {0} a souvent été pris pour le chiffre {1}\".format(i,j))"
   ]
  },
  {
   "cell_type": "code",
   "execution_count": null,
   "id": "3870120f-a426-4bfd-87b5-cf55e382616f",
   "metadata": {},
   "outputs": [],
   "source": [
    "import pandas as pd\n",
    "cnf_matrix_df = pd.crosstab(y_test_class, test_pred_class, rownames = ['chiffres réels'], colnames = ['chiffres prédits'])\n",
    "display(cnf_matrix_df)"
   ]
  },
  {
   "cell_type": "code",
   "execution_count": 29,
   "id": "081b1cef-f34a-41ed-93ba-77a1fd62da68",
   "metadata": {},
   "outputs": [
    {
     "data": {
      "text/plain": [
       "array([0, 0, 0, ..., 7, 7, 7])"
      ]
     },
     "execution_count": 29,
     "metadata": {},
     "output_type": "execute_result"
    }
   ],
   "source": [
    "validation_generator.classes"
   ]
  },
  {
   "cell_type": "markdown",
   "id": "d184f759-340f-48e1-b9ac-3e3fbf282acb",
   "metadata": {},
   "source": [
    "# Réentrainement du modèle"
   ]
  },
  {
   "cell_type": "code",
   "execution_count": 52,
   "id": "7decba6e-820b-4735-b817-4f1283044088",
   "metadata": {},
   "outputs": [
    {
     "name": "stdout",
     "output_type": "stream",
     "text": [
      "Found 13677 images belonging to 8 classes.\n",
      "Found 0 images belonging to 8 classes.\n"
     ]
    },
    {
     "name": "stderr",
     "output_type": "stream",
     "text": [
      "C:\\Users\\luap_\\AppData\\Local\\Temp/ipykernel_20460/913041457.py:40: UserWarning: `Model.fit_generator` is deprecated and will be removed in a future version. Please use `Model.fit`, which supports generators.\n",
      "  history2 = loaded_model.fit_generator(generator=training_set,\n"
     ]
    },
    {
     "name": "stdout",
     "output_type": "stream",
     "text": [
      "Epoch 1/10\n",
      "213/213 [==============================] - 83s 387ms/step - loss: 0.6118 - accuracy: 0.7742\n",
      "Epoch 2/10\n",
      "213/213 [==============================] - 77s 364ms/step - loss: 0.5969 - accuracy: 0.7814\n",
      "Epoch 3/10\n",
      "213/213 [==============================] - 84s 395ms/step - loss: 0.5749 - accuracy: 0.7831\n",
      "Epoch 4/10\n",
      "213/213 [==============================] - 84s 397ms/step - loss: 0.5753 - accuracy: 0.7844\n",
      "Epoch 5/10\n",
      "213/213 [==============================] - 84s 395ms/step - loss: 0.5481 - accuracy: 0.8016\n",
      "Epoch 6/10\n",
      "213/213 [==============================] - 84s 395ms/step - loss: 0.5339 - accuracy: 0.8035\n",
      "Epoch 7/10\n",
      "213/213 [==============================] - 84s 394ms/step - loss: 0.5297 - accuracy: 0.8050\n",
      "Epoch 8/10\n",
      "213/213 [==============================] - 84s 395ms/step - loss: 0.5224 - accuracy: 0.8077\n",
      "Epoch 9/10\n",
      "213/213 [==============================] - 84s 395ms/step - loss: 0.5220 - accuracy: 0.8080\n",
      "Epoch 10/10\n",
      "213/213 [==============================] - 84s 395ms/step - loss: 0.4959 - accuracy: 0.8182\n"
     ]
    }
   ],
   "source": [
    "batch_size = 64\n",
    "n_epochs = 10\n",
    "img_height = loaded_model.input.shape[1]\n",
    "img_width = loaded_model.input.shape[2]\n",
    "\n",
    "train_datagen = ImageDataGenerator(rescale=1./255,\n",
    "                                    # shear_range = 0.2, # Shear means that the image will be distorted along an axis\n",
    "                                    zoom_range = 0.2,\n",
    "                                    rotation_range=40,\n",
    "                                    width_shift_range=0.2,\n",
    "                                    height_shift_range=0.2,\n",
    "                                    # horizontal_flip=True,\n",
    "                                    # vertical_flip=True,\n",
    "                                    fill_mode='nearest',\n",
    "                                    validation_split=0.2) # set validation split\n",
    "\n",
    "test_datagen = ImageDataGenerator(rescale = 1./255)\n",
    "\n",
    "training_set = train_datagen.flow_from_directory(\n",
    "                        # train_data_dir,\n",
    "                        path_dataset,\n",
    "                        target_size=(img_height, img_width),\n",
    "                        batch_size=batch_size,\n",
    "                        # class_mode='binary',\n",
    "                        class_mode = 'categorical',\n",
    "                        seed=1234, # pour récupérer la consistence de la séparation des données\n",
    "                        subset='training') # set as training data\n",
    "\n",
    "test_set = test_datagen.flow_from_directory(\n",
    "                        # train_data_dir, # same directory as training data\n",
    "                        path_dataset, # same directory as training data\n",
    "                        target_size=(img_height, img_width),\n",
    "                        batch_size=batch_size,\n",
    "                        # class_mode='binary',\n",
    "                        class_mode = 'categorical',\n",
    "                        seed=1234, # pour récupérer la consistence de la séparation des données\n",
    "                        subset='validation') # set as validation data\n",
    "\n",
    "# Entrainement\n",
    "history2 = loaded_model.fit_generator(generator=training_set, \n",
    "                                epochs = n_epochs,  # nombre d'itérations\n",
    "                                steps_per_epoch = training_set.n//training_set.batch_size,\n",
    "                                   # steps_per_epoch = 100,\n",
    "                                validation_data=test_set,\n",
    "                                validation_steps=test_set.n//test_set.batch_size,\n",
    "                                   # validation_steps = 100,\n",
    "                                workers = -1 # utiliser tous les coeurs de la machine\n",
    "                                )"
   ]
  },
  {
   "cell_type": "code",
   "execution_count": 56,
   "id": "0f544eaa-77c0-42c7-998f-c2a52fb64d16",
   "metadata": {},
   "outputs": [
    {
     "data": {
      "image/png": "[encoded data removed]",
      "text/plain": [
       "<Figure size 864x288 with 2 Axes>"
      ]
     },
     "metadata": {
      "needs_background": "light"
     },
     "output_type": "display_data"
    }
   ],
   "source": [
    "plt.figure(figsize=(12,4))\n",
    "\n",
    "plt.subplot(121)\n",
    "plt.plot(history2.history['loss'])\n",
    "# plt.plot(history2.history['val_loss'])\n",
    "plt.title('classifier loss by epoch')\n",
    "plt.ylabel('loss')\n",
    "plt.xlabel('epoch')\n",
    "plt.legend(['train', 'test'], loc='right')\n",
    "\n",
    "plt.subplot(122)\n",
    "# plt.plot(history.history['acc'])\n",
    "# plt.plot(history.history['val_acc'])\n",
    "plt.plot(history2.history['accuracy'])\n",
    "# plt.plot(history2.history['val_accuracy'])\n",
    "plt.title('classifier acc by epoch')\n",
    "plt.ylabel('acc')\n",
    "plt.xlabel('epoch')\n",
    "plt.legend(['train', 'test'], loc='right')\n",
    "plt.show()"
   ]
  },
  {
   "cell_type": "code",
   "execution_count": 59,
   "id": "7f4ef929-fc74-4cb0-b0b5-564c03c6e169",
   "metadata": {},
   "outputs": [],
   "source": [
    "# Ré-évaluation"
   ]
  },
  {
   "cell_type": "code",
   "execution_count": 58,
   "id": "d8093bc4-3456-4f19-be4a-d48efb24e63c",
   "metadata": {},
   "outputs": [
    {
     "name": "stdout",
     "output_type": "stream",
     "text": [
      "Found 17092 images belonging to 8 classes.\n"
     ]
    },
    {
     "name": "stderr",
     "output_type": "stream",
     "text": [
      "C:\\Users\\luap_\\AppData\\Local\\Temp/ipykernel_20460/2809213376.py:11: UserWarning: `Model.predict_generator` is deprecated and will be removed in a future version. Please use `Model.predict`, which supports generators.\n",
      "  Y_pred = loaded_model.predict_generator(generator = validation_generator\n"
     ]
    },
    {
     "name": "stdout",
     "output_type": "stream",
     "text": [
      "Confusion Matrix\n",
      "\n",
      "Predictions    0     1    2    3    4   5    6    7\n",
      "Actual                                             \n",
      "0            214   408   44   75   39  12  258  168\n",
      "1            498  1145  118  151  106  35  646  418\n",
      "2            244   566   63   74   64  14  296  230\n",
      "3            434  1054  108  178  120  31  571  399\n",
      "4            175   423   48   84   50   9  245  180\n",
      "5            258   502   57   82   54  10  255  202\n",
      "6            486  1150  133  220  119  32  677  512\n",
      "7            380   852   82  132   94  32  447  329\n",
      "\n",
      "Classification Report\n",
      "\n",
      "              precision    recall  f1-score   support\n",
      "\n",
      "    basophil       0.08      0.18      0.11      1218\n",
      "  eosinophil       0.19      0.37      0.25      3117\n",
      "erythroblast       0.10      0.04      0.06      1551\n",
      "          ig       0.18      0.06      0.09      2895\n",
      "  lymphocyte       0.08      0.04      0.05      1214\n",
      "    monocyte       0.06      0.01      0.01      1420\n",
      "  neutrophil       0.20      0.20      0.20      3329\n",
      "    platelet       0.13      0.14      0.14      2348\n",
      "\n",
      "    accuracy                           0.16     17092\n",
      "   macro avg       0.13      0.13      0.11     17092\n",
      "weighted avg       0.15      0.16      0.14     17092\n",
      "\n"
     ]
    }
   ],
   "source": [
    "img_height = loaded_model.input.shape[1]\n",
    "img_width = loaded_model.input.shape[2]\n",
    "\n",
    "validation_generator = ImageDataGenerator(rescale = 1./255).flow_from_directory(\n",
    "                        path_dataset, # same directory as training data\n",
    "                        target_size=(img_height, img_width),\n",
    "                        batch_size=32,\n",
    "                        seed = 123,\n",
    "                        class_mode = 'categorical')\n",
    "\n",
    "Y_pred = loaded_model.predict_generator(generator = validation_generator\n",
    "                  , steps = validation_generator.n//validation_generator.batch_size+1\n",
    "                 )\n",
    "\n",
    "y_pred = np.argmax(Y_pred, axis=1)\n",
    "\n",
    "\n",
    "print('Confusion Matrix\\n')\n",
    "print(pd.crosstab(validation_generator.classes, y_pred , rownames = ['Actual'], colnames = ['Predictions']))\n",
    "\n",
    "print('\\nClassification Report\\n')\n",
    "# target_names = ['Cats', 'Dogs', 'Horse']\n",
    "print(metrics.classification_report(validation_generator.classes, y_pred, target_names=validation_generator.class_indices.keys()))"
   ]
  },
  {
   "cell_type": "code",
   "execution_count": null,
   "id": "0cf33092-34f4-441a-bced-dd225727d856",
   "metadata": {},
   "outputs": [],
   "source": [
    "# très mauvaise ==> Améliorer les paramètres\n",
    "# Reste à faire:\n",
    "# simuler un filtre sur le background\n",
    "# simuler un filtre de contours avec un kernel 3x3\n",
    "# visualiser images en sortie de ce filtre\n",
    "# freeze des premières couches de preprocessing + entrainement\n",
    "\n",
    "# Essayer avec un modèle pré entrainé VGG16 "
   ]
  },
  {
   "cell_type": "code",
   "execution_count": null,
   "id": "f63fc0b8-e3ad-49df-aba5-4fb00adbe3b2",
   "metadata": {},
   "outputs": [],
   "source": []
  }
 ],
 "metadata": {
  "kernelspec": {
   "display_name": "Python 3 (ipykernel)",
   "language": "python",
   "name": "python3"
  },
  "language_info": {
   "codemirror_mode": {
    "name": "ipython",
    "version": 3
   },
   "file_extension": ".py",
   "mimetype": "text/x-python",
   "name": "python",
   "nbconvert_exporter": "python",
   "pygments_lexer": "ipython3",
   "version": "3.9.7"
  }
 },
 "nbformat": 4,
 "nbformat_minor": 5
}
