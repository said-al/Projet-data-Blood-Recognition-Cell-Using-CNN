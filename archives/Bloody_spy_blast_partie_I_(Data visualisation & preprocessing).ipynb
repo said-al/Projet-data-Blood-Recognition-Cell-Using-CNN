{
 "cells": [
  {
   "cell_type": "markdown",
   "metadata": {},
   "source": [
    "# Data"
   ]
  },
  {
   "cell_type": "markdown",
   "metadata": {},
   "source": [
    "Nous disposons d'un ensemble de données de 17092 images de cellules normales du sang préphérique, les images sont répartis sur 8 classes de types distincts à savoir : 'basophil','eosinophil', 'erythroblast', 'immature granulocytes', 'lymphocyte', 'monocyte', 'neutrophil' et 'platelet'.\n",
    "\n",
    "Dans ce notebook on va éffectué un audit général de nos images et quelques visualisation.  "
   ]
  },
  {
   "cell_type": "markdown",
   "metadata": {},
   "source": [
    "# 1. Charger les données"
   ]
  },
  {
   "cell_type": "code",
   "execution_count": null,
   "metadata": {},
   "outputs": [],
   "source": [
    "import pandas as pd\n",
    "import numpy as np\n",
    "from termcolor import colored\n",
    "import random\n",
    "from datetime import datetime\n",
    "\n",
    "import sys\n",
    "import time\n",
    "import glob\n",
    "import os\n",
    "\n",
    "import cv2 ## Package pour lire nos images\n",
    "from PIL import Image ## Importer ce package pour pouvoir voir le format de l'image\n",
    "import skimage.exposure\n",
    "\n",
    "import seaborn as sns\n",
    "import matplotlib.pyplot as plt\n",
    "%matplotlib inline\n",
    "\n",
    "from sklearn.model_selection import train_test_split\n",
    "from sklearn.ensemble import RandomForestClassifier\n",
    "from sklearn.cluster import KMeans\n",
    "from sklearn.cluster import MeanShift, estimate_bandwidth\n",
    "from sklearn.preprocessing import MinMaxScaler\n",
    "from sklearn.svm import SVC \n",
    "from sklearn.metrics import classification_report\n",
    "\n",
    "## Chemin pour aller récupérer les images stocker dans le dossier 'PBC_dataset_normal_DIB'\n",
    "path =\"C:/Users/HP/Desktop/Projets Data Sciences/20211121-Projet_Deep Learning_Blood_Cell/2.\"+\\\n",
    "                                           \"Prepared Data/PBC_dataset_normal_DIB/\"\n"
   ]
  },
  {
   "cell_type": "code",
   "execution_count": null,
   "metadata": {},
   "outputs": [],
   "source": [
    "## Créer une liste où stocker les noms de nos 8 différentes classes\n",
    "Classes = []\n",
    "for element in os.listdir(path):\n",
    "    nom_classe = os.listdir(path+element)\n",
    "    Classes.append(nom_classe)"
   ]
  },
  {
   "cell_type": "code",
   "execution_count": null,
   "metadata": {},
   "outputs": [],
   "source": [
    "# importer toutes les images des 8 différentes classes et les stocker dans un array images\n",
    "Images = []\n",
    "for element in os.listdir(path) :\n",
    "    for img in glob.glob(path+element+'/'+'*.jpg'): \n",
    "        imge = cv2.imread(img)\n",
    "        Images.append(imge)"
   ]
  },
  {
   "cell_type": "markdown",
   "metadata": {},
   "source": [
    "# 2. Audit"
   ]
  },
  {
   "cell_type": "markdown",
   "metadata": {},
   "source": [
    "## 2.1. Regarder la répartitions de nos données sur les 8 classes "
   ]
  },
  {
   "cell_type": "code",
   "execution_count": null,
   "metadata": {
    "scrolled": false
   },
   "outputs": [],
   "source": [
    "# Afficher la taille de nos classes et le pourcentage de chacune d'entre elle dans un DataFrame\n",
    "type_cellule=['basophil','eosinophil', 'erythroblast','immature granulocytes','lymphocyte','monocyte','neutrophil',\n",
    "              'platelet']\n",
    "Total_Number = []\n",
    "Percentage = []\n",
    "for i, Classe in zip(range(len(Classes)),type_cellule):\n",
    "    Total_Number.append(len(Classes[i]))\n",
    "    Percentage.append(round(len(Classes[i])/17092 *100,2))\n",
    "\n",
    "dictionnaire = {'Type de Cellule': [i for i in type_cellule],\n",
    "                'Total_images' : [j for j in Total_Number],\n",
    "                '%' : [perc for perc in Percentage]\n",
    "                 }\n",
    "\n",
    "DF = pd.DataFrame(data = dictionnaire, columns=dictionnaire.keys())"
   ]
  },
  {
   "cell_type": "code",
   "execution_count": null,
   "metadata": {},
   "outputs": [],
   "source": [
    "import seaborn as sns\n",
    "sns.set_theme(style=\"whitegrid\")\n",
    "\n",
    "g = sns.catplot(y='Type de Cellule',x='Total_images',hue='Type de Cellule' ,data=DF,kind='bar',dodge=False,height=8)\n",
    "g.fig.set_figwidth(12)\n",
    "g.fig.set_figheight(6)\n",
    "g.set_yticklabels([\"BA\", \"EO\", \"ER\",\"IG\",\"LY\",\"MO\",\"NEU\",\"PLT\"])\n",
    "#plt.legend(labels = [name for name in type_cellule],loc='center right',bbox_to_anchor=(1.25, 0.5), ncol=1)\n",
    "plt.xlabel(\"Nombre d'images\",size=14)\n",
    "plt.ylabel(\"Type de Cellule\",size=14);"
   ]
  },
  {
   "cell_type": "markdown",
   "metadata": {},
   "source": [
    "### i. Taille des images"
   ]
  },
  {
   "cell_type": "code",
   "execution_count": null,
   "metadata": {
    "scrolled": true
   },
   "outputs": [],
   "source": [
    "# Taille de nos images\n",
    "for img in Images :\n",
    "    h, w, c = img.shape # on peut utiliser également size qui nous renvois (h*w*c)\n",
    "print(\"height  :\", h)\n",
    "print(\"width   :\", w)\n",
    "print(\"channel :\", c)\n",
    "\n",
    "# Si jamais dans nos données on a des images avec des tailles différentes des autres, récupérer le nom des images et le \n",
    "# stocker dans une liste !\n",
    "img_other_size = []    \n",
    "for element, Classe in zip(os.listdir(path),Classes) :\n",
    "    for img, imge in zip(glob.glob(path+element+'/'+'*.jpg'), Classe) : \n",
    "        if cv2.imread(img).shape != (h,w,c) :\n",
    "            img_other_size.append(imge)\n",
    "\n",
    "print(\"\\n\")\n",
    "\n",
    "if not img_other_size :\n",
    "    print(colored(\"Toutes nos images ont la même taille\"),attrs=['bold'])\n",
    "else :\n",
    "    print(colored(len(img_other_size),attrs=['bold']),\n",
    "          \"images possèdent une taille différente de la taille des autres images !\")"
   ]
  },
  {
   "cell_type": "markdown",
   "metadata": {},
   "source": [
    "### ii. Format des images"
   ]
  },
  {
   "cell_type": "code",
   "execution_count": null,
   "metadata": {
    "scrolled": true
   },
   "outputs": [],
   "source": [
    "## format de nos images\n",
    "for element in os.listdir(path) :\n",
    "    for img in glob.glob(path+element+'/'+'*.jpg'): \n",
    "        format_image = Image.open(img).format\n",
    "\n",
    "print(\"le format de nos images est :\", format_image)\n",
    "\n",
    "# Si il y'a des images avec un format différent des autres images, on va les récupérer et ensuite les stocker dans la liste\n",
    "# img_other_format        \n",
    "img_other_format = []\n",
    "\n",
    "for element, Classe in zip(os.listdir(path),Classes) :\n",
    "    for img, imge in zip(glob.glob(path+element+'/'+'*.jpg'), Classe) : \n",
    "        if Image.open(img).format != 'JPEG' :\n",
    "            img_other_format.append(imge)\n",
    "\n",
    "#print(\"\\n\")\n",
    "\n",
    "if not(img_other_format) :\n",
    "    print(colored(\"toutes nos images ont le même format !\",attrs=['bold']))\n",
    "else :\n",
    "    img_other_format"
   ]
  },
  {
   "cell_type": "markdown",
   "metadata": {},
   "source": [
    "### iii. Resizer les images qui n'ont pas la bonne dimension"
   ]
  },
  {
   "cell_type": "code",
   "execution_count": null,
   "metadata": {},
   "outputs": [],
   "source": [
    "# dimension de nos images\n",
    "height = 363\n",
    "width = 360\n",
    "dim = (width, height)\n",
    "\n",
    "# on redimensionne les images une à une et on écrase celles qui n'ont pas les bonnes dimensions\n",
    "for element in os.listdir(path) :\n",
    "    for i in range(len(img_other_size)) :\n",
    "        for j in glob.glob(path+element+'/'+img_other_size[i]): #'*.jpg'\n",
    "            img = cv2.imread(j,cv2.IMREAD_UNCHANGED)\n",
    "            resized = cv2.resize(img, dim, interpolation = cv2.INTER_AREA)\n",
    "            cv2.imwrite(j,resized)\n",
    "            "
   ]
  },
  {
   "cell_type": "markdown",
   "metadata": {
    "scrolled": false
   },
   "source": [
    "## 2.2. Visalisation des différents classes de cellules"
   ]
  },
  {
   "cell_type": "code",
   "execution_count": null,
   "metadata": {},
   "outputs": [],
   "source": [
    "# Fonction pour récupérer k images de manière aléatoire\n",
    "def RandomImage(k,noms_classes):\n",
    "    '''\n",
    "    la fonction RandomImage va nous permettre de récupérer un nombre d'images (k) de chaque classes de nos cellules\n",
    "    de manière aléatoire, ensuite les stocker dans une liste img_random \n",
    "    \n",
    "    paramètres :\n",
    "    noms_classes : les noms de nos 8 calsses de cellules sanguines\n",
    "    k : le nombre d'images qu'en veut récupérer de chaques classes de notre data base\n",
    "    '''\n",
    "    img_random = []\n",
    "    for i in range(len(noms_classes)) :\n",
    "        for j in range(k):\n",
    "            img = random.choice(noms_classes[i])\n",
    "            img_random.append(img) \n",
    "    return img_random"
   ]
  },
  {
   "cell_type": "code",
   "execution_count": null,
   "metadata": {},
   "outputs": [],
   "source": [
    "#------- Afficher pour chaque type de cellules une image, qu'on récupére du manière aléatoire ---------#\n",
    "# selectionner une seule cellule de chaque type de classe et les visualiser avec plt.imshow\n",
    "img_random = RandomImage(1,Classes)\n",
    "\n",
    "noms_classe = ['basophil','eosinophil','erythroblast','immature granulocytes','lymphocyte','monocyte','neutrophil',\n",
    "               'platelet']\n",
    "\n",
    "sns.set_theme(style=\"white\")\n",
    "fig= plt.figure(figsize=(18,20))   \n",
    "for i in range(len(img_random)):        \n",
    "    # subplots\n",
    "    plt.subplot(4, 4, i+1)   \n",
    "    # Afficher l'image en coleur\n",
    "    plt.imshow(cv2.cvtColor(cv2.imread(path+os.listdir(path)[i]+'/'+img_random[i],cv2.IMREAD_COLOR),cv2.COLOR_BGR2RGB));\n",
    "    \n",
    "    # set the title to subplots\n",
    "    plt.gca().set_title(noms_classe[i],size=20) ;\n",
    "    "
   ]
  },
  {
   "cell_type": "markdown",
   "metadata": {},
   "source": [
    "# 3. Preprocessing"
   ]
  },
  {
   "cell_type": "markdown",
   "metadata": {},
   "source": [
    "## 3.1. Distributions des couleurs et la balance des blancs "
   ]
  },
  {
   "cell_type": "code",
   "execution_count": null,
   "metadata": {},
   "outputs": [],
   "source": [
    "# Fonction pour tracer l'histogramme des couleurs\n",
    "def histogramOpenCV(img_co, img_gr, white_hi):\n",
    "    _, axis = plt.subplots(nrows=2, ncols=2, figsize=(18, 10))\n",
    "    axis[0][0].imshow(img_co)\n",
    "    axis[0][1].set_title('Histogram')\n",
    "    axis[0][0].set_title('Image')\n",
    "    rgbcolors = ['red', 'green', 'blue']\n",
    "    for i,col in enumerate(rgbcolors):\n",
    "        histr = cv2.calcHist([img_co],[i],None,[256],[0,256])\n",
    "        axis[0][1].plot(histr,color = col)\n",
    "    \n",
    "    axis[1][0].imshow(img_gr,'gray')\n",
    "    axis[1][0].set_title(\"Image en noir et blanc\")\n",
    "    axis[1][1].plot(white_hi)\n",
    "    axis[1][1].set_title(\"white\")\n",
    "    \n",
    "#Lecture des images en mode noir et blanc ou couleurs\n",
    "#transformation de l'image couleur en noir et blanc\n",
    "\n",
    "# Créer des listes vide pour stocker les différentes lectures de nos images noir et blanc, coleur \n",
    "Img_gray = [] \n",
    "Img_color = [] \n",
    "White_hist = []\n",
    "\n",
    "for i in range(len(img_random)) :\n",
    "    \n",
    "    img = path+os.listdir(path)[i]+'/'+img_random[i]\n",
    "    \n",
    "    img_gray = cv2.imread(img, cv2.IMREAD_GRAYSCALE)  # str(img)\n",
    "    Img_gray.append(img_gray)\n",
    "    \n",
    "    img_color = cv2.imread(img, cv2.IMREAD_COLOR)  # # str(img)\n",
    "    Img_color.append(img_color)\n",
    "    \n",
    "    img_gray2 = cv2.cvtColor(img_color, cv2.COLOR_BGR2GRAY)\n",
    "    \n",
    "    #histogramme en noir et blanc\n",
    "    white_hist = cv2.calcHist([img_gray2],[0],None,[256],[0,256])\n",
    "    White_hist.append(white_hist)\n",
    "\n",
    "## Affichage des images\n",
    "for i in range (len(img_random)):\n",
    "    histogramOpenCV(Img_color[i], Img_gray[i], White_hist[i])\n",
    "    \n",
    "# rajouter un plot moyen  pour l'histogramme\n",
    "# rajouter le plot.save"
   ]
  },
  {
   "cell_type": "markdown",
   "metadata": {},
   "source": [
    "## 3.2. Transformation de l'image de RGB => HSV"
   ]
  },
  {
   "cell_type": "code",
   "execution_count": null,
   "metadata": {},
   "outputs": [],
   "source": [
    "Hsv = [] \n",
    "\n",
    "#Déclaration des couleurs des courbes\n",
    "color = ('r','g','b')\n",
    "#Déclaration des noms des courbes.\n",
    "labels = ('h','s','v')\n",
    "\n",
    "for j in range(len(img_random)) :   \n",
    "    img = path+os.listdir(path)[j]+'/'+img_random[j]\n",
    "    hsv = cv2.cvtColor(cv2.imread(img), cv2.COLOR_BGR2HSV)\n",
    "    Hsv.append(hsv)\n",
    "    \n",
    "for j in range(len(img_random)) :\n",
    "    _, axis = plt.subplots(ncols=3, figsize=(18, 5))\n",
    "    for i,col in enumerate(color):\n",
    "        #Hist prend la valeur de l'histogramme de hsv sur la canal i.\n",
    "        hist_hsv = cv2.calcHist([Hsv[j]],[i],None,[256],[0,256])\n",
    "\n",
    "        # Plot de hist.\n",
    "        #plt.subplot(223),\n",
    "        axis[2].plot(hist_hsv,color = col,label=labels[i])\n",
    "        axis[2].set_title('HSV')\n",
    "        axis[2].legend()\n",
    "        #axis[2].xlim([0,256])\n",
    "\n",
    "    axis[0].imshow(Img_color[j], 'gray')\n",
    "    axis[0].set_title(\"image en coleur\")\n",
    "    axis[1].imshow(Hsv[j], 'gray')\n",
    "    axis[1].set_title('hsv');\n",
    "\n",
    "# rajouter un plot moyen  pour l'histogramme\n",
    "# rajouter le plot.save"
   ]
  },
  {
   "cell_type": "markdown",
   "metadata": {},
   "source": [
    "## 3.2. Transformation de l'image de RGB => LAB\n"
   ]
  },
  {
   "cell_type": "code",
   "execution_count": null,
   "metadata": {},
   "outputs": [],
   "source": [
    "Lab = []\n",
    "\n",
    "#Déclaration des couleurs des courbes\n",
    "color = ('r','g','b')\n",
    "#Déclaration des noms des courbes.\n",
    "labels = ('l','a','b')\n",
    "for j in range(len(img_random)) :   \n",
    "    img = path+os.listdir(path)[j]+'/'+img_random[j]\n",
    "    lab = cv2.cvtColor(cv2.imread(img), cv2.COLOR_BGR2LAB)\n",
    "    Lab.append(lab)\n",
    "    \n",
    "for j in range(len(img_random)) :\n",
    "    _, axis = plt.subplots(ncols=3, figsize=(18, 5))\n",
    "    for i,col in enumerate(color):\n",
    "        #Hist prend la valeur de l'histogramme de hsv sur la canal i.\n",
    "        hist_lab = cv2.calcHist([Lab[j]],[i],None,[256],[0,256])\n",
    "\n",
    "        axis[2].plot(hist_lab,color = col,label=labels[i])\n",
    "        axis[2].set_title('LAB')\n",
    "        axis[2].legend()\n",
    "\n",
    "    axis[0].imshow(Img_color[j], 'gray')\n",
    "    axis[0].set_title(\"image en coleur\")\n",
    "    axis[1].imshow(Lab[j], 'gray')\n",
    "    axis[1].set_title('lab');\n",
    "\n",
    "# rajouter un plot moyen  pour l'histogramme\n",
    "# rajouter le plot.save"
   ]
  },
  {
   "cell_type": "markdown",
   "metadata": {},
   "source": [
    "## 3.3. Etude des contours "
   ]
  },
  {
   "cell_type": "markdown",
   "metadata": {},
   "source": [
    "###  Méthode Canny"
   ]
  },
  {
   "cell_type": "code",
   "execution_count": null,
   "metadata": {},
   "outputs": [],
   "source": [
    "from skimage import feature\n",
    "\n",
    "# Lire les images afficher la dessus \n",
    "imge_array = []\n",
    "M = []\n",
    "for i in range(len(img_random)) :\n",
    "    imge = cv2.imread(path+os.listdir(path)[i]+'/'+img_random[i],cv2.IMREAD_COLOR)#,cv2.IMREAD_COLOR)\n",
    "    m = np.zeros((imge.shape[0],imge.shape[1]))\n",
    "    m[:,:] = imge[:,:,0]\n",
    "    imge_array.append(imge)\n",
    "    M.append(m)\n",
    "\n",
    "#---------- Appliquer le filtre Canny  ----------#\n",
    "\n",
    "edges = []\n",
    "for i in range(len(imge_array)):\n",
    "    edges.append(feature.canny(M[i], sigma=3)) # On peut jouer sur les valeurs de sigma  \n",
    "\n",
    "fig = plt.figure(figsize=(18,20))   \n",
    "for i in range(len(imge_array)) :        \n",
    "    # subplots\n",
    "    plt.subplot(4, 4, i+1)   \n",
    "    # Afficher l'image\n",
    "    plt.imshow(edges[i], cmap=plt.cm.gray, interpolation='nearest');  \n",
    "    # set the title to subplots\n",
    "    plt.gca().set_title(noms_classe[i],size=20) \n",
    "    ;"
   ]
  },
  {
   "cell_type": "code",
   "execution_count": null,
   "metadata": {},
   "outputs": [],
   "source": [
    "# Rajouter une boucle pour faire varier le sigma (neutrophil)\n",
    "# faire un filtre canny sur les sorties LAB et HSV"
   ]
  },
  {
   "cell_type": "markdown",
   "metadata": {},
   "source": [
    "## 3.4. Histogramme des pixels"
   ]
  },
  {
   "cell_type": "code",
   "execution_count": null,
   "metadata": {},
   "outputs": [],
   "source": [
    "\"\"\"fig = plt.figure(figsize=(18,20))   \n",
    "for i in range(len(imge_array)) :        \n",
    "    # subplots\n",
    "    plt.subplot(4, 4, i+1)   \n",
    "    # Afficher l'image\n",
    "    plt.hist(imge_array[i].flatten(), bins = 20, density = True , alpha = .5 , edgecolor = 'black', color = 'red');  \n",
    "    # set the title to subplots\n",
    "    plt.gca().set_title(noms_classe[i],size=20) ;\n",
    "    \"\"\"\n"
   ]
  },
  {
   "cell_type": "markdown",
   "metadata": {},
   "source": [
    "# 4. Nettoyage du Background"
   ]
  },
  {
   "cell_type": "markdown",
   "metadata": {},
   "source": [
    "## Filtrage du Background en blanc "
   ]
  },
  {
   "cell_type": "code",
   "execution_count": null,
   "metadata": {},
   "outputs": [],
   "source": [
    "def RemoveBackground(img):\n",
    "    \"\"\"\n",
    "    Cette fonction permis de nettoyer le background d'une image originale, elle procède comme suite au départ on éffectue un \n",
    "    GaussianBlur et en esnuite un threshold avec les résultat de threshold on crée un mask avec morphologyEx, qu'on appliquera \n",
    "    à notre image. \n",
    "    \n",
    "    paramètre :: \n",
    "    img : notre image original \n",
    "    \n",
    "    \"\"\"\n",
    "    #start = time.time()\n",
    "    \n",
    "    l = int(max(12,13))\n",
    "    u = int(max(13,13))\n",
    "     \n",
    "    edges = cv2.GaussianBlur(img, (5, 5), 3) # (21, 51), 3\n",
    "    edges = cv2.cvtColor(edges, cv2.COLOR_BGR2GRAY)\n",
    "    edges = cv2.Canny(edges, l, u)\n",
    "    \n",
    "    _, thresh = cv2.threshold(edges, 0, 255, cv2.THRESH_BINARY  + cv2.THRESH_OTSU)\n",
    "    kernel = cv2.getStructuringElement(cv2.MORPH_ELLIPSE, (5, 5)) #(5, 5)\n",
    "    mask = cv2.morphologyEx(thresh, cv2.MORPH_CLOSE, kernel, iterations=4)\n",
    "    \n",
    "    data = mask.tolist()\n",
    "    sys.setrecursionlimit(10**8) #(10**8)\n",
    "    for i in  range(len(data)):\n",
    "        for j in  range(len(data[i])):\n",
    "            if data[i][j] !=  255:\n",
    "                data[i][j] =  -1\n",
    "            else:\n",
    "                break\n",
    "        for j in  range(len(data[i])-1, -1, -1):\n",
    "            if data[i][j] !=  255:\n",
    "                data[i][j] =  -1\n",
    "            else:\n",
    "                break\n",
    "    image = np.array(data)\n",
    "    image[image !=  -1] =  255\n",
    "    image[image ==  -1] =  0\n",
    "\n",
    "    mask = np.array(image, np.uint8)\n",
    "\n",
    "    img_cleaned = cv2.bitwise_and(original, original, mask=mask)\n",
    "    img_cleaned[mask ==  0] =  255\n",
    "    \n",
    "    \n",
    "    #end = time.time()\n",
    "    #elapsed_time = end - start\n",
    "    \n",
    "    return img_cleaned #, elapsed_time"
   ]
  },
  {
   "cell_type": "code",
   "execution_count": null,
   "metadata": {},
   "outputs": [],
   "source": [
    "Img_cleaned = []\n",
    "\n",
    "for i in range(len(img_random)):\n",
    "    img = cv2.imread(path+os.listdir(path)[i]+'/'+img_random[i])\n",
    "    original = img\n",
    "\n",
    "    img_cleaned = RemoveBackground(img)\n",
    "    Img_cleaned.append(img_cleaned)\n",
    "    \n",
    "noms_classe = ['basophil','eosinophil','erythroblast','immature granulocytes','lymphocyte','monocyte','neutrophil',\n",
    "               'platelet']\n",
    "\n",
    "fig= plt.figure(figsize=(18,20))   \n",
    "for i in range(len(img_random)):        \n",
    "    # subplots\n",
    "    plt.subplot(4, 4, i+1)   \n",
    "    # Afficher l'image\n",
    "    plt.imshow(Img_cleaned[i])\n",
    "    # set the title to subplots\n",
    "    plt.gca().set_title(noms_classe[i],size=20) ; \n"
   ]
  },
  {
   "cell_type": "markdown",
   "metadata": {},
   "source": [
    "#### La méthode de nettoyage de background en utilisant \" cv2.getStructuringElement \" et \" cv2.morphologyEx \", ne marche pas bien sur nos images !!"
   ]
  },
  {
   "cell_type": "markdown",
   "metadata": {},
   "source": [
    "##  Filtrage du background par couleur"
   ]
  },
  {
   "cell_type": "code",
   "execution_count": null,
   "metadata": {},
   "outputs": [],
   "source": [
    "# Filtrage du background par couleur\n",
    "figure = plt.figure(figsize=(18,18)) \n",
    "\n",
    "filtered_image = []\n",
    "for i in range(len(img_random)):\n",
    "    img = cv2.imread(path+os.listdir(path)[i]+'/'+img_random[i])\n",
    "    img = cv2.cvtColor(img, cv2.COLOR_BGR2RGB) # on peut le faire en HSV et en LAB\n",
    "    lower_color = np.array([30, 0, 0])\n",
    "    upper_color = np.array([165,255,255])\n",
    "    mask_color = cv2.inRange(img, lower_color, upper_color)\n",
    "    res_red = cv2.bitwise_and(img,img, mask= mask_color)\n",
    "    plt.subplot(4,4,i+1)\n",
    "    plt.imshow(res_red);\n",
    "    plt.gca().set_title(noms_classe[i],size=20)\n",
    "    filtered_image.append(res_red)\n"
   ]
  },
  {
   "cell_type": "markdown",
   "metadata": {},
   "source": [
    "#### Cette méthode donne des résultats beaucoup mieux que la précédente, on arrive à bien resortir la cellule qui nous intresse."
   ]
  },
  {
   "cell_type": "code",
   "execution_count": null,
   "metadata": {},
   "outputs": [],
   "source": [
    "# faire un passage en noir et blanc "
   ]
  },
  {
   "cell_type": "markdown",
   "metadata": {},
   "source": [
    "# 5. Seuillage d'OTSU"
   ]
  },
  {
   "cell_type": "markdown",
   "metadata": {},
   "source": [
    "## 5.1 Seuillage d'OTSU sur les images HSV"
   ]
  },
  {
   "cell_type": "code",
   "execution_count": null,
   "metadata": {},
   "outputs": [],
   "source": [
    "TH_h = []\n",
    "TH_s = []\n",
    "TH_v = []\n",
    "\n",
    "for i in range(len(img_random)) :\n",
    "    h,s,v= cv2.split(Hsv[i])\n",
    "    ret_h, th_h = cv2.threshold(h,0,255,cv2.THRESH_BINARY+cv2.THRESH_OTSU)\n",
    "    ret_s, th_s = cv2.threshold(s,0,255,cv2.THRESH_BINARY+cv2.THRESH_OTSU)\n",
    "    ret_v, th_v = cv2.threshold(v,0,255,cv2.THRESH_BINARY+cv2.THRESH_OTSU)\n",
    "    TH_h.append(th_h)\n",
    "    TH_s.append(th_s)\n",
    "    TH_v.append(th_v)\n",
    "\n",
    "for j in range(len(img_random)) :\n",
    "    _, axis = plt.subplots(ncols=3, figsize=(18, 5))\n",
    "    axis[0].imshow(TH_h[j], 'gray')\n",
    "    axis[0].set_title(\"Teinte Seuillée\")\n",
    "    axis[1].imshow(TH_s[j], 'gray')\n",
    "    axis[1].set_title('Saturation Seuillée')\n",
    "    axis[2].imshow(TH_v[j], 'gray')\n",
    "    axis[2].set_title('Luminosité Seuillée');\n",
    "\n",
    "# On constate que la saturation nous permet de segmenter les cellules"
   ]
  },
  {
   "cell_type": "markdown",
   "metadata": {},
   "source": [
    "## 5.2. Seuillage d'OTSU sur les images LAB"
   ]
  },
  {
   "cell_type": "code",
   "execution_count": null,
   "metadata": {},
   "outputs": [],
   "source": [
    "# créer des arrays vides, ensuite les remplire avec les images suiller \n",
    "TH_l = []\n",
    "TH_a = []\n",
    "TH_b = []\n",
    "\n",
    "for i in range(len(img_random)) :\n",
    "    l,a,b= cv2.split(Lab[i])\n",
    "    ret_l, th_l = cv2.threshold(l,0,255,cv2.THRESH_BINARY+cv2.THRESH_OTSU)\n",
    "    ret_a, th_a = cv2.threshold(a,0,255,cv2.THRESH_BINARY+cv2.THRESH_OTSU)\n",
    "    ret_b, th_b = cv2.threshold(b,0,255,cv2.THRESH_BINARY+cv2.THRESH_OTSU)\n",
    "    TH_l.append(th_l)\n",
    "    TH_a.append(th_a)\n",
    "    TH_b.append(th_b)\n",
    "\n",
    "for j in range(len(img_random)) :\n",
    "    _, axis = plt.subplots(ncols=3, figsize=(18, 5))\n",
    "    axis[0].imshow(TH_l[j], 'gray')\n",
    "    axis[0].set_title(\"Teinte Seuillée\")\n",
    "    axis[1].imshow(TH_a[j], 'gray')\n",
    "    axis[1].set_title('Saturation Seuillée')\n",
    "    axis[2].imshow(TH_b[j], 'gray')\n",
    "    axis[2].set_title('Luminosité Seuillée');\n",
    "    \n",
    "# On constate que L et B segmentent bien les cellules"
   ]
  },
  {
   "cell_type": "markdown",
   "metadata": {},
   "source": [
    "# 6. Segmenatation en utilisant K-means et Mean Shift"
   ]
  },
  {
   "cell_type": "markdown",
   "metadata": {},
   "source": [
    "## 6.1. K-Means clustering avec OpenCV"
   ]
  },
  {
   "cell_type": "markdown",
   "metadata": {},
   "source": [
    "###  i. Images filtrer par couleur"
   ]
  },
  {
   "cell_type": "code",
   "execution_count": null,
   "metadata": {},
   "outputs": [],
   "source": [
    "#############----------------- K-MEANS sur les images à qui on a nettoyé le background en amont-----------------############# \n",
    "\n",
    "Z = [] ## Créer une liste où stocker nos images redimentionner\n",
    "Clustered_img = [] \n",
    "\n",
    "for i in range(len(img_random)) :\n",
    "    img =filtered_image[i] # Img_cleaned\n",
    "    \n",
    "    # redimentionner l'image en un array à deux dimension (hauteur*lrgeur,coleur)\n",
    "    z = img.reshape((-1,3))   \n",
    "    \n",
    "    # convertir de le type de l'array en 'float32' afin que les Kmeans de OpenCV le prenne en compte\n",
    "    z = np.float32(z) \n",
    "    Z.append(z)\n",
    "    # définir les critéres, nombre de clusters (K) et ensuite appliquer les K-Means\n",
    "    criteria = (cv2.TermCriteria_EPS + cv2.TermCriteria_MAX_ITER, 10, 1.0)\n",
    "    K = 2 # on met le nombre de clusters = 2 pour juste sortir les cellule\n",
    "    \n",
    "    # mettre les sorties de cv2.kmeans dans rets, labels, centroids\n",
    "    rets , labels , centroids = cv2.kmeans(z, K, None, criteria, 10, cv2.KMEANS_PP_CENTERS)\n",
    " \n",
    "    # revenir à la dimensions originale pour pouvoir afficher l'image\n",
    "    centroids = np.uint8(centroids)\n",
    "    res = centroids[labels.flatten()]\n",
    "    res2 = res.reshape((img.shape))\n",
    "    Clustered_img.append(res2)\n",
    "\n",
    "\n",
    "noms_classe = ['basophil','eosinophil','erythroblast','immature granulocytes','lymphocyte','monocyte','neutrophil',\n",
    "               'platelet']\n",
    "\n",
    "fig= plt.figure(figsize=(18,20))   \n",
    "for i in range(8):        \n",
    "    # subplots\n",
    "    plt.subplot(4, 4, i+1)   \n",
    "    # Afficher l'image  \n",
    "    plt.imshow(Clustered_img[i])\n",
    "    # set the title to subplots\n",
    "    plt.gca().set_title(noms_classe[i],size=20) ; \n"
   ]
  },
  {
   "cell_type": "markdown",
   "metadata": {},
   "source": [
    "### ii. Images HSV & LAB"
   ]
  },
  {
   "cell_type": "code",
   "execution_count": null,
   "metadata": {},
   "outputs": [],
   "source": [
    "# faire un lissage gaussien à nos images\n",
    "Img_blurred = []\n",
    "TH_l_blurred = []\n",
    "TH_s_blurred = []\n",
    "for j in range(len(img_random)) :\n",
    "    img= cv2.GaussianBlur(Img_gray[j], (3, 3), 0)\n",
    "    Img_blurred.append(img)\n",
    "    \n",
    "    th_l_blurred = cv2.GaussianBlur(TH_l[j], (3,3),0)\n",
    "    TH_l_blurred.append(th_l_blurred)\n",
    "    \n",
    "    th_s_blurred = cv2.GaussianBlur(TH_s[j], (3,3),0)\n",
    "    TH_s_blurred.append(th_s_blurred)\n",
    "    \n",
    "for j in range(len(img_random)) :\n",
    "    _, axis = plt.subplots(ncols=3, figsize=(18, 5))\n",
    "    axis[0].imshow(Img_blurred[j], 'gray')\n",
    "    axis[0].set_title(\"Original Seuillée & Floutée\")\n",
    "    axis[1].imshow(TH_l_blurred[j], 'gray')\n",
    "    axis[1].set_title('L Seuillée & Floutée')\n",
    "    axis[2].imshow(TH_s_blurred[j], 'gray')\n",
    "    axis[2].set_title('S Seuillée & Floutée');\n"
   ]
  },
  {
   "cell_type": "code",
   "execution_count": null,
   "metadata": {},
   "outputs": [],
   "source": [
    "#############----------------- K-MEANS sur les images HSV et LAB-----------------############# \n",
    "# redimensionner les images\n",
    "Img_blurred_rshpd = []\n",
    "TH_s_blurred_rshpd = []\n",
    "TH_l_blurred_rshpd = []\n",
    "\n",
    "for j in range(len(img_random)) :\n",
    "    Img_blurred_rshpd.append(Img_blurred[j].reshape(-1))\n",
    "    TH_s_blurred_rshpd.append(TH_s_blurred[j].reshape(-1))\n",
    "    TH_l_blurred_rshpd.append(TH_s_blurred[j].reshape(-1))\n",
    "\n",
    "#Conversion des images de nparray en float\n",
    "for j in range(len(img_random)) :\n",
    "    Img_blurred_rshpd[j] = np.float32(Img_blurred_rshpd[j])\n",
    "    TH_s_blurred_rshpd[j] = np.float32(TH_s_blurred_rshpd[j])\n",
    "    TH_l_blurred_rshpd[j] = np.float32(TH_l_blurred_rshpd[j])\n",
    "\n",
    "######-------------- Définition des paramètres --------------######\n",
    "criteria = (cv2.TERM_CRITERIA_EPS + cv2.TERM_CRITERIA_MAX_ITER, 100, 1.0)\n",
    "K = 2\n",
    "attempts=10\n",
    "\n",
    "Clustered_image = []\n",
    "Clustered_image_lab = []\n",
    "Clustered_image_hsv = []\n",
    "\n",
    "## Application des K-Means\n",
    "for i in range(len(img_random)) :\n",
    "    ret,label,center=cv2.kmeans(Img_blurred_rshpd[i],K,None,criteria,attempts,cv2.KMEANS_PP_CENTERS)\n",
    "    center = np.uint8(center)\n",
    "    res = center[label.flatten()]\n",
    "    result_image = res.reshape((Img_blurred[j].shape))\n",
    "    Clustered_image.append(result_image)\n",
    "    \n",
    "    ret_l,label_l,center_l=cv2.kmeans(TH_l_blurred_rshpd[i],K,None,criteria,attempts,cv2.KMEANS_PP_CENTERS)\n",
    "    center_l = np.uint8(center_l)\n",
    "    res_l = center[label_l.flatten()]\n",
    "    result_image_lab = res_l.reshape((TH_l_blurred[i].shape))\n",
    "    Clustered_image_lab.append(result_image_lab)\n",
    "    \n",
    "    ret_s,label_s,center_s=cv2.kmeans(TH_s_blurred_rshpd[i],K,None,criteria,attempts,cv2.KMEANS_PP_CENTERS)\n",
    "    center_s = np.uint8(center_s)\n",
    "    res_s = center[label_s.flatten()]\n",
    "    result_image_hsv = res_s.reshape((TH_s_blurred[i].shape))\n",
    "    Clustered_image_hsv.append(result_image_hsv)\n",
    "\n",
    "for j in range(len(img_random)) :\n",
    "    _, axis = plt.subplots(ncols=3, figsize=(18, 5))\n",
    "    axis[0].imshow(Clustered_image[j], 'gray')\n",
    "    axis[0].set_title(\"Original\")\n",
    "    axis[1].imshow(Clustered_image_lab[j], 'gray')\n",
    "    axis[1].set_title('LAB')\n",
    "    axis[2].imshow(Clustered_image_hsv[j], 'gray')\n",
    "    axis[2].set_title('HSV');\n",
    "\n",
    "# Graphique des centroïdes\n",
    "#plt.scatter(center[:, 0],center[:, 1], marker = \"o\", color = \"red\",s=30, linewidths = 1, zorder = 10)\n",
    "#plt.show()\n"
   ]
  },
  {
   "cell_type": "code",
   "execution_count": null,
   "metadata": {},
   "outputs": [],
   "source": [
    "#X Y R G B\n",
    "# faire un traitement d'images en X Y R G B pour la partie K-means et visualiser les centroids"
   ]
  },
  {
   "cell_type": "markdown",
   "metadata": {},
   "source": [
    "## 6.2. Segmentation par Mean Shift"
   ]
  },
  {
   "cell_type": "code",
   "execution_count": null,
   "metadata": {},
   "outputs": [],
   "source": [
    "figure = plt.figure(figsize=(18,18)) \n",
    "index_tmp = 1\n",
    "#index_filtered_img= 0\n",
    "for i in range(len(img_random)) :     # pour chaque index dans la liste\n",
    "    img = cv2.resize(filtered_image[i],(360,360))\n",
    "    img = cv2.cvtColor(img, cv2.COLOR_BGR2RGB)\n",
    "    plt.subplot(4,4,index_tmp)\n",
    "    plt.gca().set_title(noms_classe[i]+'- Base',size=20)\n",
    "    plt.imshow(img, 'gray');\n",
    "    index_tmp+=1\n",
    "    \n",
    "    # filtre de réduction du bruit\n",
    "    img = cv2.medianBlur(img, 3)\n",
    "\n",
    "    # aplatir l'image\n",
    "    flat_image = img.reshape(img.shape[0]*img.shape[1], img.shape[2])\n",
    "\n",
    "    # meanshift\n",
    "    bandwidth = estimate_bandwidth(flat_image, quantile=0.5, n_samples=100)\n",
    "    ms = MeanShift(bandwidth, max_iter=2000, bin_seeding=True)\n",
    "    ms.fit(flat_image)\n",
    "    labels=ms.labels_\n",
    "    centroids = ms.cluster_centers_\n",
    "\n",
    "    # Obtenir la couleur moyenne de chaque centroid\n",
    "    total = np.zeros((centroids.shape[0], 3), dtype=float)\n",
    "    count = np.zeros(total.shape, dtype=float)\n",
    "\n",
    "    # Pour chaque label dans le tableau des labels\n",
    "    for j, label in enumerate(labels):\n",
    "        #On ajoute les valeurs RGB de chaque pixel de l'image applatit\n",
    "        total[label] = total[label] + flat_image[j]\n",
    "        count[label] += 1\n",
    "\n",
    "    # On calcule la moyenne du RGB\n",
    "    avg = total/count\n",
    "    # On arrondi à l'entier\n",
    "    avg = np.uint8(avg)\n",
    "\n",
    "    # transposition de l'image étiquetée dans la couleur moyenne correspondante\n",
    "    result = avg[labels]\n",
    "    result = result.reshape((img.shape))\n",
    "\n",
    "    #Affichage du resultat\n",
    "    plt.subplot(4,4,index_tmp)\n",
    "    plt.gca().set_title(noms_classe[i] + ' - MS - k' + str(centroids.shape[0]))\n",
    "    plt.imshow(result, 'gray');\n",
    "    index_tmp+=1"
   ]
  },
  {
   "cell_type": "code",
   "execution_count": null,
   "metadata": {},
   "outputs": [],
   "source": []
  }
 ],
 "metadata": {
  "kernelspec": {
   "display_name": "Python 3",
   "language": "python",
   "name": "python3"
  },
  "language_info": {
   "codemirror_mode": {
    "name": "ipython",
    "version": 3
   },
   "file_extension": ".py",
   "mimetype": "text/x-python",
   "name": "python",
   "nbconvert_exporter": "python",
   "pygments_lexer": "ipython3",
   "version": "3.8.5"
  }
 },
 "nbformat": 4,
 "nbformat_minor": 4
}
