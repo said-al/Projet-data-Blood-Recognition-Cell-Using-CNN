{
 "cells": [
  {
   "cell_type": "code",
   "execution_count": 122,
   "id": "25dc6695-1aee-4230-8cef-c25d6cced77a",
   "metadata": {},
   "outputs": [],
   "source": [
    "import glob\n",
    "import cv2 # import OpenCV\n",
    "import pandas as pd\n",
    "import numpy as np"
   ]
  },
  {
   "cell_type": "code",
   "execution_count": 98,
   "id": "99acb182",
   "metadata": {},
   "outputs": [
    {
     "name": "stdout",
     "output_type": "stream",
     "text": [
      "25687\n"
     ]
    }
   ],
   "source": [
    "directory='data\\\\principal'\n",
    "directory=directory+'\\\\All\\\\All'\n",
    "files=np.concatenate([glob.glob(directory+'\\\\*.jpg')\n",
    "                      ,glob.glob(directory+'\\\\*\\\\.jpg')\n",
    "                      ,glob.glob(directory+'\\\\*\\\\*\\\\*.jpg')\n",
    "                      ,glob.glob(directory+'\\\\*\\\\*\\\\*\\\\*.jpg')\n",
    "                      ,glob.glob(directory+'\\\\*\\\\*\\\\*\\\\*\\\\*.jpg')\n",
    "                     ])\n",
    "print(len(files))"
   ]
  },
  {
   "cell_type": "code",
   "execution_count": 127,
   "id": "835f2185-f982-44db-8a4e-d3d4c21fd1f0",
   "metadata": {},
   "outputs": [
    {
     "data": {
      "text/plain": [
       "'data\\\\principal\\\\All\\\\All\\\\Patient_08\\\\Unsigned slides\\\\10027387745_003.jpg'"
      ]
     },
     "execution_count": 127,
     "metadata": {},
     "output_type": "execute_result"
    }
   ],
   "source": [
    "files[210]"
   ]
  },
  {
   "cell_type": "code",
   "execution_count": 148,
   "id": "d6321582-e85c-4a11-b5fe-da95e253c5a0",
   "metadata": {},
   "outputs": [],
   "source": [
    "patient_id,img_name,img_type,img_dim,img_height,img_width,cell_type,slide=[],[],[],[],[],[],[],[]\n",
    "k=0\n",
    "for file in files:\n",
    "    \n",
    "    # get information based on file path\n",
    "    f=file[len(directory)+1:]\n",
    "    spl=f.split('\\\\')\n",
    "    patient_id.append(spl[0])\n",
    "    img_name.append(spl[-1])\n",
    "    img_type.append(spl[-1][-3:])\n",
    "    spl =spl[1:-1]\n",
    "    for k in range(len(spl)-1):\n",
    "        if (spl[k] == 'Unsigned slides') | (spl[k] == 'Signed slides'):\n",
    "            spl = spl[k:]\n",
    "            \n",
    "    if (spl[0] != 'Unsigned slides') & (spl[0] != 'Signed slides'):\n",
    "        slidesignature = 'Unsigned slides'\n",
    "    else:\n",
    "        slidesignature = spl[0]\n",
    "    slide.append(slidesignature)\n",
    "    \n",
    "    if slidesignature == 'Signed slides':\n",
    "        cell_type.append(spl[1])\n",
    "    else:\n",
    "        cell_type.append('Unidentified')\n",
    "        \n",
    "    \n",
    "    # get information reading the file\n",
    "    img = cv2.imread(file,cv2.IMREAD_COLOR)\n",
    "    try:\n",
    "        height, width = img.shape[:2]\n",
    "    except AttributeError:\n",
    "        height, width = 0,0 # when Open CV return an error (NoneType object while reading the file)\n",
    "    \n",
    "    img_dim.append(str(height) + ' x ' + str(width))\n",
    "    img_height.append(height)\n",
    "    img_width.append(width)\n",
    "\n",
    "df=pd.DataFrame({'filename':files\n",
    "                ,'Patient_ID':patient_id\n",
    "                ,'slide_status':slide\n",
    "                ,'cell_type':cell_type\n",
    "                ,'img_name':img_name\n",
    "                ,'img_type':img_type\n",
    "                 ,'img_dim':img_dim\n",
    "                 ,'img_height':img_height\n",
    "                 ,'img_width':img_width\n",
    "                 ,'img_pixels':[h*w for h,w in zip(img_height,img_width)]\n",
    "                })\n",
    "\n",
    "df.slide_status=df.slide_status.apply(lambda x : x.split(' ')[0])\n"
   ]
  },
  {
   "cell_type": "code",
   "execution_count": 149,
   "id": "21f15f92-5217-4772-bdfa-f26ecaf2f4e4",
   "metadata": {},
   "outputs": [
    {
     "data": {
      "text/html": [
       "<div>\n",
       "<style scoped>\n",
       "    .dataframe tbody tr th:only-of-type {\n",
       "        vertical-align: middle;\n",
       "    }\n",
       "\n",
       "    .dataframe tbody tr th {\n",
       "        vertical-align: top;\n",
       "    }\n",
       "\n",
       "    .dataframe thead th {\n",
       "        text-align: right;\n",
       "    }\n",
       "</style>\n",
       "<table border=\"1\" class=\"dataframe\">\n",
       "  <thead>\n",
       "    <tr style=\"text-align: right;\">\n",
       "      <th></th>\n",
       "      <th>filename</th>\n",
       "      <th>Patient_ID</th>\n",
       "      <th>slide_status</th>\n",
       "      <th>cell_type</th>\n",
       "      <th>img_name</th>\n",
       "      <th>img_type</th>\n",
       "      <th>img_dim</th>\n",
       "      <th>img_height</th>\n",
       "      <th>img_width</th>\n",
       "      <th>img_pixels</th>\n",
       "    </tr>\n",
       "  </thead>\n",
       "  <tbody>\n",
       "    <tr>\n",
       "      <th>0</th>\n",
       "      <td>data\\principal\\All\\All\\Patient_00\\Unsigned sli...</td>\n",
       "      <td>Patient_00</td>\n",
       "      <td>Unsigned</td>\n",
       "      <td>Unidentified</td>\n",
       "      <td>10027293117_001.jpg</td>\n",
       "      <td>jpg</td>\n",
       "      <td>2960 x 2920</td>\n",
       "      <td>2960</td>\n",
       "      <td>2920</td>\n",
       "      <td>8643200</td>\n",
       "    </tr>\n",
       "    <tr>\n",
       "      <th>1</th>\n",
       "      <td>data\\principal\\All\\All\\Patient_00\\Unsigned sli...</td>\n",
       "      <td>Patient_00</td>\n",
       "      <td>Unsigned</td>\n",
       "      <td>Unidentified</td>\n",
       "      <td>10027293117_002.jpg</td>\n",
       "      <td>jpg</td>\n",
       "      <td>363 x 360</td>\n",
       "      <td>363</td>\n",
       "      <td>360</td>\n",
       "      <td>130680</td>\n",
       "    </tr>\n",
       "    <tr>\n",
       "      <th>2</th>\n",
       "      <td>data\\principal\\All\\All\\Patient_00\\Unsigned sli...</td>\n",
       "      <td>Patient_00</td>\n",
       "      <td>Unsigned</td>\n",
       "      <td>Unidentified</td>\n",
       "      <td>10027293117_003.jpg</td>\n",
       "      <td>jpg</td>\n",
       "      <td>363 x 360</td>\n",
       "      <td>363</td>\n",
       "      <td>360</td>\n",
       "      <td>130680</td>\n",
       "    </tr>\n",
       "    <tr>\n",
       "      <th>3</th>\n",
       "      <td>data\\principal\\All\\All\\Patient_00\\Unsigned sli...</td>\n",
       "      <td>Patient_00</td>\n",
       "      <td>Unsigned</td>\n",
       "      <td>Unidentified</td>\n",
       "      <td>10027293117_004.jpg</td>\n",
       "      <td>jpg</td>\n",
       "      <td>363 x 360</td>\n",
       "      <td>363</td>\n",
       "      <td>360</td>\n",
       "      <td>130680</td>\n",
       "    </tr>\n",
       "    <tr>\n",
       "      <th>4</th>\n",
       "      <td>data\\principal\\All\\All\\Patient_00\\Unsigned sli...</td>\n",
       "      <td>Patient_00</td>\n",
       "      <td>Unsigned</td>\n",
       "      <td>Unidentified</td>\n",
       "      <td>10027293117_005.jpg</td>\n",
       "      <td>jpg</td>\n",
       "      <td>363 x 360</td>\n",
       "      <td>363</td>\n",
       "      <td>360</td>\n",
       "      <td>130680</td>\n",
       "    </tr>\n",
       "  </tbody>\n",
       "</table>\n",
       "</div>"
      ],
      "text/plain": [
       "                                            filename  Patient_ID slide_status  \\\n",
       "0  data\\principal\\All\\All\\Patient_00\\Unsigned sli...  Patient_00     Unsigned   \n",
       "1  data\\principal\\All\\All\\Patient_00\\Unsigned sli...  Patient_00     Unsigned   \n",
       "2  data\\principal\\All\\All\\Patient_00\\Unsigned sli...  Patient_00     Unsigned   \n",
       "3  data\\principal\\All\\All\\Patient_00\\Unsigned sli...  Patient_00     Unsigned   \n",
       "4  data\\principal\\All\\All\\Patient_00\\Unsigned sli...  Patient_00     Unsigned   \n",
       "\n",
       "      cell_type             img_name img_type      img_dim  img_height  \\\n",
       "0  Unidentified  10027293117_001.jpg      jpg  2960 x 2920        2960   \n",
       "1  Unidentified  10027293117_002.jpg      jpg    363 x 360         363   \n",
       "2  Unidentified  10027293117_003.jpg      jpg    363 x 360         363   \n",
       "3  Unidentified  10027293117_004.jpg      jpg    363 x 360         363   \n",
       "4  Unidentified  10027293117_005.jpg      jpg    363 x 360         363   \n",
       "\n",
       "   img_width  img_pixels  \n",
       "0       2920     8643200  \n",
       "1        360      130680  \n",
       "2        360      130680  \n",
       "3        360      130680  \n",
       "4        360      130680  "
      ]
     },
     "execution_count": 149,
     "metadata": {},
     "output_type": "execute_result"
    }
   ],
   "source": [
    "df.head()"
   ]
  },
  {
   "cell_type": "code",
   "execution_count": 150,
   "id": "82496937-0f5e-49c7-882a-8482661e0d02",
   "metadata": {},
   "outputs": [
    {
     "name": "stdout",
     "output_type": "stream",
     "text": [
      "<class 'pandas.core.frame.DataFrame'>\n",
      "RangeIndex: 25687 entries, 0 to 25686\n",
      "Data columns (total 10 columns):\n",
      " #   Column        Non-Null Count  Dtype \n",
      "---  ------        --------------  ----- \n",
      " 0   filename      25687 non-null  object\n",
      " 1   Patient_ID    25687 non-null  object\n",
      " 2   slide_status  25687 non-null  object\n",
      " 3   cell_type     25687 non-null  object\n",
      " 4   img_name      25687 non-null  object\n",
      " 5   img_type      25687 non-null  object\n",
      " 6   img_dim       25687 non-null  object\n",
      " 7   img_height    25687 non-null  int64 \n",
      " 8   img_width     25687 non-null  int64 \n",
      " 9   img_pixels    25687 non-null  int64 \n",
      "dtypes: int64(3), object(7)\n",
      "memory usage: 2.0+ MB\n"
     ]
    },
    {
     "data": {
      "text/plain": [
       "filename        0\n",
       "Patient_ID      0\n",
       "slide_status    0\n",
       "cell_type       0\n",
       "img_name        0\n",
       "img_type        0\n",
       "img_dim         0\n",
       "img_height      0\n",
       "img_width       0\n",
       "img_pixels      0\n",
       "dtype: int64"
      ]
     },
     "execution_count": 150,
     "metadata": {},
     "output_type": "execute_result"
    }
   ],
   "source": [
    "df.info()\n",
    "df.isna().sum()"
   ]
  },
  {
   "cell_type": "code",
   "execution_count": 151,
   "id": "877f7a8a",
   "metadata": {},
   "outputs": [],
   "source": [
    "# df=pd.DataFrame({'filename':files})\n",
    "# df['Patient_ID']=df.filename.apply(lambda x: x.split('\\\\')[-4])\n",
    "# df['slide_o']=df.filename.apply(lambda x: x.split('\\\\')[-3])\n",
    "# df['cell_type_o']=df.filename.apply(lambda x: x.split('\\\\')[-2])\n",
    "# df['img']=df.filename.apply(lambda x: x.split('\\\\')[-1])\n",
    "# df['img_type']=df.filename.apply(lambda x: x.split('\\\\')[-1][-3:])\n",
    "# df"
   ]
  },
  {
   "cell_type": "code",
   "execution_count": 153,
   "id": "73763b71",
   "metadata": {},
   "outputs": [
    {
     "data": {
      "text/plain": [
       "Signed      15595\n",
       "Unsigned    10092\n",
       "Name: slide_status, dtype: int64"
      ]
     },
     "execution_count": 153,
     "metadata": {},
     "output_type": "execute_result"
    }
   ],
   "source": [
    "df.slide_status.value_counts()"
   ]
  },
  {
   "cell_type": "code",
   "execution_count": 154,
   "id": "0b2ae3e8",
   "metadata": {},
   "outputs": [
    {
     "data": {
      "text/plain": [
       "Unidentified               10116\n",
       "Lymphocyte                  3398\n",
       "Blast, no lineage spec      3310\n",
       "Smudge cells                2931\n",
       "Segmented neutrophils       2092\n",
       "Monocyte                    1319\n",
       "Promyelocyte                 688\n",
       "Erythroblast                 521\n",
       "Lymphocyte, variant          471\n",
       "Myelocyte                    181\n",
       "Band neutrophils             171\n",
       "Eosinophils                  108\n",
       "Metamyelocyte                 78\n",
       "Promonocyte                   71\n",
       "Giant thrombocyte             66\n",
       "Plasma cells                  58\n",
       "Basophil                      53\n",
       "Arifact                       25\n",
       "Thrombocyte aggregation       22\n",
       "Young Unidentified             7\n",
       "Prolymphocyte                  1\n",
       "Name: cell_type, dtype: int64"
      ]
     },
     "execution_count": 154,
     "metadata": {},
     "output_type": "execute_result"
    }
   ],
   "source": [
    "df.cell_type.value_counts()"
   ]
  },
  {
   "cell_type": "code",
   "execution_count": 155,
   "id": "9d11f863",
   "metadata": {},
   "outputs": [
    {
     "data": {
      "text/plain": [
       "jpg    25687\n",
       "Name: img_type, dtype: int64"
      ]
     },
     "execution_count": 155,
     "metadata": {},
     "output_type": "execute_result"
    }
   ],
   "source": [
    "df.img_type.value_counts()"
   ]
  },
  {
   "cell_type": "code",
   "execution_count": 158,
   "id": "7a232426",
   "metadata": {},
   "outputs": [],
   "source": [
    "# pour sauvegarder la table data.csv\n",
    "df.to_csv('data\\\\principal\\\\img_info.csv',index=False)"
   ]
  },
  {
   "cell_type": "code",
   "execution_count": null,
   "id": "b9b83190-0f7d-4bec-b0e0-161e5be34883",
   "metadata": {},
   "outputs": [],
   "source": []
  }
 ],
 "metadata": {
  "kernelspec": {
   "display_name": "Python 3 (ipykernel)",
   "language": "python",
   "name": "python3"
  },
  "language_info": {
   "codemirror_mode": {
    "name": "ipython",
    "version": 3
   },
   "file_extension": ".py",
   "mimetype": "text/x-python",
   "name": "python",
   "nbconvert_exporter": "python",
   "pygments_lexer": "ipython3",
   "version": "3.9.7"
  },
  "toc-autonumbering": true,
  "toc-showmarkdowntxt": false
 },
 "nbformat": 4,
 "nbformat_minor": 5
}
