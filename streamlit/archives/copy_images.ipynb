{
 "cells": [
  {
   "cell_type": "code",
   "execution_count": 57,
   "id": "3a170510",
   "metadata": {},
   "outputs": [],
   "source": [
    "import os\n",
    "import shutil\n",
    "import numpy as np\n",
    "\n",
    "def recursive_copy(src, dest):\n",
    "    \"\"\"\n",
    "    Copy each file from src dir to dest dir, including sub-directories.\n",
    "    \"\"\"\n",
    "    nb_images_per_folder = 50\n",
    "    list_files = os.listdir(src)\n",
    "    fileidx = np.random.choice(range(len(list_files)),nb_images_per_folder)\n",
    "    \n",
    "    for k,item in enumerate(list_files):\n",
    "        file_path = os.path.join(src, item)\n",
    "\n",
    "        # if item is a file, copy it\n",
    "        if os.path.isfile(file_path) and (k in fileidx):\n",
    "            shutil.copy(file_path, dest)\n",
    "\n",
    "        # else if item is a folder, recurse \n",
    "        elif os.path.isdir(file_path):\n",
    "            new_dest = os.path.join(dest, item)\n",
    "            try:\n",
    "                os.mkdir(new_dest)\n",
    "            except OSError:\n",
    "                None\n",
    "            recursive_copy(file_path, new_dest)"
   ]
  },
  {
   "cell_type": "code",
   "execution_count": 58,
   "id": "03d82f3e",
   "metadata": {},
   "outputs": [
    {
     "data": {
      "text/plain": [
       "['basophil',\n",
       " 'eosinophil',\n",
       " 'erythroblast',\n",
       " 'ig',\n",
       " 'lymphocyte',\n",
       " 'monocyte',\n",
       " 'neutrophil',\n",
       " 'platelet']"
      ]
     },
     "execution_count": 58,
     "metadata": {},
     "output_type": "execute_result"
    }
   ],
   "source": [
    "src=r\"C:\\Users\\luap_\\OneDrive\\Data_Science\\Projects\\bloody_spy_blast\\dataset\\PBC_dataset_normal_DIB\"\n",
    "os.listdir(src)"
   ]
  },
  {
   "cell_type": "code",
   "execution_count": 59,
   "id": "d4a0a45d",
   "metadata": {},
   "outputs": [
    {
     "data": {
      "text/plain": [
       "[]"
      ]
     },
     "execution_count": 59,
     "metadata": {},
     "output_type": "execute_result"
    }
   ],
   "source": [
    "dest=r\"C:\\Users\\luap_\\Documents\\GitHub\\Bloody_Spy_Blast\\streamlit\\data_sample\"\n",
    "os.listdir(dest)"
   ]
  },
  {
   "cell_type": "code",
   "execution_count": 60,
   "id": "6ef2a5c9",
   "metadata": {},
   "outputs": [],
   "source": [
    "recursive_copy(src, dest)"
   ]
  },
  {
   "cell_type": "code",
   "execution_count": null,
   "id": "d95f3ae1-40db-4e21-92e0-5d3ad93e2bd2",
   "metadata": {},
   "outputs": [],
   "source": []
  }
 ],
 "metadata": {
  "kernelspec": {
   "display_name": "Python 3 (ipykernel)",
   "language": "python",
   "name": "python3"
  },
  "language_info": {
   "codemirror_mode": {
    "name": "ipython",
    "version": 3
   },
   "file_extension": ".py",
   "mimetype": "text/x-python",
   "name": "python",
   "nbconvert_exporter": "python",
   "pygments_lexer": "ipython3",
   "version": "3.9.7"
  }
 },
 "nbformat": 4,
 "nbformat_minor": 5
}
